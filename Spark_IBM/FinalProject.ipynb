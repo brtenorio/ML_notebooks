{
  "cells": [
    {
      "cell_type": "markdown",
      "metadata": {
        "id": "03af1847-010b-4385-be36-a2d78b6e55a7"
      },
      "source": [
        "# Final Project: Data Analysis using Spark\n",
        "\n",
        "\n",
        "This final project is similar to the Practice Project you did. In this project, you will not be provided with hints or solutions. You will create a DataFrame by loading data from a CSV file and apply transformations and actions using Spark SQL. This needs to be achieved by performing the following tasks:\n",
        "\n",
        "- Task 1: Generate DataFrame from CSV data.\n",
        "- Task 2: Define a schema for the data.\n",
        "- Task 3: Display schema of DataFrame.\n",
        "- Task 4: Create a temporary view.\n",
        "- Task 5: Execute an SQL query.\n",
        "- Task 6: Calculate Average Salary by Department.\n",
        "- Task 7: Filter and Display IT Department Employees.\n",
        "- Task 8: Add 10% Bonus to Salaries.\n",
        "- Task 9: Find Maximum Salary by Age.\n",
        "- Task 10: Self-Join on Employee Data.\n",
        "- Task 11: Calculate Average Employee Age.\n",
        "- Task 12: Calculate Total Salary by Department.\n",
        "- Task 13: Sort Data by Age and Salary.\n",
        "- Task 14: Count Employees in Each Department.\n",
        "- Task 15: Filter Employees with the letter o in the Name.\n"
      ]
    },
    {
      "cell_type": "markdown",
      "metadata": {
        "id": "795324d6-5dd8-43a1-ba14-41907d46a188"
      },
      "source": [
        "### Prerequisites\n",
        "\n",
        "1. For this lab assignment, you will be using Python and Spark (PySpark). Therefore, it's essential to make sure that the following libraries are installed in your lab environment or within Skills Network (SN) Labs\n"
      ]
    },
    {
      "cell_type": "code",
      "metadata": {
        "id": "ff775a2a-8b3f-4fd9-adcf-6ba3d125ebd7"
      },
      "outputs": [],
      "source": [
        "# Installing required packages\n",
        "\n",
        "#!pip install pyspark findspark wget\n"
      ],
      "execution_count": 1
    },
    {
      "cell_type": "code",
      "metadata": {
        "id": "eb56c76d-5976-4a4c-9fc0-3781cabdda20"
      },
      "outputs": [],
      "source": [
        "import findspark\n",
        "\n",
        "findspark.init()"
      ],
      "execution_count": 2
    },
    {
      "cell_type": "code",
      "metadata": {
        "id": "606c1ba1-8fbe-4f23-a9d5-8fd1b00b7a3b"
      },
      "outputs": [],
      "source": [
        "# PySpark is the Spark API for Python. In this lab, we use PySpark to initialize the SparkContext.\n",
        "\n",
        "from pyspark import SparkContext, SparkConf\n",
        "\n",
        "from pyspark.sql import SparkSession"
      ],
      "execution_count": 3
    },
    {
      "cell_type": "code",
      "metadata": {
        "id": "38ddefbc-13d1-4ec1-9f10-b0d1534fb84f"
      },
      "outputs": [],
      "source": [
        "# Creating a SparkContext object\n",
        "\n",
        "sc = SparkContext.getOrCreate()\n",
        "\n",
        "# Creating a SparkSession\n",
        "\n",
        "spark = SparkSession \\\n",
        "    .builder \\\n",
        "    .appName(\"Python Spark DataFrames basic example\") \\\n",
        "    .config(\"spark.some.config.option\", \"some-value\") \\\n",
        "    .getOrCreate()"
      ],
      "execution_count": 4
    },
    {
      "cell_type": "markdown",
      "metadata": {
        "id": "2df9d7f9-7c8b-4ff9-8108-d1b103523fd2"
      },
      "source": [
        "2. Download the CSV data.\n"
      ]
    },
    {
      "cell_type": "code",
      "metadata": {
        "id": "81f43113-63af-4677-b02e-21bc9ae57123",
        "colab": {
          "base_uri": "https://localhost:8080/",
          "height": 36
        },
        "outputId": "c730a278-7d44-40d1-aec9-a52885f19147"
      },
      "outputs": [
        {
          "output_type": "execute_result",
          "data": {
            "text/plain": [
              "'employees (1).csv'"
            ],
            "application/vnd.google.colaboratory.intrinsic+json": {
              "type": "string"
            }
          },
          "metadata": {},
          "execution_count": 5
        }
      ],
      "source": [
        "# Download the CSV data first into a local `employees.csv` file\n",
        "import wget\n",
        "wget.download(\"https://cf-courses-data.s3.us.cloud-object-storage.appdomain.cloud/IBM-BD0225EN-SkillsNetwork/data/employees.csv\")"
      ],
      "execution_count": 5
    },
    {
      "cell_type": "markdown",
      "metadata": {
        "id": "08ed1d05-c8b8-4e1a-8eeb-ce6ae0348389"
      },
      "source": [
        "### Tasks\n"
      ]
    },
    {
      "cell_type": "markdown",
      "metadata": {
        "id": "f3d616e9-1643-461e-8643-8d8a6fae372d"
      },
      "source": [
        "#### Task 1: Generate a Spark DataFrame from the CSV data\n",
        "\n",
        "Read data from the provided CSV file, `employees.csv` and import it into a Spark DataFrame variable named `employees_df`.\n",
        "\n",
        "\n"
      ]
    },
    {
      "cell_type": "code",
      "metadata": {
        "id": "ae9f8cef-4fb3-4f4a-a4ca-66f11af0f7fd"
      },
      "outputs": [],
      "source": [
        "# Read data from the \"emp\" CSV file and import it into a DataFrame variable named \"employees_df\"\n",
        "\n",
        "employees_df = spark.read.csv(\"employees.csv\",header=True, inferSchema=True)\n"
      ],
      "execution_count": 6
    },
    {
      "cell_type": "markdown",
      "metadata": {
        "id": "7fb386c8-407d-42e6-bdb6-5ba328bc58b9"
      },
      "source": [
        "#### Task 2: Define a schema for the data\n",
        "\n",
        "Construct a schema for the input data and then utilize the defined schema to read the CSV file to create a DataFrame named `employees_df`.\n"
      ]
    },
    {
      "cell_type": "code",
      "metadata": {
        "id": "a5fae738-3189-4a90-8763-f9e18b6cbaad",
        "colab": {
          "base_uri": "https://localhost:8080/"
        },
        "outputId": "42a39e5d-eb99-4fbe-c882-e8d7e5082062"
      },
      "outputs": [
        {
          "output_type": "stream",
          "name": "stdout",
          "text": [
            "+------+--------+------+---+----------+\n",
            "|Emp_No|Emp_Name|Salary|Age|Department|\n",
            "+------+--------+------+---+----------+\n",
            "|   198|  Donald|  2600| 29|        IT|\n",
            "|   199| Douglas|  2600| 34|     Sales|\n",
            "|   200|Jennifer|  4400| 36| Marketing|\n",
            "|   201| Michael| 13000| 32|        IT|\n",
            "|   202|     Pat|  6000| 39|        HR|\n",
            "+------+--------+------+---+----------+\n",
            "only showing top 5 rows\n",
            "\n"
          ]
        }
      ],
      "source": [
        "# Define a Schema for the input data and read the file using the user-defined Schema\n",
        "\n",
        "employees_df.show(5)"
      ],
      "execution_count": 7
    },
    {
      "cell_type": "markdown",
      "metadata": {
        "id": "71ac10a7-4a18-40d3-baf7-f97e514440f8"
      },
      "source": [
        "#### Task 3: Display schema of DataFrame\n",
        "\n",
        "Display the schema of the `employees_df` DataFrame, showing all columns and their respective data types.\n"
      ]
    },
    {
      "cell_type": "code",
      "metadata": {
        "id": "72d7a48d-2a65-4826-a2c6-014df029a893",
        "colab": {
          "base_uri": "https://localhost:8080/"
        },
        "outputId": "ae211844-3dd3-4464-e604-adf53439aa57"
      },
      "outputs": [
        {
          "output_type": "stream",
          "name": "stdout",
          "text": [
            "root\n",
            " |-- Emp_No: integer (nullable = true)\n",
            " |-- Emp_Name: string (nullable = true)\n",
            " |-- Salary: integer (nullable = true)\n",
            " |-- Age: integer (nullable = true)\n",
            " |-- Department: string (nullable = true)\n",
            "\n"
          ]
        }
      ],
      "source": [
        "# Display all columns of the DataFrame, along with their respective data types\n",
        "employees_df.printSchema()\n"
      ],
      "execution_count": 8
    },
    {
      "cell_type": "markdown",
      "metadata": {
        "id": "9b2ce4b1-cb83-4a1b-a538-6470878ec530"
      },
      "source": [
        "#### Task 4: Create a temporary view\n",
        "\n",
        "Create a temporary view named `employees` for the `employees_df` DataFrame, enabling Spark SQL queries on the data.\n"
      ]
    },
    {
      "cell_type": "code",
      "metadata": {
        "id": "d905eb32-bd7d-445d-8f95-8e5c6f26cca7"
      },
      "outputs": [],
      "source": [
        "# Create a temporary view named \"employees\" for the DataFrame\n",
        "employees_df.createTempView(\"employees\")\n"
      ],
      "execution_count": 9
    },
    {
      "cell_type": "markdown",
      "metadata": {
        "id": "e96e2132-96f4-489f-9308-907c629ce9ea"
      },
      "source": [
        "#### Task 5: Execute an SQL query\n",
        "\n",
        "Compose and execute an SQL query to fetch the records from the `employees` view where the age of employees exceeds 30. Then, display the result of the SQL query, showcasing the filtered records.\n"
      ]
    },
    {
      "cell_type": "code",
      "metadata": {
        "id": "fc2aa96a-afb7-4ab0-8c21-c82dd6f87e59",
        "colab": {
          "base_uri": "https://localhost:8080/"
        },
        "outputId": "6a4d9cd8-2650-446c-b5e8-b7f615aaca41"
      },
      "outputs": [
        {
          "output_type": "stream",
          "name": "stdout",
          "text": [
            "+------+-----------+------+---+----------+\n",
            "|Emp_No|   Emp_Name|Salary|Age|Department|\n",
            "+------+-----------+------+---+----------+\n",
            "|   199|    Douglas|  2600| 34|     Sales|\n",
            "|   200|   Jennifer|  4400| 36| Marketing|\n",
            "|   201|    Michael| 13000| 32|        IT|\n",
            "|   202|        Pat|  6000| 39|        HR|\n",
            "|   203|      Susan|  6500| 36| Marketing|\n",
            "|   205|    Shelley| 12008| 33|   Finance|\n",
            "|   206|    William|  8300| 37|        IT|\n",
            "|   100|     Steven| 24000| 39|        IT|\n",
            "|   102|        Lex| 17000| 37| Marketing|\n",
            "|   103|  Alexander|  9000| 39| Marketing|\n",
            "|   104|      Bruce|  6000| 38|        IT|\n",
            "|   105|      David|  4800| 39|        IT|\n",
            "|   106|      Valli|  4800| 38|     Sales|\n",
            "|   107|      Diana|  4200| 35|     Sales|\n",
            "|   109|     Daniel|  9000| 35|        HR|\n",
            "|   110|       John|  8200| 31| Marketing|\n",
            "|   111|     Ismael|  7700| 32|        IT|\n",
            "|   112|Jose Manuel|  7800| 34|        HR|\n",
            "|   113|       Luis|  6900| 34|     Sales|\n",
            "|   116|     Shelli|  2900| 37|   Finance|\n",
            "+------+-----------+------+---+----------+\n",
            "only showing top 20 rows\n",
            "\n"
          ]
        }
      ],
      "source": [
        "# SQL query to fetch solely the records from the View where the age exceeds 30\n",
        "\n",
        "spark.sql(\"SELECT * FROM employees WHERE Age > 30\").show()"
      ],
      "execution_count": 10
    },
    {
      "cell_type": "markdown",
      "metadata": {
        "id": "ef503f99-9225-4631-8aa8-58435222be3c"
      },
      "source": [
        "#### Task 6: Calculate Average Salary by Department\n",
        "\n",
        "Compose an SQL query to retrieve the average salary of employees grouped by department. Display the result.\n"
      ]
    },
    {
      "cell_type": "code",
      "metadata": {
        "id": "2ed5bda9-2041-48f6-a847-94e8438b6bff",
        "colab": {
          "base_uri": "https://localhost:8080/"
        },
        "outputId": "1827ae19-075a-4aa5-d7e6-3a17aaf1a406"
      },
      "outputs": [
        {
          "output_type": "stream",
          "name": "stdout",
          "text": [
            "+----------+-----------------+\n",
            "|Department|      avg(Salary)|\n",
            "+----------+-----------------+\n",
            "|     Sales|5492.923076923077|\n",
            "|        HR|           5837.5|\n",
            "|   Finance|           5730.8|\n",
            "| Marketing|6633.333333333333|\n",
            "|        IT|           7400.0|\n",
            "+----------+-----------------+\n",
            "\n"
          ]
        }
      ],
      "source": [
        "# SQL query to calculate the average salary of employees grouped by department\n",
        "spark.sql(\"SELECT Department,AVG(Salary) FROM employees GROUP BY Department\").show()"
      ],
      "execution_count": 11
    },
    {
      "cell_type": "markdown",
      "metadata": {
        "id": "85327c81-b404-4efe-ae74-3418af3dbf47"
      },
      "source": [
        "#### Task 7: Filter and Display IT Department Employees\n",
        "\n",
        "Apply a filter on the `employees_df` DataFrame to select records where the department is `'IT'`. Display the filtered DataFrame.\n"
      ]
    },
    {
      "cell_type": "code",
      "metadata": {
        "id": "08d8c238-b4d4-4c71-811f-95ba82b75236",
        "colab": {
          "base_uri": "https://localhost:8080/"
        },
        "outputId": "546c4936-6cb5-4b23-d40c-56fd38fe1517"
      },
      "outputs": [
        {
          "output_type": "stream",
          "name": "stdout",
          "text": [
            "+------+--------+------+---+----------+\n",
            "|Emp_No|Emp_Name|Salary|Age|Department|\n",
            "+------+--------+------+---+----------+\n",
            "|   198|  Donald|  2600| 29|        IT|\n",
            "|   201| Michael| 13000| 32|        IT|\n",
            "|   206| William|  8300| 37|        IT|\n",
            "|   100|  Steven| 24000| 39|        IT|\n",
            "|   104|   Bruce|  6000| 38|        IT|\n",
            "|   105|   David|  4800| 39|        IT|\n",
            "|   111|  Ismael|  7700| 32|        IT|\n",
            "|   129|   Laura|  3300| 38|        IT|\n",
            "|   132|      TJ|  2100| 34|        IT|\n",
            "|   136|   Hazel|  2200| 29|        IT|\n",
            "+------+--------+------+---+----------+\n",
            "\n"
          ]
        }
      ],
      "source": [
        "# Apply a filter to select records where the department is 'IT'\n",
        "spark.sql(\"SELECT * FROM employees where Department = 'IT' \").show()"
      ],
      "execution_count": 12
    },
    {
      "cell_type": "markdown",
      "metadata": {
        "id": "14f5a92f-f7fb-4f4c-8b79-98b2d283b328"
      },
      "source": [
        "#### Task 8: Add 10% Bonus to Salaries\n",
        "\n",
        "Perform a transformation to add a new column named \"SalaryAfterBonus\" to the DataFrame. Calculate the new salary by adding a 10% bonus to each employee's salary.\n"
      ]
    },
    {
      "cell_type": "code",
      "metadata": {
        "id": "9e0c1219-962f-4e64-9431-b85a95e781dc",
        "colab": {
          "base_uri": "https://localhost:8080/"
        },
        "outputId": "3630dea3-e480-4b6c-ff68-24c9c6e7de7b"
      },
      "outputs": [
        {
          "output_type": "stream",
          "name": "stdout",
          "text": [
            "+------+--------+------+---+----------+----------------+\n",
            "|Emp_No|Emp_Name|Salary|Age|Department|SalaryAfterBonus|\n",
            "+------+--------+------+---+----------+----------------+\n",
            "|   198|  Donald|  2600| 29|        IT|          2860.0|\n",
            "|   199| Douglas|  2600| 34|     Sales|          2860.0|\n",
            "|   200|Jennifer|  4400| 36| Marketing|          4840.0|\n",
            "|   201| Michael| 13000| 32|        IT|         14300.0|\n",
            "|   202|     Pat|  6000| 39|        HR|          6600.0|\n",
            "+------+--------+------+---+----------+----------------+\n",
            "only showing top 5 rows\n",
            "\n"
          ]
        }
      ],
      "source": [
        "from pyspark.sql.functions import col\n",
        "\n",
        "# Add a new column \"SalaryAfterBonus\" with 10% bonus added to the original salary\n",
        "employees_df_bonus = employees_df.withColumn(\"SalaryAfterBonus\", col(\"Salary\") + (col(\"Salary\") * 0.1))\n",
        "\n",
        "employees_df_bonus.show(5)"
      ],
      "execution_count": 13
    },
    {
      "cell_type": "markdown",
      "metadata": {
        "id": "cd2bcea1-4de1-425f-b9c1-03675ce7c315"
      },
      "source": [
        "#### Task 9: Find Maximum Salary by Age\n",
        "\n",
        "Group the data by age and calculate the maximum salary for each age group. Display the result.\n"
      ]
    },
    {
      "cell_type": "code",
      "metadata": {
        "id": "7307d690-fedc-4b24-b128-44698cf72ce1",
        "colab": {
          "base_uri": "https://localhost:8080/"
        },
        "outputId": "b4df1202-5e62-44ba-f808-2f32d1687e18"
      },
      "outputs": [
        {
          "output_type": "stream",
          "name": "stdout",
          "text": [
            "+---+--------------+\n",
            "|Age|SalaryAgeGroup|\n",
            "+---+--------------+\n",
            "| 31|          8200|\n",
            "| 34|          7800|\n",
            "| 28|         12008|\n",
            "| 27|         17000|\n",
            "| 26|          3600|\n",
            "| 37|         17000|\n",
            "| 35|          9000|\n",
            "| 39|         24000|\n",
            "| 38|          6000|\n",
            "| 29|         10000|\n",
            "| 32|         13000|\n",
            "| 33|         12008|\n",
            "| 30|          8000|\n",
            "| 36|          7900|\n",
            "+---+--------------+\n",
            "\n"
          ]
        }
      ],
      "source": [
        "from pyspark.sql.functions import max, when, col, lit\n",
        "\n",
        "spark.sql(\"SELECT Age, MAX(Salary) as SalaryAgeGroup FROM employees GROUP BY Age\").show()"
      ],
      "execution_count": 14
    },
    {
      "cell_type": "code",
      "source": [
        "employees_df.groupBy(\"Age\").agg(max(col(\"Salary\")).alias(\"SalaryAgeGroup\")).show()"
      ],
      "metadata": {
        "colab": {
          "base_uri": "https://localhost:8080/"
        },
        "id": "Lftmtwy8Hhbd",
        "outputId": "0a968421-bf57-433b-e160-68e103d478ce"
      },
      "execution_count": 15,
      "outputs": [
        {
          "output_type": "stream",
          "name": "stdout",
          "text": [
            "+---+--------------+\n",
            "|Age|SalaryAgeGroup|\n",
            "+---+--------------+\n",
            "| 31|          8200|\n",
            "| 34|          7800|\n",
            "| 28|         12008|\n",
            "| 27|         17000|\n",
            "| 26|          3600|\n",
            "| 37|         17000|\n",
            "| 35|          9000|\n",
            "| 39|         24000|\n",
            "| 38|          6000|\n",
            "| 29|         10000|\n",
            "| 32|         13000|\n",
            "| 33|         12008|\n",
            "| 30|          8000|\n",
            "| 36|          7900|\n",
            "+---+--------------+\n",
            "\n"
          ]
        }
      ]
    },
    {
      "cell_type": "markdown",
      "metadata": {
        "id": "a83cbdd0-9dbc-40bf-ab98-adc525a1da89"
      },
      "source": [
        "#### Task 10: Self-Join on Employee Data\n",
        "\n",
        "Join the \"employees_df\" DataFrame with itself based on the \"Emp_No\" column. Display the result.\n"
      ]
    },
    {
      "cell_type": "code",
      "metadata": {
        "id": "0339f4a3-37d1-4c4e-8e9c-3939f9637f03",
        "colab": {
          "base_uri": "https://localhost:8080/"
        },
        "outputId": "4126fe73-f13e-4721-aaa3-c5625e10ebc8"
      },
      "outputs": [
        {
          "output_type": "stream",
          "name": "stdout",
          "text": [
            "+------+---------+------+---+----------+---------+------+---+----------+\n",
            "|Emp_No| Emp_Name|Salary|Age|Department| Emp_Name|Salary|Age|Department|\n",
            "+------+---------+------+---+----------+---------+------+---+----------+\n",
            "|   198|   Donald|  2600| 29|        IT|   Donald|  2600| 29|        IT|\n",
            "|   199|  Douglas|  2600| 34|     Sales|  Douglas|  2600| 34|     Sales|\n",
            "|   200| Jennifer|  4400| 36| Marketing| Jennifer|  4400| 36| Marketing|\n",
            "|   201|  Michael| 13000| 32|        IT|  Michael| 13000| 32|        IT|\n",
            "|   202|      Pat|  6000| 39|        HR|      Pat|  6000| 39|        HR|\n",
            "|   203|    Susan|  6500| 36| Marketing|    Susan|  6500| 36| Marketing|\n",
            "|   204|  Hermann| 10000| 29|   Finance|  Hermann| 10000| 29|   Finance|\n",
            "|   205|  Shelley| 12008| 33|   Finance|  Shelley| 12008| 33|   Finance|\n",
            "|   206|  William|  8300| 37|        IT|  William|  8300| 37|        IT|\n",
            "|   100|   Steven| 24000| 39|        IT|   Steven| 24000| 39|        IT|\n",
            "|   101|    Neena| 17000| 27|     Sales|    Neena| 17000| 27|     Sales|\n",
            "|   102|      Lex| 17000| 37| Marketing|      Lex| 17000| 37| Marketing|\n",
            "|   103|Alexander|  9000| 39| Marketing|Alexander|  9000| 39| Marketing|\n",
            "|   104|    Bruce|  6000| 38|        IT|    Bruce|  6000| 38|        IT|\n",
            "|   105|    David|  4800| 39|        IT|    David|  4800| 39|        IT|\n",
            "|   106|    Valli|  4800| 38|     Sales|    Valli|  4800| 38|     Sales|\n",
            "|   107|    Diana|  4200| 35|     Sales|    Diana|  4200| 35|     Sales|\n",
            "|   108|    Nancy| 12008| 28|     Sales|    Nancy| 12008| 28|     Sales|\n",
            "|   109|   Daniel|  9000| 35|        HR|   Daniel|  9000| 35|        HR|\n",
            "|   110|     John|  8200| 31| Marketing|     John|  8200| 31| Marketing|\n",
            "+------+---------+------+---+----------+---------+------+---+----------+\n",
            "only showing top 20 rows\n",
            "\n"
          ]
        }
      ],
      "source": [
        "# Join the DataFrame with itself based on the \"Emp_No\" column\n",
        "employees_df.join(employees_df, on=\"Emp_No\", how=\"inner\").show()\n",
        "\n"
      ],
      "execution_count": 16
    },
    {
      "cell_type": "markdown",
      "metadata": {
        "id": "e606e268-18b6-4eac-b4a9-415883a541ae"
      },
      "source": [
        "#### Task 11: Calculate Average Employee Age\n",
        "\n",
        "Calculate the average age of employees using the built-in aggregation function. Display the result.\n"
      ]
    },
    {
      "cell_type": "code",
      "metadata": {
        "id": "8fc046ec-9134-4916-95ea-dba4c7b0d61a",
        "colab": {
          "base_uri": "https://localhost:8080/"
        },
        "outputId": "71001fab-3f1e-43a0-9273-bb525d109318"
      },
      "outputs": [
        {
          "output_type": "stream",
          "name": "stdout",
          "text": [
            "+--------+\n",
            "|avg(Age)|\n",
            "+--------+\n",
            "|   33.56|\n",
            "+--------+\n",
            "\n"
          ]
        }
      ],
      "source": [
        "# Calculate the average age of employees\n",
        "from pyspark.sql.functions import avg\n",
        "\n",
        "employees_df.select(avg(col(\"Age\"))).show()"
      ],
      "execution_count": 17
    },
    {
      "cell_type": "code",
      "source": [
        "spark.sql(\"SELECT AVG(Age) FROM employees\").show()"
      ],
      "metadata": {
        "colab": {
          "base_uri": "https://localhost:8080/"
        },
        "id": "MMESjluNLMJO",
        "outputId": "45c6ef7c-b10a-4216-a63d-d3c3ab34f801"
      },
      "execution_count": 18,
      "outputs": [
        {
          "output_type": "stream",
          "name": "stdout",
          "text": [
            "+--------+\n",
            "|avg(Age)|\n",
            "+--------+\n",
            "|   33.56|\n",
            "+--------+\n",
            "\n"
          ]
        }
      ]
    },
    {
      "cell_type": "markdown",
      "metadata": {
        "id": "29be5221-1b31-4330-8f1d-e2a7dc9bae41"
      },
      "source": [
        "#### Task 12: Calculate Total Salary by Department\n",
        "\n",
        "Calculate the total salary for each department using the built-in aggregation function. Display the result.\n"
      ]
    },
    {
      "cell_type": "code",
      "metadata": {
        "id": "c14c2fae-3bec-4b49-9af0-ca545c586d45",
        "colab": {
          "base_uri": "https://localhost:8080/"
        },
        "outputId": "472b5fa0-8330-45f4-bebd-64bc4486f8e7"
      },
      "outputs": [
        {
          "output_type": "stream",
          "name": "stdout",
          "text": [
            "+----------+------------+\n",
            "|Department|SalaryByDept|\n",
            "+----------+------------+\n",
            "|     Sales|       71408|\n",
            "|        HR|       46700|\n",
            "|   Finance|       57308|\n",
            "| Marketing|       59700|\n",
            "|        IT|       74000|\n",
            "+----------+------------+\n",
            "\n"
          ]
        }
      ],
      "source": [
        "# Calculate the total salary for each department.\n",
        "from pyspark.sql.functions import sum\n",
        "\n",
        "employees_df.groupBy(\"Department\").agg(sum(col(\"Salary\")).alias(\"SalaryByDept\")).show()"
      ],
      "execution_count": 19
    },
    {
      "cell_type": "markdown",
      "metadata": {
        "id": "1b8f2021-2a6f-437f-8493-cb812a59815d"
      },
      "source": [
        "#### Task 13: Sort Data by Age and Salary\n",
        "\n",
        "Apply a transformation to sort the DataFrame by age in ascending order and then by salary in descending order. Display the sorted DataFrame.\n"
      ]
    },
    {
      "cell_type": "code",
      "metadata": {
        "id": "7a530351-d480-4d82-8bf1-31fd919a5e44",
        "colab": {
          "base_uri": "https://localhost:8080/"
        },
        "outputId": "18cbadb3-1056-4980-f51c-a91a76ed1c71"
      },
      "outputs": [
        {
          "output_type": "stream",
          "name": "stdout",
          "text": [
            "+------+---------+------+---+----------+\n",
            "|Emp_No| Emp_Name|Salary|Age|Department|\n",
            "+------+---------+------+---+----------+\n",
            "|   137|   Renske|  3600| 26| Marketing|\n",
            "|   101|    Neena| 17000| 27|     Sales|\n",
            "|   114|      Den| 11000| 27|   Finance|\n",
            "|   108|    Nancy| 12008| 28|     Sales|\n",
            "|   130|    Mozhe|  2800| 28| Marketing|\n",
            "|   126|    Irene|  2700| 28|        HR|\n",
            "|   204|  Hermann| 10000| 29|   Finance|\n",
            "|   115|Alexander|  3100| 29|   Finance|\n",
            "|   134|  Michael|  2900| 29|     Sales|\n",
            "|   198|   Donald|  2600| 29|        IT|\n",
            "|   140|   Joshua|  2500| 29|   Finance|\n",
            "|   136|    Hazel|  2200| 29|        IT|\n",
            "|   120|  Matthew|  8000| 30|        HR|\n",
            "|   110|     John|  8200| 31| Marketing|\n",
            "|   127|    James|  2400| 31|        HR|\n",
            "|   201|  Michael| 13000| 32|        IT|\n",
            "|   111|   Ismael|  7700| 32|        IT|\n",
            "|   119|    Karen|  2500| 32|   Finance|\n",
            "|   205|  Shelley| 12008| 33|   Finance|\n",
            "|   124|    Kevin|  5800| 33| Marketing|\n",
            "+------+---------+------+---+----------+\n",
            "only showing top 20 rows\n",
            "\n"
          ]
        }
      ],
      "source": [
        "# Sort the DataFrame by age in ascending order and then by salary in descending order\n",
        "\n",
        "spark.sql(\"SELECT * FROM employees ORDER BY Age ASC, Salary DESC\").show()"
      ],
      "execution_count": 20
    },
    {
      "cell_type": "code",
      "source": [
        "\n",
        "employees_df.orderBy([\"Age\", \"Salary\"], ascending=[1, 0]).show()"
      ],
      "metadata": {
        "colab": {
          "base_uri": "https://localhost:8080/"
        },
        "id": "7dBYEBdxRDEo",
        "outputId": "eeb34e86-c517-4fa6-b720-9915e6c506e8"
      },
      "execution_count": 21,
      "outputs": [
        {
          "output_type": "stream",
          "name": "stdout",
          "text": [
            "+------+---------+------+---+----------+\n",
            "|Emp_No| Emp_Name|Salary|Age|Department|\n",
            "+------+---------+------+---+----------+\n",
            "|   137|   Renske|  3600| 26| Marketing|\n",
            "|   101|    Neena| 17000| 27|     Sales|\n",
            "|   114|      Den| 11000| 27|   Finance|\n",
            "|   108|    Nancy| 12008| 28|     Sales|\n",
            "|   130|    Mozhe|  2800| 28| Marketing|\n",
            "|   126|    Irene|  2700| 28|        HR|\n",
            "|   204|  Hermann| 10000| 29|   Finance|\n",
            "|   115|Alexander|  3100| 29|   Finance|\n",
            "|   134|  Michael|  2900| 29|     Sales|\n",
            "|   198|   Donald|  2600| 29|        IT|\n",
            "|   140|   Joshua|  2500| 29|   Finance|\n",
            "|   136|    Hazel|  2200| 29|        IT|\n",
            "|   120|  Matthew|  8000| 30|        HR|\n",
            "|   110|     John|  8200| 31| Marketing|\n",
            "|   127|    James|  2400| 31|        HR|\n",
            "|   201|  Michael| 13000| 32|        IT|\n",
            "|   111|   Ismael|  7700| 32|        IT|\n",
            "|   119|    Karen|  2500| 32|   Finance|\n",
            "|   205|  Shelley| 12008| 33|   Finance|\n",
            "|   124|    Kevin|  5800| 33| Marketing|\n",
            "+------+---------+------+---+----------+\n",
            "only showing top 20 rows\n",
            "\n"
          ]
        }
      ]
    },
    {
      "cell_type": "markdown",
      "metadata": {
        "id": "4949fc08-a65f-454c-b226-d94b5b8672f9"
      },
      "source": [
        "#### Task 14: Count Employees in Each Department\n",
        "\n",
        "Calculate the number of employees in each department. Display the result.\n"
      ]
    },
    {
      "cell_type": "code",
      "metadata": {
        "id": "76108370-264c-4d11-8aa7-8b977d0e40c6",
        "colab": {
          "base_uri": "https://localhost:8080/"
        },
        "outputId": "0f107cea-be11-4c41-8280-c604c852e964"
      },
      "outputs": [
        {
          "output_type": "stream",
          "name": "stdout",
          "text": [
            "+----------+-----+\n",
            "|Department|count|\n",
            "+----------+-----+\n",
            "|     Sales|   13|\n",
            "|        HR|    8|\n",
            "|   Finance|   10|\n",
            "| Marketing|    9|\n",
            "|        IT|   10|\n",
            "+----------+-----+\n",
            "\n"
          ]
        }
      ],
      "source": [
        "from pyspark.sql.functions import count\n",
        "\n",
        "# Calculate the number of employees in each department\n",
        "\n",
        "employees_df.groupBy(\"Department\").count().show()"
      ],
      "execution_count": 22
    },
    {
      "cell_type": "markdown",
      "metadata": {
        "id": "909fe445-e57c-43f4-8604-84a422abc72c"
      },
      "source": [
        "#### Task 15: Filter Employees with the letter o in the Name\n",
        "\n",
        "Apply a filter to select records where the employee's name contains the letter `'o'`. Display the filtered DataFrame.\n"
      ]
    },
    {
      "cell_type": "code",
      "metadata": {
        "id": "a2ca2d20-e23d-42d4-96c5-4d78fbc9ca1e",
        "colab": {
          "base_uri": "https://localhost:8080/"
        },
        "outputId": "5ed39219-36d3-4b48-abd4-e645741b4574"
      },
      "outputs": [
        {
          "output_type": "stream",
          "name": "stdout",
          "text": [
            "+------+-----------+------+---+----------+\n",
            "|Emp_No|   Emp_Name|Salary|Age|Department|\n",
            "+------+-----------+------+---+----------+\n",
            "|   198|     Donald|  2600| 29|        IT|\n",
            "|   199|    Douglas|  2600| 34|     Sales|\n",
            "|   110|       John|  8200| 31| Marketing|\n",
            "|   112|Jose Manuel|  7800| 34|        HR|\n",
            "|   130|      Mozhe|  2800| 28| Marketing|\n",
            "|   133|      Jason|  3300| 38|     Sales|\n",
            "|   139|       John|  2700| 36|     Sales|\n",
            "|   140|     Joshua|  2500| 29|   Finance|\n",
            "+------+-----------+------+---+----------+\n",
            "\n"
          ]
        }
      ],
      "source": [
        "from pyspark.sql.functions import like\n",
        "# Apply a filter to select records where the employee's name contains the letter 'o'\n",
        "\n",
        "employees_df.filter(employees_df[\"Emp_Name\"].like(\"%o%\")).show()\n"
      ],
      "execution_count": 23
    },
    {
      "cell_type": "code",
      "source": [
        "# The equivalent sql query\n",
        "\n",
        "spark.sql(\"SELECT * FROM employees WHERE Emp_Name LIKE '%o%' \").show()\n"
      ],
      "metadata": {
        "colab": {
          "base_uri": "https://localhost:8080/"
        },
        "id": "oAl_TFrLa3JA",
        "outputId": "fdf4d929-8488-42b7-93c3-9c5f1547fcea"
      },
      "execution_count": 24,
      "outputs": [
        {
          "output_type": "stream",
          "name": "stdout",
          "text": [
            "+------+-----------+------+---+----------+\n",
            "|Emp_No|   Emp_Name|Salary|Age|Department|\n",
            "+------+-----------+------+---+----------+\n",
            "|   198|     Donald|  2600| 29|        IT|\n",
            "|   199|    Douglas|  2600| 34|     Sales|\n",
            "|   110|       John|  8200| 31| Marketing|\n",
            "|   112|Jose Manuel|  7800| 34|        HR|\n",
            "|   130|      Mozhe|  2800| 28| Marketing|\n",
            "|   133|      Jason|  3300| 38|     Sales|\n",
            "|   139|       John|  2700| 36|     Sales|\n",
            "|   140|     Joshua|  2500| 29|   Finance|\n",
            "+------+-----------+------+---+----------+\n",
            "\n"
          ]
        }
      ]
    },
    {
      "cell_type": "markdown",
      "source": [
        "Below is a boolean column showing true if the names contains `o`, else false."
      ],
      "metadata": {
        "id": "DTuwv2P3m7pr"
      }
    },
    {
      "cell_type": "code",
      "source": [
        "employees_df.select(employees_df[\"Emp_Name\"].like(\"%o%\")).show()"
      ],
      "metadata": {
        "colab": {
          "base_uri": "https://localhost:8080/"
        },
        "id": "qTd-FXgxmilF",
        "outputId": "5e746ffe-e883-4846-a615-01714b58b942"
      },
      "execution_count": 25,
      "outputs": [
        {
          "output_type": "stream",
          "name": "stdout",
          "text": [
            "+-----------------+\n",
            "|Emp_Name LIKE %o%|\n",
            "+-----------------+\n",
            "|             true|\n",
            "|             true|\n",
            "|            false|\n",
            "|            false|\n",
            "|            false|\n",
            "|            false|\n",
            "|            false|\n",
            "|            false|\n",
            "|            false|\n",
            "|            false|\n",
            "|            false|\n",
            "|            false|\n",
            "|            false|\n",
            "|            false|\n",
            "|            false|\n",
            "|            false|\n",
            "|            false|\n",
            "|            false|\n",
            "|            false|\n",
            "|             true|\n",
            "+-----------------+\n",
            "only showing top 20 rows\n",
            "\n"
          ]
        }
      ]
    }
  ],
  "metadata": {
    "kernelspec": {
      "display_name": "Python",
      "language": "python",
      "name": "conda-env-python-py"
    },
    "language_info": {
      "name": "python",
      "version": "3.7.12",
      "mimetype": "text/x-python",
      "codemirror_mode": {
        "name": "ipython",
        "version": 3
      },
      "pygments_lexer": "ipython3",
      "nbconvert_exporter": "python",
      "file_extension": ".py"
    },
    "prev_pub_hash": "aff0a6b4ec3a9cf15ae5d70a5c7ecac07e8a7f43b412a755232c9c99d1062fc8",
    "colab": {
      "provenance": []
    }
  },
  "nbformat": 4,
  "nbformat_minor": 0
}