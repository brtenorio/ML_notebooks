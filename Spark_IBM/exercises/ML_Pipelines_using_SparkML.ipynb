{
  "cells": [
    {
      "cell_type": "markdown",
      "metadata": {
        "id": "8movnNvPw653"
      },
      "source": [
        "## ML Pipelines using SparkML\n"
      ]
    },
    {
      "cell_type": "markdown",
      "metadata": {
        "id": "KQb13QgMw656"
      },
      "source": [
        "## __Table of Contents__\n",
        "\n",
        "<ol>\n",
        "  <li>\n",
        "    <a href=\"#Objectives\">Objectives\n",
        "    </a>\n",
        "  </li>\n",
        "  <li>\n",
        "    <a href=\"#Datasets\">Datasets\n",
        "    </a>\n",
        "  </li>\n",
        "  <li>\n",
        "    <a href=\"#Setup\">Setup\n",
        "    </a>\n",
        "    <ol>\n",
        "      <li>\n",
        "        <a href=\"#Installing-Required-Libraries\">Installing Required Libraries\n",
        "        </a>\n",
        "      </li>\n",
        "      <li>\n",
        "        <a href=\"#Importing-Required-Libraries\">Importing Required Libraries\n",
        "        </a>\n",
        "      </li>\n",
        "    </ol>\n",
        "  </li>\n",
        "  <li>\n",
        "    <a href=\"#Examples\">Examples\n",
        "    </a>\n",
        "    <ol>\n",
        "    <li>\n",
        "      <a href=\"#Task-1---Load-data-set\">Task 1 - Load data set\n",
        "      </a>\n",
        "    </li>\n",
        "    <li>\n",
        "      <a href=\"#Task-2---Define-pipeline-stages\">Task 2 - Define pipeline stages\n",
        "      </a>\n",
        "    </li>\n",
        "    <li>\n",
        "      <a href=\"#Task-3---Build-the-pipeline\">Task 3 - Build the pipeline\n",
        "      </a>\n",
        "    </li>\n",
        "    <li>\n",
        "      <a href=\"#Task-4---Split-the-data\">Task 4 - Split the data\n",
        "      </a>\n",
        "    </li>\n",
        "    <li>\n",
        "      <a href=\"#Task-5---Fit-the-pipeline\">Task 5 - Fit the pipeline\n",
        "      </a>\n",
        "    </li>\n",
        "    <li>\n",
        "      <a href=\"#Task-6---Evaluate-the-model\">Task 6 - Evaluate the model\n",
        "      </a>\n",
        "    </li>\n",
        "    </ol>\n",
        "  </li>\n",
        "  <li>\n",
        "    <a href=\"#Exercises\">Exercises\n",
        "    </a>\n",
        "  </li>\n",
        "  <ol>\n",
        "    <li>\n",
        "      <a href=\"#Exercise-1---Load-data-set\">Exercise 1 - Load data set\n",
        "      </a>\n",
        "    </li>\n",
        "    <li>\n",
        "      <a href=\"#Exercise-2---Define-pipeline-stages\">Exercise 2 - Define pipeline stages\n",
        "      </a>\n",
        "    </li>\n",
        "    <li>\n",
        "      <a href=\"#Exercise-3---Build-the-pipeline\">Exercise 3 - Build the pipeline\n",
        "      </a>\n",
        "    </li>\n",
        "    <li>\n",
        "      <a href=\"#Exercise-4---Split-the-data\">Exercise 4 - Split the data\n",
        "      </a>\n",
        "    </li>\n",
        "    <li>\n",
        "      <a href=\"#Exercise-5---Fit-the-pipeline\">Exercise 5 - Fit the pipeline\n",
        "      </a>\n",
        "    </li>\n",
        "    <li>\n",
        "      <a href=\"#Exercise-6---Evaluate-the-model\">Exercise 6 - Evaluate the model\n",
        "      </a>\n",
        "    </li>\n",
        "  </ol>\n",
        "</ol>\n"
      ]
    },
    {
      "cell_type": "markdown",
      "metadata": {
        "id": "y2MngTA_w657"
      },
      "source": [
        "## Objectives\n",
        "\n",
        "After completing this lab you will be able to:\n",
        "\n",
        " - Create a machine learning pipeline.\n",
        " - Add stages to the pipeline.\n",
        " - Run the pipeline.\n",
        " - Create a machine learning pipeline for regression.\n",
        " - Create a machine learning pipeline for classification.\n"
      ]
    },
    {
      "cell_type": "markdown",
      "metadata": {
        "id": "upaTBE_Nw657"
      },
      "source": [
        "## Datasets\n",
        "\n",
        "In this lab you will be using dataset(s):\n",
        "\n",
        " - Modified version of car mileage dataset. Original dataset available at https://archive.ics.uci.edu/ml/datasets/auto+mpg\n",
        "  - Modified version of iris dataset. Original dataset available at https://archive.ics.uci.edu/ml/datasets/Iris\n"
      ]
    },
    {
      "cell_type": "markdown",
      "metadata": {
        "id": "PbvUix6Nw658"
      },
      "source": [
        "----\n"
      ]
    },
    {
      "cell_type": "markdown",
      "metadata": {
        "id": "OuAw5FKpw658"
      },
      "source": [
        "## Setup\n"
      ]
    },
    {
      "cell_type": "code",
      "execution_count": 1,
      "metadata": {
        "id": "LQT1vd2Dw659"
      },
      "outputs": [],
      "source": [
        "!pip install pyspark==3.1.2 -q\n",
        "!pip install findspark -q"
      ]
    },
    {
      "cell_type": "markdown",
      "metadata": {
        "id": "Vus-eUv3w65-"
      },
      "source": [
        "### Importing Required Libraries\n",
        "\n",
        "_We recommend you import all required libraries in one place (here):_\n"
      ]
    },
    {
      "cell_type": "code",
      "execution_count": 2,
      "metadata": {
        "id": "kGxXaCTGw65-"
      },
      "outputs": [],
      "source": [
        "# You can also use this section to suppress warnings generated by your code:\n",
        "def warn(*args, **kwargs):\n",
        "    pass\n",
        "import warnings\n",
        "warnings.warn = warn\n",
        "warnings.filterwarnings('ignore')\n",
        "\n",
        "# FindSpark simplifies the process of using Apache Spark with Python\n",
        "\n",
        "import findspark\n",
        "findspark.init()\n",
        "\n",
        "#import functions/Classes for sparkml\n",
        "\n",
        "from pyspark.ml.regression import LinearRegression\n",
        "from pyspark.ml.classification import LogisticRegression\n",
        "\n",
        "from pyspark.ml.feature import VectorAssembler\n",
        "from pyspark.ml.feature import StandardScaler\n",
        "from pyspark.ml.feature import StringIndexer\n",
        "\n",
        "from pyspark.sql import SparkSession\n",
        "\n",
        "\n",
        "# import functions/Classes for pipeline creation\n",
        "\n",
        "from pyspark.ml import Pipeline\n",
        "\n",
        "# import functions/Classes for metrics\n",
        "from pyspark.ml.evaluation import RegressionEvaluator\n",
        "from pyspark.ml.evaluation import MulticlassClassificationEvaluator\n"
      ]
    },
    {
      "cell_type": "markdown",
      "metadata": {
        "id": "4w4lXku-w65_"
      },
      "source": [
        "# Examples\n"
      ]
    },
    {
      "cell_type": "markdown",
      "metadata": {
        "id": "xeYNLzT2w65_"
      },
      "source": [
        "## Task 1 - Load data set\n"
      ]
    },
    {
      "cell_type": "markdown",
      "metadata": {
        "id": "FEtgbaNdw65_"
      },
      "source": [
        "Create SparkSession\n"
      ]
    },
    {
      "cell_type": "code",
      "execution_count": 3,
      "metadata": {
        "id": "DwTpjz8Jw65_"
      },
      "outputs": [],
      "source": [
        "#Ignore any warnings by SparkSession command\n",
        "\n",
        "spark = SparkSession.builder.appName(\"ML Pipeline Example\").getOrCreate()"
      ]
    },
    {
      "cell_type": "markdown",
      "metadata": {
        "id": "7LdJK_Hkw65_"
      },
      "source": [
        "Download the data file\n"
      ]
    },
    {
      "cell_type": "code",
      "execution_count": 4,
      "metadata": {
        "id": "_SxV10ETw66A",
        "colab": {
          "base_uri": "https://localhost:8080/"
        },
        "outputId": "2efb3a6d-aa90-4636-9a15-54ec1ba1b816"
      },
      "outputs": [
        {
          "output_type": "stream",
          "name": "stdout",
          "text": [
            "--2024-06-20 18:04:03--  https://cf-courses-data.s3.us.cloud-object-storage.appdomain.cloud/IBM-BD0231EN-SkillsNetwork/datasets/mpg.csv\n",
            "Resolving cf-courses-data.s3.us.cloud-object-storage.appdomain.cloud (cf-courses-data.s3.us.cloud-object-storage.appdomain.cloud)... 169.63.118.104\n",
            "Connecting to cf-courses-data.s3.us.cloud-object-storage.appdomain.cloud (cf-courses-data.s3.us.cloud-object-storage.appdomain.cloud)|169.63.118.104|:443... connected.\n",
            "HTTP request sent, awaiting response... 200 OK\n",
            "Length: 13891 (14K) [text/csv]\n",
            "Saving to: ‘mpg.csv.1’\n",
            "\n",
            "mpg.csv.1           100%[===================>]  13.57K  --.-KB/s    in 0s      \n",
            "\n",
            "2024-06-20 18:04:04 (219 MB/s) - ‘mpg.csv.1’ saved [13891/13891]\n",
            "\n"
          ]
        }
      ],
      "source": [
        "!wget https://cf-courses-data.s3.us.cloud-object-storage.appdomain.cloud/IBM-BD0231EN-SkillsNetwork/datasets/mpg.csv\n"
      ]
    },
    {
      "cell_type": "markdown",
      "metadata": {
        "id": "dRp_ytspw66A"
      },
      "source": [
        "Load the dataset into the spark dataframe\n"
      ]
    },
    {
      "cell_type": "code",
      "execution_count": 5,
      "metadata": {
        "id": "AOvF65BCw66A"
      },
      "outputs": [],
      "source": [
        "# using the spark.read.csv function we load the data into a dataframe.\n",
        "# the header = True mentions that there is a header row in out csv file\n",
        "# the inferSchema = True, tells spark to automatically find out the data types of the columns.\n",
        "\n",
        "# Load mpg dataset\n",
        "mpg_data = spark.read.csv(\"mpg.csv\", header=True, inferSchema=True)\n"
      ]
    },
    {
      "cell_type": "markdown",
      "metadata": {
        "id": "xeOKgIyRw66A"
      },
      "source": [
        "Print the schema of the dataset\n"
      ]
    },
    {
      "cell_type": "code",
      "execution_count": 6,
      "metadata": {
        "id": "YNeCE434w66A",
        "colab": {
          "base_uri": "https://localhost:8080/"
        },
        "outputId": "f591f6a1-3bb5-4da8-9ebb-84fc98e0e6a2"
      },
      "outputs": [
        {
          "output_type": "stream",
          "name": "stdout",
          "text": [
            "root\n",
            " |-- MPG: double (nullable = true)\n",
            " |-- Cylinders: integer (nullable = true)\n",
            " |-- Engine Disp: double (nullable = true)\n",
            " |-- Horsepower: integer (nullable = true)\n",
            " |-- Weight: integer (nullable = true)\n",
            " |-- Accelerate: double (nullable = true)\n",
            " |-- Year: integer (nullable = true)\n",
            " |-- Origin: string (nullable = true)\n",
            "\n"
          ]
        }
      ],
      "source": [
        "mpg_data.printSchema()"
      ]
    },
    {
      "cell_type": "markdown",
      "metadata": {
        "id": "enB8YuOGw66A"
      },
      "source": [
        "Show top 5 rows from the dataset\n"
      ]
    },
    {
      "cell_type": "code",
      "execution_count": 7,
      "metadata": {
        "id": "ey4FJr9Xw66B",
        "colab": {
          "base_uri": "https://localhost:8080/"
        },
        "outputId": "2e7f58ee-4fe6-4d0a-c804-8166cd301846"
      },
      "outputs": [
        {
          "output_type": "stream",
          "name": "stdout",
          "text": [
            "+----+---------+-----------+----------+------+----------+----+--------+\n",
            "| MPG|Cylinders|Engine Disp|Horsepower|Weight|Accelerate|Year|  Origin|\n",
            "+----+---------+-----------+----------+------+----------+----+--------+\n",
            "|15.0|        8|      390.0|       190|  3850|       8.5|  70|American|\n",
            "|21.0|        6|      199.0|        90|  2648|      15.0|  70|American|\n",
            "|18.0|        6|      199.0|        97|  2774|      15.5|  70|American|\n",
            "|16.0|        8|      304.0|       150|  3433|      12.0|  70|American|\n",
            "|14.0|        8|      455.0|       225|  3086|      10.0|  70|American|\n",
            "+----+---------+-----------+----------+------+----------+----+--------+\n",
            "only showing top 5 rows\n",
            "\n"
          ]
        }
      ],
      "source": [
        "mpg_data.show(5)"
      ]
    },
    {
      "cell_type": "markdown",
      "metadata": {
        "id": "f5Uf6Wkuw66B"
      },
      "source": [
        "## Task 2 - Define pipeline stages\n"
      ]
    },
    {
      "cell_type": "code",
      "execution_count": 8,
      "metadata": {
        "id": "rYyjfN5Aw66B"
      },
      "outputs": [],
      "source": [
        "# Stage 1 - assemble the input columns into a single vector\n",
        "vectorAssembler = VectorAssembler(inputCols=[\"Weight\", \"Horsepower\", \"Engine Disp\"], outputCol=\"features\")\n",
        "# Stage 2 - scale the features using standard scaler\n",
        "scaler = StandardScaler(inputCol=\"features\", outputCol=\"scaledFeatures\")\n",
        "# Stage 3 - create a linear regression instance\n",
        "lr = LinearRegression(featuresCol=\"scaledFeatures\", labelCol=\"MPG\")"
      ]
    },
    {
      "cell_type": "markdown",
      "metadata": {
        "id": "69O57yOPw66B"
      },
      "source": [
        "## Task 3 - Build the pipeline\n"
      ]
    },
    {
      "cell_type": "code",
      "execution_count": 9,
      "metadata": {
        "id": "l4QQIl21w66B"
      },
      "outputs": [],
      "source": [
        "# Build the pipeline\n",
        "# All the stages of the pipeline are mentioned in the order of execution.\n",
        "pipeline = Pipeline(stages=[vectorAssembler, scaler, lr])"
      ]
    },
    {
      "cell_type": "markdown",
      "metadata": {
        "id": "68flsPclw66B"
      },
      "source": [
        "## Task 4 - Split the data\n"
      ]
    },
    {
      "cell_type": "code",
      "execution_count": 10,
      "metadata": {
        "id": "z6LE_31mw66B"
      },
      "outputs": [],
      "source": [
        "# Split the data into training and testing sets\n",
        "(trainingData, testData) = mpg_data.randomSplit([0.7, 0.3], seed=42)"
      ]
    },
    {
      "cell_type": "markdown",
      "metadata": {
        "id": "0ar66JM9w66C"
      },
      "source": [
        "## Task 5 - Fit the pipeline\n"
      ]
    },
    {
      "cell_type": "code",
      "execution_count": 11,
      "metadata": {
        "id": "ITHaTiXOw66C"
      },
      "outputs": [],
      "source": [
        "# Fit the pipeline to the training data\n",
        "\n",
        "model = pipeline.fit(trainingData)"
      ]
    },
    {
      "cell_type": "markdown",
      "metadata": {
        "id": "RQWbbf8jw66C"
      },
      "source": [
        "## Task 6 - Evaluate the model\n"
      ]
    },
    {
      "cell_type": "markdown",
      "metadata": {
        "id": "7CXV1EX5w66C"
      },
      "source": [
        "Make predictions on the testing data\n"
      ]
    },
    {
      "cell_type": "code",
      "execution_count": 12,
      "metadata": {
        "id": "aFW8cuArw66C"
      },
      "outputs": [],
      "source": [
        "\n",
        "predictions = model.transform(testData)"
      ]
    },
    {
      "cell_type": "markdown",
      "metadata": {
        "id": "EcIcsO6bw66C"
      },
      "source": [
        "Print the rmse value\n"
      ]
    },
    {
      "cell_type": "code",
      "execution_count": 13,
      "metadata": {
        "id": "MBDmOyqww66C",
        "colab": {
          "base_uri": "https://localhost:8080/"
        },
        "outputId": "cfdfeda9-b8a6-423f-bc5d-67983825e86b"
      },
      "outputs": [
        {
          "output_type": "stream",
          "name": "stdout",
          "text": [
            "Root Mean Squared Error (RMSE) = 3.8756646183839334\n"
          ]
        }
      ],
      "source": [
        "\n",
        "evaluator = RegressionEvaluator(labelCol=\"MPG\", predictionCol=\"prediction\", metricName=\"rmse\")\n",
        "rmse = evaluator.evaluate(predictions)\n",
        "print(\"Root Mean Squared Error (RMSE) =\", rmse)"
      ]
    },
    {
      "cell_type": "markdown",
      "metadata": {
        "id": "rnNCbaJHw66D"
      },
      "source": [
        "Stop Spark Session\n"
      ]
    },
    {
      "cell_type": "code",
      "execution_count": 28,
      "metadata": {
        "id": "NWR9NfElw66D"
      },
      "outputs": [],
      "source": [
        "spark.stop()"
      ]
    },
    {
      "cell_type": "markdown",
      "metadata": {
        "id": "gjOuZdaMw66D"
      },
      "source": [
        "# Exercises\n"
      ]
    },
    {
      "cell_type": "markdown",
      "metadata": {
        "id": "tYTsMzZsw66D"
      },
      "source": [
        "### Exercise 1 - Load data set\n"
      ]
    },
    {
      "cell_type": "markdown",
      "metadata": {
        "id": "pAtQgo0uw66D"
      },
      "source": [
        "Create SparkSession with appname \"ML Pipeline Exercise\"\n"
      ]
    },
    {
      "cell_type": "code",
      "execution_count": 29,
      "metadata": {
        "id": "Co8PmupPw66D"
      },
      "outputs": [],
      "source": [
        "spark = SparkSession.builder.appName(\"ML Pipeline Exercise\").getOrCreate()"
      ]
    },
    {
      "cell_type": "markdown",
      "metadata": {
        "id": "qb8d1KVjw66E"
      },
      "source": [
        "Download the iris data set\n"
      ]
    },
    {
      "cell_type": "code",
      "execution_count": 16,
      "metadata": {
        "id": "Qhu7C9vqw66E",
        "colab": {
          "base_uri": "https://localhost:8080/"
        },
        "outputId": "e7880fc6-e521-4715-b160-83efa46b9562"
      },
      "outputs": [
        {
          "output_type": "stream",
          "name": "stdout",
          "text": [
            "--2024-06-20 18:04:21--  https://cf-courses-data.s3.us.cloud-object-storage.appdomain.cloud/IBM-BD0231EN-SkillsNetwork/datasets/iris.csv\n",
            "Resolving cf-courses-data.s3.us.cloud-object-storage.appdomain.cloud (cf-courses-data.s3.us.cloud-object-storage.appdomain.cloud)... 198.23.119.245\n",
            "Connecting to cf-courses-data.s3.us.cloud-object-storage.appdomain.cloud (cf-courses-data.s3.us.cloud-object-storage.appdomain.cloud)|198.23.119.245|:443... connected.\n",
            "HTTP request sent, awaiting response... 200 OK\n",
            "Length: 4612 (4.5K) [text/csv]\n",
            "Saving to: ‘iris.csv.1’\n",
            "\n",
            "iris.csv.1          100%[===================>]   4.50K  --.-KB/s    in 0s      \n",
            "\n",
            "2024-06-20 18:04:22 (578 MB/s) - ‘iris.csv.1’ saved [4612/4612]\n",
            "\n"
          ]
        }
      ],
      "source": [
        "!wget https://cf-courses-data.s3.us.cloud-object-storage.appdomain.cloud/IBM-BD0231EN-SkillsNetwork/datasets/iris.csv\n"
      ]
    },
    {
      "cell_type": "markdown",
      "metadata": {
        "id": "KQ3wEm49w66E"
      },
      "source": [
        "Load the dataset into the spark dataframe\n"
      ]
    },
    {
      "cell_type": "code",
      "execution_count": 30,
      "metadata": {
        "id": "lO5qcf1Iw66E"
      },
      "outputs": [],
      "source": [
        "\n",
        "iris_data = spark.read.csv(\"iris.csv\", inferSchema=True, header=True)\n"
      ]
    },
    {
      "cell_type": "markdown",
      "metadata": {
        "id": "wDD7Kmuyw66F"
      },
      "source": [
        "Print the schema of the dataset\n"
      ]
    },
    {
      "cell_type": "code",
      "execution_count": 31,
      "metadata": {
        "id": "izcOamotw66F",
        "colab": {
          "base_uri": "https://localhost:8080/"
        },
        "outputId": "1f0f3ef2-94aa-45bf-e1b3-f9e237c1bd08"
      },
      "outputs": [
        {
          "output_type": "stream",
          "name": "stdout",
          "text": [
            "root\n",
            " |-- SepalLengthCm: double (nullable = true)\n",
            " |-- SepalWidthCm: double (nullable = true)\n",
            " |-- PetalLengthCm: double (nullable = true)\n",
            " |-- PetalWidthCm: double (nullable = true)\n",
            " |-- Species: string (nullable = true)\n",
            "\n"
          ]
        }
      ],
      "source": [
        "iris_data.printSchema()"
      ]
    },
    {
      "cell_type": "markdown",
      "metadata": {
        "id": "J0O-iPxIw66F"
      },
      "source": [
        "#Notice that the \"Species\" column is a string column\n"
      ]
    },
    {
      "cell_type": "markdown",
      "metadata": {
        "id": "cI5278cew66F"
      },
      "source": [
        "Show top 5 rows from the dataset\n"
      ]
    },
    {
      "cell_type": "code",
      "execution_count": 32,
      "metadata": {
        "id": "Ad4aIIK6w66F",
        "colab": {
          "base_uri": "https://localhost:8080/"
        },
        "outputId": "d35bbd80-61c7-4a60-c020-159b78dfefb7"
      },
      "outputs": [
        {
          "output_type": "stream",
          "name": "stdout",
          "text": [
            "+-------------+------------+-------------+------------+-----------+\n",
            "|SepalLengthCm|SepalWidthCm|PetalLengthCm|PetalWidthCm|    Species|\n",
            "+-------------+------------+-------------+------------+-----------+\n",
            "|          5.1|         3.5|          1.4|         0.2|Iris-setosa|\n",
            "|          4.9|         3.0|          1.4|         0.2|Iris-setosa|\n",
            "|          4.7|         3.2|          1.3|         0.2|Iris-setosa|\n",
            "|          4.6|         3.1|          1.5|         0.2|Iris-setosa|\n",
            "|          5.0|         3.6|          1.4|         0.2|Iris-setosa|\n",
            "+-------------+------------+-------------+------------+-----------+\n",
            "only showing top 5 rows\n",
            "\n"
          ]
        }
      ],
      "source": [
        "iris_data.show(5)"
      ]
    },
    {
      "cell_type": "markdown",
      "metadata": {
        "id": "U7A0nYnnw66F"
      },
      "source": [
        "### Exercise 2 - Define pipeline stages\n"
      ]
    },
    {
      "cell_type": "markdown",
      "metadata": {
        "id": "CVCzEQDGw66F"
      },
      "source": [
        "Stage 1 - Create an indexer stage using StringIndexer that will convert the Species column into a numeric column named \"label\"\n"
      ]
    },
    {
      "cell_type": "code",
      "execution_count": 33,
      "metadata": {
        "id": "lWMS6J02w66G"
      },
      "outputs": [],
      "source": [
        "indexer = StringIndexer(inputCol=\"Species\", outputCol=\"label\")"
      ]
    },
    {
      "cell_type": "markdown",
      "metadata": {
        "id": "wERSYxGKw66G"
      },
      "source": [
        "Stage 2 - Create a vectorAssembler stage that creates a feature vector named features using \"SepalLengthCm\", \"SepalWidthCm\", \"PetalLengthCm\",\"PetalWidthCm\"\n"
      ]
    },
    {
      "cell_type": "code",
      "execution_count": 34,
      "metadata": {
        "id": "M1w8BajHw66G"
      },
      "outputs": [],
      "source": [
        "\n",
        "vectorAssembler = VectorAssembler(inputCols=[\"SepalLengthCm\",\"SepalWidthCm\",\"PetalLengthCm\",\"PetalWidthCm\"], outputCol=\"features\")\n"
      ]
    },
    {
      "cell_type": "markdown",
      "metadata": {
        "id": "fAKAsdTpw66H"
      },
      "source": [
        "Stage 3 - Create a scaler stage that scales the features using standard scaler, name the output columns as scaledFeatures\n"
      ]
    },
    {
      "cell_type": "code",
      "execution_count": 35,
      "metadata": {
        "id": "3cITnQ2pw66H"
      },
      "outputs": [],
      "source": [
        "\n",
        "scaler = StandardScaler(inputCol=\"features\", outputCol=\"scaledFeatures\", withStd=True, withMean=True)"
      ]
    },
    {
      "cell_type": "markdown",
      "metadata": {
        "id": "I7hE_m7qw66H"
      },
      "source": [
        "Stage 4 - Create a logistic regression stage using featuresCol=\"scaledFeatures\", labelCol=\"label\"\n"
      ]
    },
    {
      "cell_type": "code",
      "execution_count": 36,
      "metadata": {
        "id": "azW49X5kw66H"
      },
      "outputs": [],
      "source": [
        "\n",
        "classifier = LogisticRegression(featuresCol=\"scaledFeatures\", labelCol=\"label\")"
      ]
    },
    {
      "cell_type": "markdown",
      "metadata": {
        "id": "rNUXxB6Ow66I"
      },
      "source": [
        "### Exercise 3 - Build the pipeline\n"
      ]
    },
    {
      "cell_type": "markdown",
      "metadata": {
        "id": "LQ6RBTbpw66I"
      },
      "source": [
        "Build a pipeline with all the four stages created earlier.\n"
      ]
    },
    {
      "cell_type": "code",
      "execution_count": 41,
      "metadata": {
        "id": "96wtQ4Fhw66I"
      },
      "outputs": [],
      "source": [
        "pipeline = Pipeline(stages=[indexer, vectorAssembler, scaler, classifier])"
      ]
    },
    {
      "cell_type": "markdown",
      "metadata": {
        "id": "J7ROq0nfw66I"
      },
      "source": [
        "### Exercise 4 - Split the data\n"
      ]
    },
    {
      "cell_type": "markdown",
      "metadata": {
        "id": "FxieccYFw66I"
      },
      "source": [
        "Split the data into training and testing sets\n"
      ]
    },
    {
      "cell_type": "code",
      "execution_count": 38,
      "metadata": {
        "id": "KxpLQlEuw66I"
      },
      "outputs": [],
      "source": [
        "(trainingData, testData) = iris_data.randomSplit([0.7, 0.3], seed=42)"
      ]
    },
    {
      "cell_type": "markdown",
      "metadata": {
        "id": "CYknma8Dw66I"
      },
      "source": [
        "### Exercise 5 - Fit the pipeline\n"
      ]
    },
    {
      "cell_type": "markdown",
      "metadata": {
        "id": "pLFFBuCaw66J"
      },
      "source": [
        "Fit the pipeline to the training data\n"
      ]
    },
    {
      "cell_type": "code",
      "execution_count": 42,
      "metadata": {
        "id": "4BmjOWzuw66J"
      },
      "outputs": [],
      "source": [
        "model = pipeline.fit(trainingData)"
      ]
    },
    {
      "cell_type": "markdown",
      "metadata": {
        "id": "4xXzNfCRw66J"
      },
      "source": [
        "### Exercise 6 - Evaluate the model\n"
      ]
    },
    {
      "cell_type": "markdown",
      "metadata": {
        "id": "x6kepNTcw66J"
      },
      "source": [
        "Make predictions on the testing data\n"
      ]
    },
    {
      "cell_type": "code",
      "execution_count": 43,
      "metadata": {
        "id": "63GposdEw66J"
      },
      "outputs": [],
      "source": [
        "\n",
        "predictions = model.transform(testData)\n"
      ]
    },
    {
      "cell_type": "markdown",
      "metadata": {
        "id": "3OaGbpLiw66K"
      },
      "source": [
        "# Evaluate model performance\n"
      ]
    },
    {
      "cell_type": "markdown",
      "metadata": {
        "id": "UUR_LULJw66K"
      },
      "source": [
        "Print the RMSE value\n"
      ]
    },
    {
      "cell_type": "code",
      "execution_count": 44,
      "metadata": {
        "id": "RWrUf58Jw66K",
        "colab": {
          "base_uri": "https://localhost:8080/"
        },
        "outputId": "07670228-6b28-4687-ec66-df738d7cd30e"
      },
      "outputs": [
        {
          "output_type": "stream",
          "name": "stdout",
          "text": [
            "Accuracy = 0.9782608695652174\n"
          ]
        }
      ],
      "source": [
        "evaluator = MulticlassClassificationEvaluator(labelCol=\"label\", predictionCol=\"prediction\", metricName=\"accuracy\")\n",
        "accuracy = evaluator.evaluate(predictions)\n",
        "print(\"Accuracy =\", accuracy)\n"
      ]
    },
    {
      "cell_type": "markdown",
      "metadata": {
        "id": "SeNO2Q7aw66K"
      },
      "source": [
        "Stop Spark Session\n"
      ]
    },
    {
      "cell_type": "code",
      "execution_count": 45,
      "metadata": {
        "id": "5A7Mj6Y4w66K"
      },
      "outputs": [],
      "source": [
        "spark.stop()"
      ]
    }
  ],
  "metadata": {
    "kernelspec": {
      "display_name": "Python",
      "language": "python",
      "name": "conda-env-python-py"
    },
    "language_info": {
      "codemirror_mode": {
        "name": "ipython",
        "version": 3
      },
      "file_extension": ".py",
      "mimetype": "text/x-python",
      "name": "python",
      "nbconvert_exporter": "python",
      "pygments_lexer": "ipython3",
      "version": "3.7.12"
    },
    "colab": {
      "provenance": []
    }
  },
  "nbformat": 4,
  "nbformat_minor": 0
}