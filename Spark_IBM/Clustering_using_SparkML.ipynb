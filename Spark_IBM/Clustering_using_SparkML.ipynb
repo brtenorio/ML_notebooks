{
  "cells": [
    {
      "cell_type": "markdown",
      "metadata": {
        "id": "0a7fa041-e272-4548-8d28-3a20fab663be"
      },
      "source": [
        "## Clustering using SparkML\n"
      ]
    },
    {
      "cell_type": "markdown",
      "metadata": {
        "id": "18823293-91b1-4a45-9632-cf5ec2c239aa"
      },
      "source": [
        "<p style='color: red'>The purpose of this lab is to show you how to use SparkML to cluster data.\n"
      ]
    },
    {
      "cell_type": "markdown",
      "metadata": {
        "id": "af953304-46c8-4936-abc1-54f3e2288c84"
      },
      "source": [
        "## __Table of Contents__\n",
        "<ol>\n",
        "  <li>\n",
        "    <a href=\"#Objectives\">Objectives\n",
        "    </a>\n",
        "  </li>\n",
        "  <li>\n",
        "    <a href=\"#Datasets\">Datasets\n",
        "    </a>\n",
        "  </li>\n",
        "  <li>\n",
        "    <a href=\"#Setup\">Setup\n",
        "    </a>\n",
        "    <ol>\n",
        "      <li>\n",
        "        <a href=\"#Installing-Required-Libraries\">Installing Required Libraries\n",
        "        </a>\n",
        "      </li>\n",
        "      <li>\n",
        "        <a href=\"#Importing-Required-Libraries\">Importing Required Libraries\n",
        "        </a>\n",
        "      </li>\n",
        "    </ol>\n",
        "  </li>\n",
        "  <li>\n",
        "    <a href=\"#Examples\">Examples\n",
        "    </a>\n",
        "    <ol>\n",
        "      <li>\n",
        "        <a href=\"#Task-1---Create-a-spark-session\">Task 1 - Create a spark session\n",
        "        </a>\n",
        "      </li>\n",
        "      <li>\n",
        "        <a href=\"#Task-2---Load-the-data-in-a-csv-file-into-a-dataframe\">Task 2 - Load the data in a csv file into a dataframe\n",
        "        </a>\n",
        "      </li>\n",
        "      <li>\n",
        "        <a href=\"#Task-3---Create-a-feature-vector\">Task 3 - Create a feature vector\n",
        "        </a>\n",
        "      </li>\n",
        "      <li>\n",
        "        <a href=\"#Task-4---Create-a-clustering-model\">Task 4 - Create a clustering model\n",
        "        </a>\n",
        "      </li>\n",
        "      <li>\n",
        "        <a href=\"#Task-5---Print-Cluster-Centers\">Task 5 - Print Cluster Centers\n",
        "        </a>\n",
        "      </li>\n",
        "    </ol>\n",
        "  </li>\n",
        "  <li>\n",
        "    <a href=\"#Exercises\">Exercises\n",
        "    </a>\n",
        "  </li>\n",
        "  <ol>\n",
        "    <li>\n",
        "      <a href=\"#Exercise-1---Create-a-spark-session\">Exercise 1 - Create a spark session\n",
        "      </a>\n",
        "    </li>\n",
        "    <li>\n",
        "      <a href=\"#Exercise-2---Load-the-data-in-a-csv-file-into-a-dataframe\">Exercise 2 - Load the data in a csv file into a dataframe\n",
        "      </a>\n",
        "    </li>\n",
        "    <li>\n",
        "      <a href=\"#Exercise-3---Create-a-feature-vector\">Exercise 3 - Create a feature vector\n",
        "      </a>\n",
        "    </li>\n",
        "    <li>\n",
        "      <a href=\"#Exercise-4---Create-a-clustering-model\">Exercise 4 - Create a clustering model\n",
        "      </a>\n",
        "    </li>\n",
        "    <li>\n",
        "      <a href=\"#Exercise-5---Print-Cluster-Centers\">Exercise 5 - Print Cluster Centers\n",
        "      </a>\n",
        "    </li>\n",
        "  </ol>\n",
        "</ol>\n"
      ]
    },
    {
      "cell_type": "markdown",
      "metadata": {
        "id": "482b3bd0-f718-41e0-8089-188094601cda"
      },
      "source": [
        "## Objectives\n",
        "\n",
        "After completing this lab you will be able to:\n",
        "\n",
        " - Use PySpark to connect to a spark cluster.\n",
        " - Create a spark session.\n",
        " - Read a csv file into a data frame.\n",
        " - Use KMeans algorithm to cluster the data\n",
        " - Stop the spark session\n",
        "\n",
        "\n",
        "\n"
      ]
    },
    {
      "cell_type": "markdown",
      "metadata": {
        "id": "9f1b0723-00a1-493c-bf17-687defdd1fbc"
      },
      "source": [
        "## Datasets\n",
        "\n",
        "In this lab you will be using dataset(s):\n",
        "\n",
        " - Modified version of Wholesale customers dataset. Original dataset available at https://archive.ics.uci.edu/ml/datasets/Wholesale+customers\n",
        " - Seeds dataset. Available at https://archive.ics.uci.edu/ml/datasets/seeds\n"
      ]
    },
    {
      "cell_type": "markdown",
      "metadata": {
        "id": "ee974338-c66f-4338-beba-37861fd76f1f"
      },
      "source": [
        "----\n"
      ]
    },
    {
      "cell_type": "markdown",
      "metadata": {
        "id": "5d15a1a0-b031-46cd-9104-2eba6709d4da"
      },
      "source": [
        "## Setup\n"
      ]
    },
    {
      "cell_type": "code",
      "metadata": {
        "id": "5547b8eb-e727-408a-a2d7-cbc2d97a0dfa"
      },
      "outputs": [],
      "source": [
        "!pip install pyspark==3.1.2 -q\n",
        "!pip install findspark -q"
      ],
      "execution_count": 8
    },
    {
      "cell_type": "markdown",
      "metadata": {
        "id": "0f7b3502-40f9-47dd-bdd8-c6ec42389985"
      },
      "source": [
        "### Importing Required Libraries\n",
        "\n",
        "_We recommend you import all required libraries in one place (here):_\n"
      ]
    },
    {
      "cell_type": "code",
      "source": [
        "# You can also use this section to suppress warnings generated by your code:\n",
        "def warn(*args, **kwargs):\n",
        "    pass\n",
        "import warnings\n",
        "warnings.warn = warn\n",
        "warnings.filterwarnings('ignore')\n",
        "\n",
        "# FindSpark simplifies the process of using Apache Spark with Python\n",
        "\n",
        "import findspark\n",
        "findspark.init()\n",
        "\n",
        "#import functions/Classes for sparkml\n",
        "\n",
        "from pyspark.ml.clustering import KMeans\n",
        "from pyspark.ml.feature import VectorAssembler\n",
        "\n",
        "from pyspark.sql import SparkSession"
      ],
      "metadata": {
        "id": "ORrzYvlkJsT2"
      },
      "execution_count": 9,
      "outputs": []
    },
    {
      "cell_type": "markdown",
      "metadata": {
        "id": "ca90dbb5-4767-43b3-b863-a0a843a94c9b"
      },
      "source": [
        "## Examples\n"
      ]
    },
    {
      "cell_type": "markdown",
      "metadata": {
        "id": "5a257fef-b26e-4dfd-80a1-378f522e8f51"
      },
      "source": [
        "## Task 1 - Create a spark session\n"
      ]
    },
    {
      "cell_type": "code",
      "source": [
        "#Create SparkSession\n",
        "#Ignore any warnings by SparkSession command\n",
        "\n",
        "spark = SparkSession.builder.appName(\"Clustering using SparkML\").getOrCreate()"
      ],
      "metadata": {
        "id": "yMi-XFULJzle"
      },
      "execution_count": 10,
      "outputs": []
    },
    {
      "cell_type": "markdown",
      "metadata": {
        "id": "9b06cff8-61fd-48d8-b5f6-4bfa1742e904"
      },
      "source": [
        "## Task 2 - Load the data in a csv file into a dataframe\n"
      ]
    },
    {
      "cell_type": "markdown",
      "metadata": {
        "id": "70e82be0-5b23-4b95-901f-573610bb0ea3"
      },
      "source": [
        "Download the data file\n"
      ]
    },
    {
      "cell_type": "code",
      "metadata": {
        "id": "1e0b89b8-2108-45df-a19d-166268d80084",
        "colab": {
          "base_uri": "https://localhost:8080/"
        },
        "outputId": "c354d8ee-c16f-4bca-b948-d25fe1ebeea4"
      },
      "outputs": [
        {
          "output_type": "stream",
          "name": "stdout",
          "text": [
            "--2024-06-18 07:02:39--  https://cf-courses-data.s3.us.cloud-object-storage.appdomain.cloud/IBM-BD0231EN-SkillsNetwork/datasets/customers.csv\n",
            "Resolving cf-courses-data.s3.us.cloud-object-storage.appdomain.cloud (cf-courses-data.s3.us.cloud-object-storage.appdomain.cloud)... 198.23.119.245\n",
            "Connecting to cf-courses-data.s3.us.cloud-object-storage.appdomain.cloud (cf-courses-data.s3.us.cloud-object-storage.appdomain.cloud)|198.23.119.245|:443... connected.\n",
            "HTTP request sent, awaiting response... 200 OK\n",
            "Length: 8909 (8.7K) [text/csv]\n",
            "Saving to: ‘customers.csv’\n",
            "\n",
            "customers.csv       100%[===================>]   8.70K  --.-KB/s    in 0s      \n",
            "\n",
            "2024-06-18 07:02:40 (170 MB/s) - ‘customers.csv’ saved [8909/8909]\n",
            "\n"
          ]
        }
      ],
      "source": [
        "!wget https://cf-courses-data.s3.us.cloud-object-storage.appdomain.cloud/IBM-BD0231EN-SkillsNetwork/datasets/customers.csv\n"
      ],
      "execution_count": 12
    },
    {
      "cell_type": "markdown",
      "metadata": {
        "id": "ea4dffc9-e9ab-4771-b1c0-fd4927de4cfc"
      },
      "source": [
        "Load the dataset into the spark dataframe\n"
      ]
    },
    {
      "cell_type": "code",
      "source": [
        "# using the spark.read.csv function we load the data into a dataframe.\n",
        "# the header = True mentions that there is a header row in out csv file\n",
        "# the inferSchema = True, tells spark to automatically find out the data types of the columns.\n",
        "\n",
        "# Load customers dataset\n",
        "customer_data = spark.read.csv(\"customers.csv\", header=True, inferSchema=True)"
      ],
      "metadata": {
        "id": "5b1HiCBIJ9o-"
      },
      "execution_count": 14,
      "outputs": []
    },
    {
      "cell_type": "markdown",
      "metadata": {
        "id": "ae7240fa-ed4d-4910-af8e-ad970a889581"
      },
      "source": [
        "Print the schema of the dataset\n"
      ]
    },
    {
      "cell_type": "code",
      "source": [
        "# Each row in this dataset is about a customer. The columns indicate the orders placed\n",
        "# by a customer for Fresh_food, Milk, Grocery and Frozen_Food"
      ],
      "metadata": {
        "id": "9sLG5lAoKFAZ"
      },
      "execution_count": null,
      "outputs": []
    },
    {
      "cell_type": "code",
      "metadata": {
        "id": "6dc4e8b1-8b79-41b2-82ed-d5b4e77d7378",
        "colab": {
          "base_uri": "https://localhost:8080/"
        },
        "outputId": "06fcb0a0-72b6-4a9f-a8bc-3871415a159a"
      },
      "outputs": [
        {
          "output_type": "stream",
          "name": "stdout",
          "text": [
            "root\n",
            " |-- Fresh_Food: integer (nullable = true)\n",
            " |-- Milk: integer (nullable = true)\n",
            " |-- Grocery: integer (nullable = true)\n",
            " |-- Frozen_Food: integer (nullable = true)\n",
            "\n"
          ]
        }
      ],
      "source": [
        "customer_data.printSchema()"
      ],
      "execution_count": 15
    },
    {
      "cell_type": "markdown",
      "metadata": {
        "id": "d8673e2d-4d98-4c7b-8b63-ff3183bd7420"
      },
      "source": [
        "Show top 5 rows from the dataset\n"
      ]
    },
    {
      "cell_type": "code",
      "metadata": {
        "id": "340a4b58-8dfd-43a7-af64-949ae4a11a27",
        "colab": {
          "base_uri": "https://localhost:8080/"
        },
        "outputId": "73117cb8-78bb-4104-957c-26905ca0afd0"
      },
      "outputs": [
        {
          "output_type": "stream",
          "name": "stdout",
          "text": [
            "+----------+----+-------+-----------+\n",
            "|Fresh_Food|Milk|Grocery|Frozen_Food|\n",
            "+----------+----+-------+-----------+\n",
            "|12669     |9656|7561   |214        |\n",
            "|7057      |9810|9568   |1762       |\n",
            "|6353      |8808|7684   |2405       |\n",
            "|13265     |1196|4221   |6404       |\n",
            "|22615     |5410|7198   |3915       |\n",
            "+----------+----+-------+-----------+\n",
            "only showing top 5 rows\n",
            "\n"
          ]
        }
      ],
      "source": [
        "customer_data.show(n=5, truncate=False)"
      ],
      "execution_count": 16
    },
    {
      "cell_type": "markdown",
      "metadata": {
        "id": "f8ad34c5-ecdd-4c28-bdf8-8cad10a66a3e"
      },
      "source": [
        "## Task 3 - Create a feature vector\n"
      ]
    },
    {
      "cell_type": "code",
      "source": [
        "# Assemble the features into a single vector column\n",
        "feature_cols = ['Fresh_Food', 'Milk', 'Grocery', 'Frozen_Food']\n",
        "assembler = VectorAssembler(inputCols=feature_cols, outputCol=\"features\")\n",
        "customer_transformed_data = assembler.transform(customer_data)"
      ],
      "metadata": {
        "id": "Jn3WbIJeKJyc"
      },
      "execution_count": 21,
      "outputs": []
    },
    {
      "cell_type": "code",
      "source": [
        "customer_transformed_data.show(5)"
      ],
      "metadata": {
        "colab": {
          "base_uri": "https://localhost:8080/"
        },
        "id": "dDOi9OSCKuCk",
        "outputId": "699e80b7-9ec9-48be-d0ca-bc0d46c6221b"
      },
      "execution_count": 23,
      "outputs": [
        {
          "output_type": "stream",
          "name": "stdout",
          "text": [
            "+----------+----+-------+-----------+--------------------+\n",
            "|Fresh_Food|Milk|Grocery|Frozen_Food|            features|\n",
            "+----------+----+-------+-----------+--------------------+\n",
            "|     12669|9656|   7561|        214|[12669.0,9656.0,7...|\n",
            "|      7057|9810|   9568|       1762|[7057.0,9810.0,95...|\n",
            "|      6353|8808|   7684|       2405|[6353.0,8808.0,76...|\n",
            "|     13265|1196|   4221|       6404|[13265.0,1196.0,4...|\n",
            "|     22615|5410|   7198|       3915|[22615.0,5410.0,7...|\n",
            "+----------+----+-------+-----------+--------------------+\n",
            "only showing top 5 rows\n",
            "\n"
          ]
        }
      ]
    },
    {
      "cell_type": "markdown",
      "metadata": {
        "id": "c3e7dc1a-a390-425a-8610-b2a16e0209a6"
      },
      "source": [
        "You must tell the KMeans algorithm how many clusters to create out of your data\n"
      ]
    },
    {
      "cell_type": "code",
      "metadata": {
        "id": "22d21a7d-bb9f-4ee2-b050-2976c0e14e66"
      },
      "outputs": [],
      "source": [
        "number_of_clusters = 3"
      ],
      "execution_count": 17
    },
    {
      "cell_type": "markdown",
      "metadata": {
        "id": "d5ccd911-ab39-4887-9c4c-9fbaa69daa7c"
      },
      "source": [
        "## Task 4 - Create a clustering model\n"
      ]
    },
    {
      "cell_type": "markdown",
      "metadata": {
        "id": "d94cc502-47a0-4ab3-b5ba-20e42015a981"
      },
      "source": [
        "Create a KMeans clustering model\n"
      ]
    },
    {
      "cell_type": "code",
      "metadata": {
        "id": "dd954299-9563-4881-ba72-e402a00b110f"
      },
      "outputs": [],
      "source": [
        "kmeans = KMeans(k = number_of_clusters)\n"
      ],
      "execution_count": 19
    },
    {
      "cell_type": "markdown",
      "metadata": {
        "id": "e84a40cd-00d3-4255-b1b8-35a451de02b1"
      },
      "source": [
        "Train/Fit the model on the dataset<br>\n"
      ]
    },
    {
      "cell_type": "code",
      "metadata": {
        "id": "422e6bb9-827d-4936-af89-7d2b75c9def4"
      },
      "outputs": [],
      "source": [
        "model = kmeans.fit(customer_transformed_data)\n"
      ],
      "execution_count": 22
    },
    {
      "cell_type": "markdown",
      "metadata": {
        "id": "554b889c-405d-4cfb-8af4-23c720076566"
      },
      "source": [
        "## Task 5 - Print Cluster Details\n"
      ]
    },
    {
      "cell_type": "markdown",
      "metadata": {
        "id": "968e5657-ab86-4d37-a84d-df2ce5e22d85"
      },
      "source": [
        "Your model is now trained. Time to evaluate the model.\n"
      ]
    },
    {
      "cell_type": "code",
      "metadata": {
        "id": "f983cd10-7b03-4d33-a3a6-d97074a05083"
      },
      "outputs": [],
      "source": [
        "# Make predictions on the dataset\n",
        "predictions = model.transform(customer_transformed_data)"
      ],
      "execution_count": 24
    },
    {
      "cell_type": "code",
      "metadata": {
        "id": "fb42b625-64c4-4493-b001-7368407651df",
        "colab": {
          "base_uri": "https://localhost:8080/"
        },
        "outputId": "7e6a17ac-f258-4516-a8a2-8df187dd2c57"
      },
      "outputs": [
        {
          "output_type": "stream",
          "name": "stdout",
          "text": [
            "+----------+----+-------+-----------+--------------------+----------+\n",
            "|Fresh_Food|Milk|Grocery|Frozen_Food|            features|prediction|\n",
            "+----------+----+-------+-----------+--------------------+----------+\n",
            "|     12669|9656|   7561|        214|[12669.0,9656.0,7...|         2|\n",
            "|      7057|9810|   9568|       1762|[7057.0,9810.0,95...|         2|\n",
            "|      6353|8808|   7684|       2405|[6353.0,8808.0,76...|         2|\n",
            "|     13265|1196|   4221|       6404|[13265.0,1196.0,4...|         2|\n",
            "|     22615|5410|   7198|       3915|[22615.0,5410.0,7...|         1|\n",
            "+----------+----+-------+-----------+--------------------+----------+\n",
            "only showing top 5 rows\n",
            "\n"
          ]
        }
      ],
      "source": [
        "# Display the results\n",
        "predictions.show(5)"
      ],
      "execution_count": 25
    },
    {
      "cell_type": "markdown",
      "metadata": {
        "id": "5f818c3b-75ec-4945-8dc6-b289009a365f"
      },
      "source": [
        "Display how many customers are there in each cluster.\n"
      ]
    },
    {
      "cell_type": "code",
      "metadata": {
        "id": "6f887983-0c63-4b20-8709-eab283997d1f",
        "colab": {
          "base_uri": "https://localhost:8080/"
        },
        "outputId": "ddc13775-f543-40bc-d710-e2fad08cf5db"
      },
      "outputs": [
        {
          "output_type": "stream",
          "name": "stdout",
          "text": [
            "+----------+-----+\n",
            "|prediction|count|\n",
            "+----------+-----+\n",
            "|         1|   74|\n",
            "|         2|  322|\n",
            "|         0|   44|\n",
            "+----------+-----+\n",
            "\n"
          ]
        }
      ],
      "source": [
        "predictions.groupBy('prediction').count().show()"
      ],
      "execution_count": 26
    },
    {
      "cell_type": "code",
      "metadata": {
        "id": "b84a07d2-5286-413f-8013-e2eb5920b4f4"
      },
      "outputs": [],
      "source": [
        "#stop spark session\n",
        "spark.stop()"
      ],
      "execution_count": 27
    },
    {
      "cell_type": "markdown",
      "metadata": {
        "id": "653c062b-9f4b-4204-91e4-b34246f348df"
      },
      "source": [
        "# Seed Clustering\n"
      ]
    },
    {
      "cell_type": "markdown",
      "metadata": {
        "id": "5c8bad69-ea11-495d-a714-4ae2dcc477bd"
      },
      "source": [
        "### Exercise 1 - Create a spark session\n"
      ]
    },
    {
      "cell_type": "markdown",
      "metadata": {
        "id": "b070a2ec-3720-4a72-9df8-e03777adb4ee"
      },
      "source": [
        "Create SparkSession with appname \"Seed Clustering\"\n"
      ]
    },
    {
      "cell_type": "code",
      "source": [
        "spark = SparkSession.builder.appName(\"Seed Clustering SparkML\").getOrCreate()"
      ],
      "metadata": {
        "id": "bLX_DMO-L572"
      },
      "execution_count": 29,
      "outputs": []
    },
    {
      "cell_type": "markdown",
      "metadata": {
        "id": "cb28467c-86c7-4eb9-9e39-005b5d3c1597"
      },
      "source": [
        "### Exercise 2 - Load the data in a csv file into a dataframe\n"
      ]
    },
    {
      "cell_type": "code",
      "metadata": {
        "id": "f78f0571-a124-4f3d-a033-4d262fcd2080",
        "colab": {
          "base_uri": "https://localhost:8080/"
        },
        "outputId": "b91c12ba-2f54-4733-850b-7c5ea7ae96e5"
      },
      "outputs": [
        {
          "output_type": "stream",
          "name": "stdout",
          "text": [
            "--2024-06-18 07:11:42--  https://cf-courses-data.s3.us.cloud-object-storage.appdomain.cloud/IBM-BD0231EN-SkillsNetwork/datasets/seeds.csv\n",
            "Resolving cf-courses-data.s3.us.cloud-object-storage.appdomain.cloud (cf-courses-data.s3.us.cloud-object-storage.appdomain.cloud)... 169.63.118.104\n",
            "Connecting to cf-courses-data.s3.us.cloud-object-storage.appdomain.cloud (cf-courses-data.s3.us.cloud-object-storage.appdomain.cloud)|169.63.118.104|:443... connected.\n",
            "HTTP request sent, awaiting response... 200 OK\n",
            "Length: 8973 (8.8K) [text/csv]\n",
            "Saving to: ‘seeds.csv’\n",
            "\n",
            "seeds.csv           100%[===================>]   8.76K  --.-KB/s    in 0s      \n",
            "\n",
            "2024-06-18 07:11:42 (155 MB/s) - ‘seeds.csv’ saved [8973/8973]\n",
            "\n"
          ]
        }
      ],
      "source": [
        "#download seed dataset\n",
        "!wget https://cf-courses-data.s3.us.cloud-object-storage.appdomain.cloud/IBM-BD0231EN-SkillsNetwork/datasets/seeds.csv\n"
      ],
      "execution_count": 30
    },
    {
      "cell_type": "markdown",
      "metadata": {
        "id": "83668158-b03b-47c0-954f-5ff3af91c0b5"
      },
      "source": [
        "Load the seed dataset\n"
      ]
    },
    {
      "cell_type": "code",
      "source": [
        "seed_data = spark.read.csv(\"seeds.csv\", header=True, inferSchema=True)"
      ],
      "metadata": {
        "id": "Z68_8Jb3MBnR"
      },
      "execution_count": 31,
      "outputs": []
    },
    {
      "cell_type": "markdown",
      "metadata": {
        "id": "0e49571c-0c61-4d0f-804b-9d0b88eee310"
      },
      "source": [
        "Print the schema of the dataset\n"
      ]
    },
    {
      "cell_type": "code",
      "metadata": {
        "id": "9db2d30f-f57c-422e-9962-2b52cb4e3954",
        "colab": {
          "base_uri": "https://localhost:8080/"
        },
        "outputId": "8f57e6de-fd7d-45dd-86ad-59769b6be5a2"
      },
      "outputs": [
        {
          "output_type": "stream",
          "name": "stdout",
          "text": [
            "root\n",
            " |-- area: double (nullable = true)\n",
            " |-- perimeter: double (nullable = true)\n",
            " |-- compactness: double (nullable = true)\n",
            " |-- length of kernel: double (nullable = true)\n",
            " |-- width of kernel: double (nullable = true)\n",
            " |-- asymmetry coefficient: double (nullable = true)\n",
            " |-- length of kernel groove: double (nullable = true)\n",
            "\n"
          ]
        }
      ],
      "source": [
        "seed_data.printSchema()"
      ],
      "execution_count": 32
    },
    {
      "cell_type": "markdown",
      "metadata": {
        "id": "bb92c826-cc87-4c1d-9972-8175d31a3173"
      },
      "source": [
        "Show top 5 rows of the data set\n"
      ]
    },
    {
      "cell_type": "code",
      "source": [
        "seed_data.show(5)"
      ],
      "metadata": {
        "colab": {
          "base_uri": "https://localhost:8080/"
        },
        "id": "bADmtoGQMP63",
        "outputId": "e84d74bc-9a79-44cd-a64a-ce9fca0b0da9"
      },
      "execution_count": 34,
      "outputs": [
        {
          "output_type": "stream",
          "name": "stdout",
          "text": [
            "+-----+---------+-----------+----------------+---------------+---------------------+-----------------------+\n",
            "| area|perimeter|compactness|length of kernel|width of kernel|asymmetry coefficient|length of kernel groove|\n",
            "+-----+---------+-----------+----------------+---------------+---------------------+-----------------------+\n",
            "|15.26|    14.84|      0.871|           5.763|          3.312|                2.221|                   5.22|\n",
            "|14.88|    14.57|     0.8811|           5.554|          3.333|                1.018|                  4.956|\n",
            "|14.29|    14.09|      0.905|           5.291|          3.337|                2.699|                  4.825|\n",
            "|13.84|    13.94|     0.8955|           5.324|          3.379|                2.259|                  4.805|\n",
            "|16.14|    14.99|     0.9034|           5.658|          3.562|                1.355|                  5.175|\n",
            "+-----+---------+-----------+----------------+---------------+---------------------+-----------------------+\n",
            "only showing top 5 rows\n",
            "\n"
          ]
        }
      ]
    },
    {
      "cell_type": "markdown",
      "metadata": {
        "id": "4cc575f2-2af3-48f6-b1fa-a789cb3552a3"
      },
      "source": [
        "### Exercise 3 - Create a feature vector\n"
      ]
    },
    {
      "cell_type": "markdown",
      "metadata": {
        "id": "a181e608-ef89-45c6-9dfd-3644b2f3d688"
      },
      "source": [
        "Assemble all columns into a single vector\n"
      ]
    },
    {
      "cell_type": "code",
      "source": [
        "features_cols = [\"area\",\"perimeter\",\"compactness\",\"length of kernel\",\"width of kernel\",\"asymmetry coefficient\",\"length of kernel groove\"]\n",
        "assembler = VectorAssembler(inputCols=features_cols, outputCol=\"features\")\n",
        "seed_transformed_data = assembler.transform(seed_data)"
      ],
      "metadata": {
        "id": "fIag18QDMboW"
      },
      "execution_count": 36,
      "outputs": []
    },
    {
      "cell_type": "markdown",
      "metadata": {
        "id": "9d960371-1883-4b27-991f-b425892d7873"
      },
      "source": [
        "### Exercise 4 - Create a clustering model\n"
      ]
    },
    {
      "cell_type": "markdown",
      "metadata": {
        "id": "15a96593-4ab6-48f3-896f-10dff0483e92"
      },
      "source": [
        "Create 7 clusters\n"
      ]
    },
    {
      "cell_type": "code",
      "source": [
        "number_of_clusters =  7\n",
        "kmeans = KMeans(k = number_of_clusters)\n",
        "model = kmeans.fit(seed_transformed_data)"
      ],
      "metadata": {
        "id": "bzrIf5SdNeoI"
      },
      "execution_count": 39,
      "outputs": []
    },
    {
      "cell_type": "markdown",
      "metadata": {
        "id": "378d014e-d0d9-4b72-b360-b9608d228bf6"
      },
      "source": [
        "### Exercise 5 - Print Cluster Details\n"
      ]
    },
    {
      "cell_type": "code",
      "source": [
        "predictions =  model.transform(seed_transformed_data)"
      ],
      "metadata": {
        "id": "OD8byIniOI0V"
      },
      "execution_count": null,
      "outputs": []
    },
    {
      "cell_type": "code",
      "metadata": {
        "id": "f8b66957-4a98-42ad-b0cb-50a69ea7002c",
        "colab": {
          "base_uri": "https://localhost:8080/"
        },
        "outputId": "00f67b2b-9a4f-47b2-b4e4-38fded4ae242"
      },
      "outputs": [
        {
          "output_type": "stream",
          "name": "stdout",
          "text": [
            "+-----+---------+-----------+----------------+---------------+---------------------+-----------------------+--------------------+----------+\n",
            "| area|perimeter|compactness|length of kernel|width of kernel|asymmetry coefficient|length of kernel groove|            features|prediction|\n",
            "+-----+---------+-----------+----------------+---------------+---------------------+-----------------------+--------------------+----------+\n",
            "|15.26|    14.84|      0.871|           5.763|          3.312|                2.221|                   5.22|[15.26,14.84,0.87...|         0|\n",
            "|14.88|    14.57|     0.8811|           5.554|          3.333|                1.018|                  4.956|[14.88,14.57,0.88...|         0|\n",
            "|14.29|    14.09|      0.905|           5.291|          3.337|                2.699|                  4.825|[14.29,14.09,0.90...|         0|\n",
            "|13.84|    13.94|     0.8955|           5.324|          3.379|                2.259|                  4.805|[13.84,13.94,0.89...|         0|\n",
            "|16.14|    14.99|     0.9034|           5.658|          3.562|                1.355|                  5.175|[16.14,14.99,0.90...|         0|\n",
            "+-----+---------+-----------+----------------+---------------+---------------------+-----------------------+--------------------+----------+\n",
            "only showing top 5 rows\n",
            "\n"
          ]
        }
      ],
      "source": [
        "predictions.show(n=5)"
      ],
      "execution_count": 42
    },
    {
      "cell_type": "code",
      "source": [
        "predictions.groupBy('prediction').count().show()"
      ],
      "metadata": {
        "colab": {
          "base_uri": "https://localhost:8080/"
        },
        "id": "R8bjgEpYN5Xl",
        "outputId": "a55badd5-7f55-4ac7-b992-a43a3f2e1a65"
      },
      "execution_count": 43,
      "outputs": [
        {
          "output_type": "stream",
          "name": "stdout",
          "text": [
            "+----------+-----+\n",
            "|prediction|count|\n",
            "+----------+-----+\n",
            "|         1|   14|\n",
            "|         6|   31|\n",
            "|         3|   56|\n",
            "|         5|    6|\n",
            "|         4|   28|\n",
            "|         2|   21|\n",
            "|         0|   54|\n",
            "+----------+-----+\n",
            "\n"
          ]
        }
      ]
    },
    {
      "cell_type": "code",
      "source": [
        "#stop spark session\n",
        "spark.stop()"
      ],
      "metadata": {
        "id": "CHx_RlPiOE5d"
      },
      "execution_count": 44,
      "outputs": []
    }
  ],
  "metadata": {
    "kernelspec": {
      "display_name": "Python 3",
      "name": "python3"
    },
    "language_info": {
      "name": "python"
    },
    "colab": {
      "provenance": []
    }
  },
  "nbformat": 4,
  "nbformat_minor": 0
}