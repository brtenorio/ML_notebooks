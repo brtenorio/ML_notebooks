{
  "cells": [
    {
      "cell_type": "markdown",
      "metadata": {
        "id": "ca80512b-e889-4e53-bc97-6e8cdeaf2fab"
      },
      "source": [
        "# Practice Project\n",
        "\n",
        "\n",
        "This practice project focuses on data transformation and integration using PySpark. You will work with two datasets, perform various transformations such as adding columns, renaming columns, dropping unnecessary columns, joining dataframes, and finally, writing the results into both a Hive warehouse and an HDFS file system.\n"
      ]
    },
    {
      "cell_type": "markdown",
      "metadata": {
        "id": "75f4f7ec-02f1-43ad-be35-83857c4ad056"
      },
      "source": [
        "### Prerequisites\n",
        "\n",
        "For this lab assignment, you will use wget, Python and Spark (PySpark). Therefore, it's essential to make sure that the below-specified libraries are installed in your lab environment or within Skills Network (SN) Labs.\n",
        "\n",
        "\n"
      ]
    },
    {
      "cell_type": "code",
      "metadata": {
        "colab": {
          "base_uri": "https://localhost:8080/"
        },
        "id": "2690314b-fa7b-47e6-8b4c-efc2523fac15",
        "outputId": "b3a7d74f-59da-4f34-b507-e638732e9e93"
      },
      "outputs": [
        {
          "output_type": "stream",
          "name": "stdout",
          "text": [
            "Collecting wget\n",
            "  Downloading wget-3.2.zip (10 kB)\n",
            "  Preparing metadata (setup.py) ... \u001b[?25l\u001b[?25hdone\n",
            "Collecting pyspark\n",
            "  Downloading pyspark-3.5.1.tar.gz (317.0 MB)\n",
            "\u001b[2K     \u001b[90m━━━━━━━━━━━━━━━━━━━━━━━━━━━━━━━━━━━━━━━━\u001b[0m \u001b[32m317.0/317.0 MB\u001b[0m \u001b[31m3.6 MB/s\u001b[0m eta \u001b[36m0:00:00\u001b[0m\n",
            "\u001b[?25h  Preparing metadata (setup.py) ... \u001b[?25l\u001b[?25hdone\n",
            "Collecting findspark\n",
            "  Downloading findspark-2.0.1-py2.py3-none-any.whl (4.4 kB)\n",
            "Requirement already satisfied: py4j==0.10.9.7 in /usr/local/lib/python3.10/dist-packages (from pyspark) (0.10.9.7)\n",
            "Building wheels for collected packages: wget, pyspark\n",
            "  Building wheel for wget (setup.py) ... \u001b[?25l\u001b[?25hdone\n",
            "  Created wheel for wget: filename=wget-3.2-py3-none-any.whl size=9656 sha256=a495a2b56c731fa6f8588b740a32f322fc834e3a9267b2315d9808c178d71c3c\n",
            "  Stored in directory: /root/.cache/pip/wheels/8b/f1/7f/5c94f0a7a505ca1c81cd1d9208ae2064675d97582078e6c769\n",
            "  Building wheel for pyspark (setup.py) ... \u001b[?25l\u001b[?25hdone\n",
            "  Created wheel for pyspark: filename=pyspark-3.5.1-py2.py3-none-any.whl size=317488491 sha256=59a95e01d292b0b866d45c3e38296bf238c4498fb1d44b67d26fbbe6ee97edd4\n",
            "  Stored in directory: /root/.cache/pip/wheels/80/1d/60/2c256ed38dddce2fdd93be545214a63e02fbd8d74fb0b7f3a6\n",
            "Successfully built wget pyspark\n",
            "Installing collected packages: wget, findspark, pyspark\n",
            "Successfully installed findspark-2.0.1 pyspark-3.5.1 wget-3.2\n"
          ]
        }
      ],
      "source": [
        "# Installing required packages\n",
        "\n",
        "!pip install wget pyspark findspark"
      ],
      "execution_count": 1
    },
    {
      "cell_type": "markdown",
      "metadata": {
        "id": "a8860f53-2549-45dc-8199-a59b2dc6ac0f"
      },
      "source": [
        "#### Prework - Initiate the Spark Session\n"
      ]
    },
    {
      "cell_type": "code",
      "metadata": {
        "id": "943a3bef-2d17-43d0-bf97-326dc251dbd8"
      },
      "outputs": [],
      "source": [
        "import findspark\n",
        "\n",
        "findspark.init()"
      ],
      "execution_count": 1
    },
    {
      "cell_type": "code",
      "metadata": {
        "id": "412adadd-09c1-41e7-b66e-bbd1780771a9"
      },
      "outputs": [],
      "source": [
        "# PySpark is the Spark API for Python. In this lab, we use PySpark to initialize the SparkContext.\n",
        "\n",
        "from pyspark import SparkContext, SparkConf\n",
        "\n",
        "from pyspark.sql import SparkSession\n",
        "\n",
        "from pyspark.sql.functions import year, quarter, to_date, date_format\n",
        "\n",
        "from pyspark.sql.functions import col, when"
      ],
      "execution_count": 24
    },
    {
      "cell_type": "code",
      "metadata": {
        "id": "bae4b7b2-fa1d-488d-9852-b3f9f79c84f8"
      },
      "outputs": [],
      "source": [
        "# Creating a SparkContext object\n",
        "\n",
        "sc = SparkContext.getOrCreate()\n",
        "\n",
        "# Creating a Spark Session\n",
        "\n",
        "spark = SparkSession \\\n",
        "    .builder \\\n",
        "    .appName(\"Python Spark DataFrames basic example\") \\\n",
        "    .config(\"spark.some.config.option\", \"some-value\") \\\n",
        "    .getOrCreate()"
      ],
      "execution_count": 3
    },
    {
      "cell_type": "markdown",
      "metadata": {
        "id": "1fea069e-82fc-4518-88a7-15d04c829e51"
      },
      "source": [
        "### Task 1: Load datasets into PySpark DataFrames\n",
        "\n",
        "Download the datasets from the folloing links using `wget` and load it in a Spark Dataframe.\n",
        "\n",
        "1. https://cf-courses-data.s3.us.cloud-object-storage.appdomain.cloud/IBM-BD0225EN-SkillsNetwork/labs/data/dataset1.csv  \n",
        "2. https://cf-courses-data.s3.us.cloud-object-storage.appdomain.cloud/IBM-BD0225EN-SkillsNetwork/labs/data/dataset2.csv  \n"
      ]
    },
    {
      "cell_type": "code",
      "metadata": {
        "id": "f5a18d6f-b4b7-4b6c-9739-5f27aa18b5ad",
        "colab": {
          "base_uri": "https://localhost:8080/"
        },
        "outputId": "cea6d669-a3e7-458e-f807-9d708b4295a5"
      },
      "outputs": [
        {
          "output_type": "stream",
          "name": "stdout",
          "text": [
            "--2024-06-16 08:53:41--  https://cf-courses-data.s3.us.cloud-object-storage.appdomain.cloud/IBM-BD0225EN-SkillsNetwork/labs/data/dataset1.csv\n",
            "Resolving cf-courses-data.s3.us.cloud-object-storage.appdomain.cloud (cf-courses-data.s3.us.cloud-object-storage.appdomain.cloud)... 169.45.118.108\n",
            "Connecting to cf-courses-data.s3.us.cloud-object-storage.appdomain.cloud (cf-courses-data.s3.us.cloud-object-storage.appdomain.cloud)|169.45.118.108|:443... connected.\n",
            "HTTP request sent, awaiting response... 200 OK\n",
            "Length: 4115 (4.0K) [text/csv]\n",
            "Saving to: ‘dataset1.csv’\n",
            "\n",
            "dataset1.csv        100%[===================>]   4.02K  --.-KB/s    in 0s      \n",
            "\n",
            "2024-06-16 08:53:42 (1.20 GB/s) - ‘dataset1.csv’ saved [4115/4115]\n",
            "\n",
            "--2024-06-16 08:53:42--  https://cf-courses-data.s3.us.cloud-object-storage.appdomain.cloud/IBM-BD0225EN-SkillsNetwork/labs/data/dataset2.csv\n",
            "Resolving cf-courses-data.s3.us.cloud-object-storage.appdomain.cloud (cf-courses-data.s3.us.cloud-object-storage.appdomain.cloud)... 169.45.118.108\n",
            "Connecting to cf-courses-data.s3.us.cloud-object-storage.appdomain.cloud (cf-courses-data.s3.us.cloud-object-storage.appdomain.cloud)|169.45.118.108|:443... connected.\n",
            "HTTP request sent, awaiting response... 200 OK\n",
            "Length: 2688 (2.6K) [text/csv]\n",
            "Saving to: ‘dataset2.csv’\n",
            "\n",
            "dataset2.csv        100%[===================>]   2.62K  --.-KB/s    in 0s      \n",
            "\n",
            "2024-06-16 08:53:43 (709 MB/s) - ‘dataset2.csv’ saved [2688/2688]\n",
            "\n"
          ]
        }
      ],
      "source": [
        "#download dataset using wget\n",
        "!wget https://cf-courses-data.s3.us.cloud-object-storage.appdomain.cloud/IBM-BD0225EN-SkillsNetwork/labs/data/dataset1.csv\n",
        "\n",
        "!wget https://cf-courses-data.s3.us.cloud-object-storage.appdomain.cloud/IBM-BD0225EN-SkillsNetwork/labs/data/dataset2.csv\n"
      ],
      "execution_count": 5
    },
    {
      "cell_type": "code",
      "metadata": {
        "id": "e471c768-2dd6-4f97-8cb1-93cb4923d61c"
      },
      "outputs": [],
      "source": [
        "#load the data into a pyspark dataframe\n",
        "df1 = spark.read.csv(\"dataset1.csv\",header=True, inferSchema=True)\n",
        "\n",
        "df2 = spark.read.csv(\"dataset2.csv\",header=True, inferSchema=True)\n"
      ],
      "execution_count": 4
    },
    {
      "cell_type": "markdown",
      "metadata": {
        "id": "a5698be3-1c6d-4a5c-8a5c-8c8ec4f7a63b"
      },
      "source": [
        "### Task 2: Display the schema of both dataframes\n",
        "\n",
        "Display the schema of `df1` and `df2` to understand the structure of the datasets.\n"
      ]
    },
    {
      "cell_type": "code",
      "metadata": {
        "id": "fa160ca9-2e29-494f-9958-06c4c056dbed",
        "colab": {
          "base_uri": "https://localhost:8080/"
        },
        "outputId": "728efe56-ba6d-4d4a-d7d9-ef5922e80fc3"
      },
      "outputs": [
        {
          "output_type": "stream",
          "name": "stdout",
          "text": [
            "root\n",
            " |-- customer_id: integer (nullable = true)\n",
            " |-- date_column: string (nullable = true)\n",
            " |-- amount: integer (nullable = true)\n",
            " |-- description: string (nullable = true)\n",
            " |-- location: string (nullable = true)\n",
            "\n",
            "None\n",
            "root\n",
            " |-- customer_id: integer (nullable = true)\n",
            " |-- transaction_date: string (nullable = true)\n",
            " |-- value: integer (nullable = true)\n",
            " |-- notes: string (nullable = true)\n",
            "\n",
            "None\n"
          ]
        }
      ],
      "source": [
        "#print the schema of df1 and df2\n",
        "\n",
        "print(df1.printSchema())\n",
        "\n",
        "print(df2.printSchema())"
      ],
      "execution_count": 5
    },
    {
      "cell_type": "code",
      "source": [
        "# get the number of rows and columns of df1 and df2\n",
        "\n",
        "print(\"df1\", df1.count(), len(df1.columns))\n",
        "\n",
        "print(\"df2\", df2.count(), len(df2.columns))"
      ],
      "metadata": {
        "colab": {
          "base_uri": "https://localhost:8080/"
        },
        "id": "SZc5XkaFRQzB",
        "outputId": "a9b66818-8330-4f21-bec1-41ca3c387782"
      },
      "execution_count": 6,
      "outputs": [
        {
          "output_type": "stream",
          "name": "stdout",
          "text": [
            "df1 100 5\n",
            "df2 100 4\n"
          ]
        }
      ]
    },
    {
      "cell_type": "code",
      "source": [
        "df1.show(5)"
      ],
      "metadata": {
        "colab": {
          "base_uri": "https://localhost:8080/"
        },
        "id": "JUFO3EBHRyXq",
        "outputId": "f91d63da-55e8-4b57-9291-6b486f5ef562"
      },
      "execution_count": 7,
      "outputs": [
        {
          "output_type": "stream",
          "name": "stdout",
          "text": [
            "+-----------+-----------+------+-----------+--------+\n",
            "|customer_id|date_column|amount|description|location|\n",
            "+-----------+-----------+------+-----------+--------+\n",
            "|          1|   1/1/2022|  5000| Purchase A| Store A|\n",
            "|          2|  15/2/2022|  1200| Purchase B| Store B|\n",
            "|          3|  20/3/2022|   800| Purchase C| Store C|\n",
            "|          4|  10/4/2022|  3000| Purchase D| Store D|\n",
            "|          5|   5/5/2022|  6000| Purchase E| Store E|\n",
            "+-----------+-----------+------+-----------+--------+\n",
            "only showing top 5 rows\n",
            "\n"
          ]
        }
      ]
    },
    {
      "cell_type": "code",
      "source": [
        "df2.show(5)"
      ],
      "metadata": {
        "colab": {
          "base_uri": "https://localhost:8080/"
        },
        "id": "Hjaru9cCR1Tu",
        "outputId": "9750c339-3773-419e-eb96-e7892320231f"
      },
      "execution_count": 8,
      "outputs": [
        {
          "output_type": "stream",
          "name": "stdout",
          "text": [
            "+-----------+----------------+-----+------+\n",
            "|customer_id|transaction_date|value| notes|\n",
            "+-----------+----------------+-----+------+\n",
            "|          1|        1/1/2022| 1500|Note 1|\n",
            "|          2|       15/2/2022| 2000|Note 2|\n",
            "|          3|       20/3/2022| 1000|Note 3|\n",
            "|          4|       10/4/2022| 2500|Note 4|\n",
            "|          5|        5/5/2022| 1800|Note 5|\n",
            "+-----------+----------------+-----+------+\n",
            "only showing top 5 rows\n",
            "\n"
          ]
        }
      ]
    },
    {
      "cell_type": "markdown",
      "metadata": {
        "id": "dd7bad10-5e80-456d-be89-db20f51c214e"
      },
      "source": [
        "#### Task 3: Add a new column to each dataframe\n",
        "\n",
        "Add a new column named **year** to `df1` and **quarter** to `df2` representing the year and quarter of the data.\n",
        "\n",
        "*Hint: use withColumn. Convert the date columns which are present as string to date before extracting the year and quarter information*\n",
        "\n",
        "\n"
      ]
    },
    {
      "cell_type": "code",
      "metadata": {
        "id": "44d998b4-c66a-4e27-b584-aec80cd31b1d",
        "colab": {
          "base_uri": "https://localhost:8080/"
        },
        "outputId": "7b11a075-5474-497b-dc05-5b6052625ad6"
      },
      "outputs": [
        {
          "output_type": "stream",
          "name": "stdout",
          "text": [
            "+-----------+----------------+-----+------+-------+----------+\n",
            "|customer_id|transaction_date|value| notes|quarter|      date|\n",
            "+-----------+----------------+-----+------+-------+----------+\n",
            "|          1|        1/1/2022| 1500|Note 1|      1|01-01-2022|\n",
            "|          2|       15/2/2022| 2000|Note 2|      1|15-02-2022|\n",
            "|          3|       20/3/2022| 1000|Note 3|      1|20-03-2022|\n",
            "|          4|       10/4/2022| 2500|Note 4|      2|10-04-2022|\n",
            "|          5|        5/5/2022| 1800|Note 5|      2|05-05-2022|\n",
            "+-----------+----------------+-----+------+-------+----------+\n",
            "only showing top 5 rows\n",
            "\n"
          ]
        }
      ],
      "source": [
        "#from pyspark.sql.functions import year, quarter, to_date\n",
        "\n",
        "#Add new column year to df1\n",
        "df1 = df1.withColumn(\"year\", year(to_date(df1[\"date_column\"], 'd/M/yyyy')))\n",
        "\n",
        "#Add new column quarter to df2\n",
        "df2 = df2.withColumn(\"quarter\", quarter(to_date(df2[\"transaction_date\"], 'd/M/yyyy')))\n",
        "\n",
        "# If I wanted instead to convert date given in format d/M/yyyy to date_format dd-MM-yyyy, it would be:\n",
        "df2_2 = df2.withColumn(\"date\", date_format(to_date(df2[\"transaction_date\"], 'd/M/yyyy'), 'dd-MM-yyyy'))\n",
        "df2_2.show(5)"
      ],
      "execution_count": 9
    },
    {
      "cell_type": "markdown",
      "metadata": {
        "id": "3bbcb5b5-2a59-4499-9ea1-38c01796c937"
      },
      "source": [
        "#### Task 4: Rename columns in both dataframes\n",
        "\n",
        "Rename the column **amount** to **transaction_amount** in `df1` and **value** to **transaction_value** in `df2`.\n",
        "\n",
        "*Hint: Use withColumnRenamed*\n"
      ]
    },
    {
      "cell_type": "code",
      "metadata": {
        "id": "f38c98f2-1fbe-431b-8104-406bf70a0085"
      },
      "outputs": [],
      "source": [
        "#Rename df1 column amount to transaction_amount\n",
        "df1 = df1.withColumnRenamed(\"amount\", \"transaction_amount\")\n",
        "\n",
        "#Rename df2 column value to transaction_value\n",
        "df2 = df2.withColumnRenamed(\"value\", \"transaction_value\")\n"
      ],
      "execution_count": 10
    },
    {
      "cell_type": "markdown",
      "metadata": {
        "id": "3e66645d-bd34-446c-b776-0868aa748e45"
      },
      "source": [
        "#### Task 5: Drop unnecessary columns\n",
        "\n",
        "Drop the columns **description** and **location** from `df1` and **notes** from `df2`.\n",
        "\n",
        "\n"
      ]
    },
    {
      "cell_type": "code",
      "metadata": {
        "id": "50801f33-31ed-4f61-9bd1-474459a76083"
      },
      "outputs": [],
      "source": [
        "#Drop columns description and location from df1\n",
        "df1 = df1.drop(\"description\",\"location\")\n",
        "\n",
        "#Drop column notes from df2\n",
        "df2 = df2.drop(\"notes\")\n"
      ],
      "execution_count": 14
    },
    {
      "cell_type": "markdown",
      "metadata": {
        "id": "586ca479-8dcb-43a9-a544-26a6e181dce9"
      },
      "source": [
        "#### Task 6: Join dataframes based on a common column\n",
        "\n",
        "Join `df1` and `df2` based on the common column **customer_id** and create a new dataframe named `joined_df`.\n",
        "\n",
        "\n"
      ]
    },
    {
      "cell_type": "code",
      "metadata": {
        "id": "5f997e28-9fe6-4a59-bb96-16a786ea7bd2",
        "colab": {
          "base_uri": "https://localhost:8080/"
        },
        "outputId": "22e8a4f2-fa47-4910-a455-3839b67b2d3c"
      },
      "outputs": [
        {
          "output_type": "stream",
          "name": "stdout",
          "text": [
            "+-----------+-----------+------------------+----+----------------+-----------------+-------+\n",
            "|customer_id|date_column|transaction_amount|year|transaction_date|transaction_value|quarter|\n",
            "+-----------+-----------+------------------+----+----------------+-----------------+-------+\n",
            "|          1|   1/1/2022|              5000|2022|        1/1/2022|             1500|      1|\n",
            "|          2|  15/2/2022|              1200|2022|       15/2/2022|             2000|      1|\n",
            "|          3|  20/3/2022|               800|2022|       20/3/2022|             1000|      1|\n",
            "|          4|  10/4/2022|              3000|2022|       10/4/2022|             2500|      2|\n",
            "|          5|   5/5/2022|              6000|2022|        5/5/2022|             1800|      2|\n",
            "+-----------+-----------+------------------+----+----------------+-----------------+-------+\n",
            "only showing top 5 rows\n",
            "\n"
          ]
        }
      ],
      "source": [
        "#join df1 and df2 based on common column customer_id\n",
        "\n",
        "joined_df = df1.join(df2, on='customer_id', how='inner')\n",
        "\n",
        "joined_df.show(5)"
      ],
      "execution_count": 15
    },
    {
      "cell_type": "markdown",
      "metadata": {
        "id": "f393b919-8206-4959-bf1a-b03c6a2b85e0"
      },
      "source": [
        "#### Task 7: Filter data based on a condition\n",
        "\n",
        "Filter `joined_df` to include only transactions where \"transaction_amount\" is greater than 1000 and create a new dataframe named `filtered_df`.\n",
        "\n",
        "\n",
        "\n"
      ]
    },
    {
      "cell_type": "code",
      "metadata": {
        "id": "f07e03ff-c8ba-4d30-b95b-626c40c55a86",
        "colab": {
          "base_uri": "https://localhost:8080/"
        },
        "outputId": "27672345-c0db-4f50-e544-3749a1278e7d"
      },
      "outputs": [
        {
          "output_type": "stream",
          "name": "stdout",
          "text": [
            "+-----------+-----------+------------------+----+----------------+-----------------+-------+\n",
            "|customer_id|date_column|transaction_amount|year|transaction_date|transaction_value|quarter|\n",
            "+-----------+-----------+------------------+----+----------------+-----------------+-------+\n",
            "|          1|   1/1/2022|              5000|2022|        1/1/2022|             1500|      1|\n",
            "|          2|  15/2/2022|              1200|2022|       15/2/2022|             2000|      1|\n",
            "|          4|  10/4/2022|              3000|2022|       10/4/2022|             2500|      2|\n",
            "|          5|   5/5/2022|              6000|2022|        5/5/2022|             1800|      2|\n",
            "|          6|  10/6/2022|              4500|2022|       10/6/2022|             1200|      2|\n",
            "|          8|  20/8/2022|              3500|2022|       20/8/2022|             3000|      3|\n",
            "|         10| 30/10/2022|              1800|2022|      30/10/2022|             1200|      4|\n",
            "|         11|  5/11/2022|              2200|2022|       5/11/2022|             1500|      4|\n",
            "|         13|  15/1/2023|              4800|2023|       15/1/2023|             2000|      1|\n",
            "|         15|  25/3/2023|              4200|2023|       25/3/2023|             1800|      1|\n",
            "|         16|  30/4/2023|              2600|2023|       30/4/2023|             1000|      2|\n",
            "|         18|  10/6/2023|              1500|2023|       10/6/2023|             1500|      2|\n",
            "|         19|  15/7/2023|              3200|2023|       15/7/2023|             3000|      3|\n",
            "|         21|  25/9/2023|              5500|2023|       25/9/2023|             2500|      3|\n",
            "|         22| 30/10/2023|              1200|2023|      30/10/2023|              700|      4|\n",
            "|         24| 10/12/2023|              2400|2023|      10/12/2023|             1200|      4|\n",
            "|         25|  15/1/2024|              1800|2024|       15/1/2024|              800|      1|\n",
            "|         27|  25/3/2024|              4200|2024|       25/3/2024|             1800|      1|\n",
            "|         28|  30/4/2024|              2600|2024|       30/4/2024|             1000|      2|\n",
            "|         30|  10/6/2024|              1500|2024|       10/6/2024|             1500|      2|\n",
            "+-----------+-----------+------------------+----+----------------+-----------------+-------+\n",
            "only showing top 20 rows\n",
            "\n"
          ]
        }
      ],
      "source": [
        "# filter the dataframe for transaction amount > 1000\n",
        "\n",
        "filtered_df = joined_df.filter(joined_df['transaction_amount']>1000)\n",
        "\n",
        "filtered_df.show()"
      ],
      "execution_count": 16
    },
    {
      "cell_type": "markdown",
      "metadata": {
        "id": "28eb840a-b5b0-4215-a8b8-230e775fa9c9"
      },
      "source": [
        "#### Task 8: Aggregate data by customer\n",
        "\n",
        "Calculate the total transaction amount for each customer in `filtered_df` and display the result.\n",
        "\n",
        "*Hint: Use sum from pyspark.sql.functions*\n"
      ]
    },
    {
      "cell_type": "code",
      "metadata": {
        "id": "de64f8fa-35d0-43f0-9458-f5660ebc10ce",
        "colab": {
          "base_uri": "https://localhost:8080/"
        },
        "outputId": "e8e06dde-44a6-43e2-d174-60cc547ca155"
      },
      "outputs": [
        {
          "output_type": "stream",
          "name": "stdout",
          "text": [
            "+-----------+-----------------------+\n",
            "|customer_id|sum(transaction_amount)|\n",
            "+-----------+-----------------------+\n",
            "|         31|                   3200|\n",
            "|         85|                   1800|\n",
            "|         78|                   1500|\n",
            "|         34|                   1200|\n",
            "|         81|                   5500|\n",
            "|         28|                   2600|\n",
            "|         76|                   2600|\n",
            "|         27|                   4200|\n",
            "|         91|                   3200|\n",
            "|         22|                   1200|\n",
            "|         93|                   5500|\n",
            "|          1|                   5000|\n",
            "|         52|                   2600|\n",
            "|         13|                   4800|\n",
            "|          6|                   4500|\n",
            "|         16|                   2600|\n",
            "|         40|                   2600|\n",
            "|         94|                   1200|\n",
            "|         57|                   5500|\n",
            "|         54|                   1500|\n",
            "+-----------+-----------------------+\n",
            "only showing top 20 rows\n",
            "\n"
          ]
        }
      ],
      "source": [
        "\n",
        "# group by customer_id and aggregate the sum of transaction amount\n",
        "\n",
        "total_amount_per_customer = filtered_df.groupBy(\"customer_id\").agg({\"transaction_amount\":\"sum\"})\n",
        "\n",
        "#display the result\n",
        "\n",
        "total_amount_per_customer.show()"
      ],
      "execution_count": 21
    },
    {
      "cell_type": "markdown",
      "metadata": {
        "id": "0608951a-a4c1-4383-accc-31440c7d2497"
      },
      "source": [
        "#### Task 9: Write the result to a Hive table\n",
        "\n",
        "Write `total_amount_per_customer` to a Hive table named **customer_totals**.\n"
      ]
    },
    {
      "cell_type": "code",
      "metadata": {
        "id": "6122e459-de47-45f1-8d66-2e30269a6ea3"
      },
      "outputs": [],
      "source": [
        "# Write total_amount_per_customer to a Hive table named customer_totals\n",
        "\n",
        "total_amount_per_customer.write.mode(\"overwrite\").saveAsTable(\"customer_totals\")\n"
      ],
      "execution_count": 22
    },
    {
      "cell_type": "markdown",
      "metadata": {
        "id": "4fdf7da0-7ed2-4335-b9db-0ffe59db82b7"
      },
      "source": [
        "#### Task 10: Write the filtered data to HDFS\n",
        "\n",
        "Write `filtered_df` to HDFS in parquet format to a file named **filtered_data**.\n"
      ]
    },
    {
      "cell_type": "code",
      "metadata": {
        "id": "aa3bbf83-7133-49bb-acae-60b6267b0c0a"
      },
      "outputs": [],
      "source": [
        "#Write filtered_df to HDFS in parquet format file filtered_data.parquet\n",
        "\n",
        "filtered_df.write.mode(\"overwrite\").parquet(\"filtered_data.parquet\")\n"
      ],
      "execution_count": 23
    },
    {
      "cell_type": "markdown",
      "metadata": {
        "id": "e5e0e30a-511a-4a98-937d-cf1fd924d8fd"
      },
      "source": [
        "#### Task 11: Add a new column based on a condition\n",
        "\n",
        "Add a new column named **high_value** to `df1` indicating whether the transaction_amount is greater than 5000. When the value is greater than 5000, the value of the column should be **Yes**. When the value is less than or equal to 5000, the value of the column should be **No**.\n",
        "\n",
        "*Hint: Use when and lit from pyspark.sql.functions\n"
      ]
    },
    {
      "cell_type": "code",
      "metadata": {
        "id": "08a7c942-e970-4daf-ab7d-a9d352092e10",
        "colab": {
          "base_uri": "https://localhost:8080/"
        },
        "outputId": "08f6d5fd-6553-4b1f-9c6a-f38d7df7fb90"
      },
      "outputs": [
        {
          "output_type": "stream",
          "name": "stdout",
          "text": [
            "+-----------+-----------+------------------+----+----------+\n",
            "|customer_id|date_column|transaction_amount|year|high_value|\n",
            "+-----------+-----------+------------------+----+----------+\n",
            "|          1|   1/1/2022|              5000|2022|        No|\n",
            "|          2|  15/2/2022|              1200|2022|        No|\n",
            "|          3|  20/3/2022|               800|2022|        No|\n",
            "|          4|  10/4/2022|              3000|2022|        No|\n",
            "|          5|   5/5/2022|              6000|2022|       Yes|\n",
            "|          6|  10/6/2022|              4500|2022|        No|\n",
            "|          7|  15/7/2022|               200|2022|        No|\n",
            "|          8|  20/8/2022|              3500|2022|        No|\n",
            "|          9|  25/9/2022|               700|2022|        No|\n",
            "|         10| 30/10/2022|              1800|2022|        No|\n",
            "|         11|  5/11/2022|              2200|2022|        No|\n",
            "|         12| 10/12/2022|               900|2022|        No|\n",
            "|         13|  15/1/2023|              4800|2023|        No|\n",
            "|         14|  20/2/2023|               300|2023|        No|\n",
            "|         15|  25/3/2023|              4200|2023|        No|\n",
            "|         16|  30/4/2023|              2600|2023|        No|\n",
            "|         17|   5/5/2023|               700|2023|        No|\n",
            "|         18|  10/6/2023|              1500|2023|        No|\n",
            "|         19|  15/7/2023|              3200|2023|        No|\n",
            "|         20|  20/8/2023|              1000|2023|        No|\n",
            "+-----------+-----------+------------------+----+----------+\n",
            "only showing top 20 rows\n",
            "\n"
          ]
        }
      ],
      "source": [
        "# Add new column with value indicating whether transaction amount is > 5000 or not\n",
        "\n",
        "df1 = df1.withColumn('high_value', when(col(\"transaction_amount\")>5000, \"Yes\").otherwise(\"No\"))\n",
        "\n",
        "df1.show()"
      ],
      "execution_count": 27
    },
    {
      "cell_type": "markdown",
      "metadata": {
        "id": "9d016c4d-0738-479c-b2c7-9efed216275d"
      },
      "source": [
        "#### Task 12: Calculate the average transaction value per quarter\n",
        "\n",
        "Calculate and display the average transaction value for each quarter in `df2` and create a new dataframe named `average_value_per_quarter` with column `avg_trans_val`.\n",
        "\n",
        "*Hint: Use avg from pyspark.sql.functions*\n"
      ]
    },
    {
      "cell_type": "code",
      "metadata": {
        "id": "df36dbb4-0785-4619-833c-e31e04dc9761",
        "colab": {
          "base_uri": "https://localhost:8080/"
        },
        "outputId": "ab62c0ed-8d97-4f12-f058-43a2eb677552"
      },
      "outputs": [
        {
          "output_type": "stream",
          "name": "stdout",
          "text": [
            "+-------+----------------------+\n",
            "|quarter|avg(transaction_value)|\n",
            "+-------+----------------------+\n",
            "|      1|     1111.111111111111|\n",
            "|      3|    1958.3333333333333|\n",
            "|      4|     816.6666666666666|\n",
            "|      2|                1072.0|\n",
            "+-------+----------------------+\n",
            "\n"
          ]
        }
      ],
      "source": [
        "#calculate the average transaction value for each quarter in df2\n",
        "\n",
        "average_value_per_quarter = df2.groupBy(\"quarter\").agg({\"transaction_value\":\"average\"})\n",
        "\n",
        "#show the average transaction value for each quarter in df2\n",
        "\n",
        "average_value_per_quarter.show()"
      ],
      "execution_count": 28
    },
    {
      "cell_type": "markdown",
      "metadata": {
        "id": "c54b6053-2c0a-4443-8f43-81f65c26658f"
      },
      "source": [
        "#### Task 13: Write the result to a Hive table\n",
        "\n",
        "Write `average_value_per_quarter` to a Hive table named **quarterly_averages**.\n"
      ]
    },
    {
      "cell_type": "code",
      "metadata": {
        "id": "a1e3820b-2c2e-47f7-b40f-c6cba1f26db5"
      },
      "outputs": [],
      "source": [
        "#Write average_value_per_quarter to a Hive table named quarterly_averages\n",
        "\n",
        "average_value_per_quarter.write.mode(\"overwrite\").saveAsTable(\"quarterly_averages\")\n"
      ],
      "execution_count": 29
    },
    {
      "cell_type": "markdown",
      "metadata": {
        "id": "d52e506a-8730-4a16-b0aa-2f45cb084024"
      },
      "source": [
        "\n",
        "<details>\n",
        "    <summary>Click here for Solution</summary>\n",
        "\n",
        "```python\n",
        "\n",
        "#Write average_value_per_quarter to a Hive table named quarterly_averages\n",
        "\n",
        "average_value_per_quarter.write.mode(\"overwrite\").saveAsTable(\"quarterly_averages\")\n",
        "\n",
        "```\n",
        "\n",
        "</details>\n"
      ]
    },
    {
      "cell_type": "markdown",
      "metadata": {
        "id": "fb249232-24f9-490c-b9cc-c6178f0f1a0b"
      },
      "source": [
        "#### Task 14: Calculate the total transaction value per year\n",
        "\n",
        "Calculate and display the total transaction value for each year in `df1` and create a new dataframe named `total_value_per_year` with column `total_transaction_val`.\n"
      ]
    },
    {
      "cell_type": "code",
      "metadata": {
        "id": "a5eec426-3efd-4598-bb21-8afcc89ed47e",
        "colab": {
          "base_uri": "https://localhost:8080/"
        },
        "outputId": "0d3556ed-d6af-4cb1-d29d-4233802e8371"
      },
      "outputs": [
        {
          "output_type": "stream",
          "name": "stdout",
          "text": [
            "+----+-----------------------+\n",
            "|year|sum(transaction_amount)|\n",
            "+----+-----------------------+\n",
            "|2025|                  25700|\n",
            "|2027|                  25700|\n",
            "|2023|                  28100|\n",
            "|2022|                  29800|\n",
            "|2026|                  25700|\n",
            "|2029|                  25700|\n",
            "|2030|                   9500|\n",
            "|2028|                  25700|\n",
            "|2024|                  25700|\n",
            "+----+-----------------------+\n",
            "\n"
          ]
        }
      ],
      "source": [
        "# calculate the total transaction value for each year in df1.\n",
        "\n",
        "total_value_per_year = df1.groupBy(\"year\").agg({\"transaction_amount\":\"sum\"})\n",
        "\n",
        "# show the total transaction value for each year in df1.\n",
        "\n",
        "total_value_per_year.show()"
      ],
      "execution_count": 31
    },
    {
      "cell_type": "markdown",
      "metadata": {
        "id": "aad05286-af6c-4ce8-ad67-1c75a9a97a84"
      },
      "source": [
        "#### Task 15: Write the result to HDFS\n",
        "\n",
        "Write `total_value_per_year` to HDFS in the CSV format to file named **total_value_per_year**.\n",
        "\n"
      ]
    },
    {
      "cell_type": "code",
      "metadata": {
        "id": "72652e0d-de5d-41d0-8589-ed135971f92c"
      },
      "outputs": [],
      "source": [
        "#Write total_value_per_year to HDFS in the CSV format\n",
        "\n",
        "total_value_per_year.write.mode(\"overwrite\").csv(\"total_value_per_year.csv\")\n"
      ],
      "execution_count": null
    }
  ],
  "metadata": {
    "kernelspec": {
      "display_name": "Python",
      "language": "python",
      "name": "conda-env-python-py"
    },
    "language_info": {
      "name": "python",
      "version": "3.7.12",
      "mimetype": "text/x-python",
      "codemirror_mode": {
        "name": "ipython",
        "version": 3
      },
      "pygments_lexer": "ipython3",
      "nbconvert_exporter": "python",
      "file_extension": ".py"
    },
    "prev_pub_hash": "11f72aae77d8016a27f044c7c8c6c15789e27d81d5809ee65ea885d8da7126a7",
    "colab": {
      "provenance": []
    }
  },
  "nbformat": 4,
  "nbformat_minor": 0
}