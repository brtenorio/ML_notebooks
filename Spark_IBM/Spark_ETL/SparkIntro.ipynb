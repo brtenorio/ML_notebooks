{
  "cells": [
    {
      "cell_type": "markdown",
      "metadata": {
        "id": "e7cbc73c-5aca-4ae4-ac2c-ba4f997e9aee"
      },
      "source": [
        "# **Getting Started With Spark using Python**\n"
      ]
    },
    {
      "cell_type": "markdown",
      "metadata": {
        "id": "c0fca1c7-bc68-42ed-abeb-6a3efcc2a8a6"
      },
      "source": [
        "![](http://spark.apache.org/images/spark-logo.png)\n"
      ]
    },
    {
      "cell_type": "markdown",
      "metadata": {
        "id": "a045eb55-707b-47a7-a88d-21d97ac42f32"
      },
      "source": [
        "### The Python API\n"
      ]
    },
    {
      "cell_type": "markdown",
      "metadata": {
        "id": "96cf98d8-ebaa-4a01-8de6-864a1436d579"
      },
      "source": [
        "Spark is written in Scala, which compiles to Java bytecode, but you can write python code to communicate to the java virtual machine through a library called py4j. Python has the richest API, but it can be somewhat limiting if you need to use a method that is not available, or if you need to write a specialized piece of code. The latency associated with communicating back and forth to the JVM can sometimes cause the code to run slower.\n",
        "An exception to this is the SparkSQL library, which has an execution planning engine that precompiles the queries. Even with this optimization, there are cases where the code may run slower than the native scala version.\n",
        "The general recommendation for PySpark code is to use the \"out of the box\" methods available as much as possible and avoid overly frequent (iterative) calls to Spark methods. If you need to write high-performance or specialized code, try doing it in scala.\n",
        "But hey, we know Python rules, and the plotting libraries are way better. So, it's up to you!\n"
      ]
    },
    {
      "cell_type": "markdown",
      "metadata": {
        "id": "1f7b7581-f539-40cd-8874-5336e8959c41"
      },
      "source": [
        "## Objectives\n"
      ]
    },
    {
      "cell_type": "markdown",
      "metadata": {
        "id": "52d16272-d10a-45a8-9196-74404f795549"
      },
      "source": [
        "In this lab, we will go over the basics of Apache Spark and PySpark. We will start with creating the SparkContext and SparkSession. We then create an RDD and apply some basic transformations and actions. Finally we demonstrate the basics dataframes and SparkSQL.\n",
        "\n",
        "After this lab you will be able to:\n",
        "\n",
        "* Create the SparkContext and SparkSession\n",
        "* Create an RDD and apply some basic transformations and actions to RDDs\n",
        "* Demonstrate the use of the basics Dataframes and SparkSQL\n"
      ]
    },
    {
      "cell_type": "markdown",
      "metadata": {
        "id": "998acb19-2a7f-471d-b8bb-09762c374618"
      },
      "source": [
        "----\n"
      ]
    },
    {
      "cell_type": "markdown",
      "metadata": {
        "id": "3da7323c-6bc8-45f4-9dcb-3ddc12950d1a"
      },
      "source": [
        "## Setup\n"
      ]
    },
    {
      "cell_type": "markdown",
      "metadata": {
        "id": "2044ea79-6fd9-46bc-b0a2-889d83bebaf5"
      },
      "source": [
        "For this lab, we are going to be using Python and Spark (PySpark). These libraries should be installed in your lab environment or in SN Labs.\n"
      ]
    },
    {
      "cell_type": "code",
      "metadata": {
        "colab": {
          "base_uri": "https://localhost:8080/"
        },
        "id": "c8943516-3586-4a46-a0e3-c3dc843c3847",
        "outputId": "7499dd0f-5e51-4d47-92ed-8583b227a86b"
      },
      "outputs": [
        {
          "output_type": "stream",
          "name": "stdout",
          "text": [
            "Requirement already satisfied: pyspark in /usr/local/lib/python3.10/dist-packages (3.5.1)\n",
            "Requirement already satisfied: py4j==0.10.9.7 in /usr/local/lib/python3.10/dist-packages (from pyspark) (0.10.9.7)\n",
            "Requirement already satisfied: findspark in /usr/local/lib/python3.10/dist-packages (2.0.1)\n"
          ]
        }
      ],
      "source": [
        "# Installing required packages\n",
        "!pip install pyspark\n",
        "!pip install findspark"
      ],
      "execution_count": 1
    },
    {
      "cell_type": "code",
      "metadata": {
        "id": "59e33b1e-6690-444f-b58e-7cc8542f9784"
      },
      "outputs": [],
      "source": [
        "import findspark\n",
        "findspark.init()"
      ],
      "execution_count": 2
    },
    {
      "cell_type": "code",
      "metadata": {
        "id": "55ea8a24-6740-48bc-b291-ba777b46ad00"
      },
      "outputs": [],
      "source": [
        "# PySpark is the Spark API for Python. In this lab, we use PySpark to initialize the spark context.\n",
        "from pyspark import SparkContext, SparkConf\n",
        "from pyspark.sql import SparkSession"
      ],
      "execution_count": 3
    },
    {
      "cell_type": "markdown",
      "metadata": {
        "id": "04f39a74-42a2-4e27-a41a-def42563b80c"
      },
      "source": [
        "### Spark Context and Spark Session\n"
      ]
    },
    {
      "cell_type": "markdown",
      "metadata": {
        "id": "d87fbe8c-72db-4368-8bb2-f80661a0eea2"
      },
      "source": [
        "In this exercise, you will create the Spark Context and initialize the Spark session needed for SparkSQL and DataFrames.\n",
        "SparkContext is the entry point for Spark applications and contains functions to create RDDs such as `parallelize()`. SparkSession is needed for SparkSQL and DataFrame operations.\n"
      ]
    },
    {
      "cell_type": "markdown",
      "metadata": {
        "id": "0e0c2e65-875f-4e28-ab79-4bdd2e1a5e36"
      },
      "source": [
        "#### Creating the spark session and context\n"
      ]
    },
    {
      "cell_type": "code",
      "metadata": {
        "id": "072d359e-ed4b-4519-b01a-cb246ff9a4a4"
      },
      "outputs": [],
      "source": [
        "# Creating a spark context class\n",
        "sc = SparkContext()\n",
        "\n",
        "# Creating a spark session\n",
        "spark = SparkSession \\\n",
        "    .builder \\\n",
        "    .appName(\"Python Spark DataFrames basic example\") \\\n",
        "    .config(\"spark.some.config.option\", \"some-value\") \\\n",
        "    .getOrCreate()"
      ],
      "execution_count": 4
    },
    {
      "cell_type": "markdown",
      "metadata": {
        "id": "78e56646-d580-4a9c-a35d-e1a159eb9e42"
      },
      "source": [
        "#### Task 2: Initialize Spark session\n",
        "To work with dataframes we just need to verify that the spark session instance has been created.\n"
      ]
    },
    {
      "cell_type": "code",
      "metadata": {
        "id": "af9de502-db3d-40a6-962f-5a3ba34faef7",
        "colab": {
          "base_uri": "https://localhost:8080/"
        },
        "outputId": "20654749-f11f-4cfc-c1e2-92541ad18602"
      },
      "outputs": [
        {
          "output_type": "stream",
          "name": "stdout",
          "text": [
            "SparkSession is active and ready to use.\n"
          ]
        }
      ],
      "source": [
        "if 'spark' in locals() and isinstance(spark, SparkSession):\n",
        "    print(\"SparkSession is active and ready to use.\")\n",
        "else:\n",
        "    print(\"SparkSession is not active. Please create a SparkSession.\")"
      ],
      "execution_count": 5
    },
    {
      "cell_type": "markdown",
      "metadata": {
        "id": "f3930200-0245-4775-b7d3-e72ee2725aa0"
      },
      "source": [
        "## RDDs\n",
        "In this exercise we work with Resilient Distributed Datasets (RDDs). RDDs are Spark's primitive data abstraction and we use concepts from functional programming to create and manipulate RDDs.\n"
      ]
    },
    {
      "cell_type": "markdown",
      "metadata": {
        "id": "1fc1a145-440f-454a-a4cd-c42b5ea3b075"
      },
      "source": [
        "#### Create an RDD.\n",
        "For demonstration purposes, we create an RDD here by calling `sc.parallelize()`  \n",
        "We create an RDD which has integers from 1 to 30.\n"
      ]
    },
    {
      "cell_type": "code",
      "metadata": {
        "id": "87aa9903-569b-45e8-ac24-d0b66f423c48",
        "colab": {
          "base_uri": "https://localhost:8080/"
        },
        "outputId": "7c564a96-2ebd-4f9e-8389-aa8e21198bab"
      },
      "outputs": [
        {
          "output_type": "stream",
          "name": "stdout",
          "text": [
            "1\n"
          ]
        },
        {
          "output_type": "execute_result",
          "data": {
            "text/plain": [
              "PythonRDD[1] at RDD at PythonRDD.scala:53"
            ]
          },
          "metadata": {},
          "execution_count": 6
        }
      ],
      "source": [
        "data = range(1,30)\n",
        "# print first element of iterator\n",
        "print(data[0])\n",
        "len(data)\n",
        "xrangeRDD = sc.parallelize(data, 4)\n",
        "\n",
        "# this will let us know that we created an RDD\n",
        "xrangeRDD"
      ],
      "execution_count": 6
    },
    {
      "cell_type": "markdown",
      "metadata": {
        "id": "bf3d9add-4d94-4074-8c19-037840e58dc3"
      },
      "source": [
        "#### Task 2: Transformations\n"
      ]
    },
    {
      "cell_type": "markdown",
      "metadata": {
        "id": "43bbc5e3-3608-4bf8-888d-0081bfcc506a"
      },
      "source": [
        "A transformation is an operation on an RDD that results in a new RDD. The transformed RDD is generated rapidly because the new RDD is lazily evaluated, which means that the calculation is not carried out when the new RDD is generated. The RDD will contain a series of transformations, or computation instructions, that will only be carried out when an action is called. In this transformation, we reduce each element in the RDD by 1. Note the use of the lambda function. We also then filter the RDD to only contain elements <10.\n"
      ]
    },
    {
      "cell_type": "code",
      "metadata": {
        "id": "bd231b50-39e4-4d32-851f-e06867fb8f4f"
      },
      "outputs": [],
      "source": [
        "subRDD = xrangeRDD.map(lambda x: x-1)\n",
        "filteredRDD = subRDD.filter(lambda x : x<10)\n"
      ],
      "execution_count": 7
    },
    {
      "cell_type": "markdown",
      "metadata": {
        "id": "1fbde2a6-70a1-4a5c-8405-fbd1301e723d"
      },
      "source": [
        "#### Task 3: Actions\n"
      ]
    },
    {
      "cell_type": "markdown",
      "metadata": {
        "id": "93873718-f8a9-482f-8eb6-ed13dd008793"
      },
      "source": [
        "A transformation returns a result to the driver. We now apply the `collect()` action to get the output from the transformation.\n"
      ]
    },
    {
      "cell_type": "code",
      "metadata": {
        "id": "b8149385-7d55-4d55-b159-8778e09bfeb5",
        "colab": {
          "base_uri": "https://localhost:8080/"
        },
        "outputId": "6ebc60d7-17f7-4409-d87f-1d42b8876fa6"
      },
      "outputs": [
        {
          "output_type": "stream",
          "name": "stdout",
          "text": [
            "[0, 1, 2, 3, 4, 5, 6, 7, 8, 9]\n"
          ]
        },
        {
          "output_type": "execute_result",
          "data": {
            "text/plain": [
              "10"
            ]
          },
          "metadata": {},
          "execution_count": 8
        }
      ],
      "source": [
        "print(filteredRDD.collect())\n",
        "filteredRDD.count()"
      ],
      "execution_count": 8
    },
    {
      "cell_type": "markdown",
      "metadata": {
        "id": "00c9b539-c49e-4570-89b2-ba53b487c356"
      },
      "source": [
        "#### Task 4: Caching Data\n"
      ]
    },
    {
      "cell_type": "markdown",
      "metadata": {
        "id": "eaadcc62-1e5d-4160-81bc-5cdc6d1fb957"
      },
      "source": [
        "This simple example shows how to create an RDD and cache it. Notice the **10x speed improvement**!  If you wish to see the actual computation time, browse to the Spark UI...it's at host:4040.  You'll see that the second calculation took much less time!\n"
      ]
    },
    {
      "cell_type": "code",
      "metadata": {
        "id": "973abd3d-f044-4769-8118-5996cfc9da41",
        "colab": {
          "base_uri": "https://localhost:8080/"
        },
        "outputId": "f226f9e7-ac64-4cc3-8078-76f4d9c46f93"
      },
      "outputs": [
        {
          "output_type": "stream",
          "name": "stdout",
          "text": [
            "dt1:  4.328488826751709\n",
            "dt2:  1.9372737407684326\n"
          ]
        }
      ],
      "source": [
        "import time\n",
        "\n",
        "test = sc.parallelize(range(1,50000),4)\n",
        "test.cache()\n",
        "\n",
        "t1 = time.time()\n",
        "# first count will trigger evaluation of count *and* cache\n",
        "count1 = test.count()\n",
        "dt1 = time.time() - t1\n",
        "print(\"dt1: \", dt1)\n",
        "\n",
        "\n",
        "t2 = time.time()\n",
        "# second count operates on cached data only\n",
        "count2 = test.count()\n",
        "dt2 = time.time() - t2\n",
        "print(\"dt2: \", dt2)\n",
        "\n",
        "#test.count()"
      ],
      "execution_count": 9
    },
    {
      "cell_type": "markdown",
      "metadata": {
        "id": "379be7f9-e20a-4dc1-b8f1-e01fd7362677"
      },
      "source": [
        "## Exercise 3: DataFrames and SparkSQL\n"
      ]
    },
    {
      "cell_type": "markdown",
      "metadata": {
        "id": "e2167e8f-93b3-4769-aacf-eefa7c60b49b"
      },
      "source": [
        "In order to work with the extremely powerful SQL engine in Apache Spark, you will need a Spark Session. We have created that in the first Exercise, let us verify that spark session is still active.\n"
      ]
    },
    {
      "cell_type": "code",
      "metadata": {
        "id": "4583068a-a298-4a86-8133-2df079b19b54",
        "colab": {
          "base_uri": "https://localhost:8080/",
          "height": 222
        },
        "outputId": "540d1ec4-ad4a-42f7-eb0f-a2006bec6d05"
      },
      "outputs": [
        {
          "output_type": "execute_result",
          "data": {
            "text/plain": [
              "<pyspark.sql.session.SparkSession at 0x7fa8a134fac0>"
            ],
            "text/html": [
              "\n",
              "            <div>\n",
              "                <p><b>SparkSession - in-memory</b></p>\n",
              "                \n",
              "        <div>\n",
              "            <p><b>SparkContext</b></p>\n",
              "\n",
              "            <p><a href=\"http://db876c97b2e0:4040\">Spark UI</a></p>\n",
              "\n",
              "            <dl>\n",
              "              <dt>Version</dt>\n",
              "                <dd><code>v3.5.1</code></dd>\n",
              "              <dt>Master</dt>\n",
              "                <dd><code>local[*]</code></dd>\n",
              "              <dt>AppName</dt>\n",
              "                <dd><code>pyspark-shell</code></dd>\n",
              "            </dl>\n",
              "        </div>\n",
              "        \n",
              "            </div>\n",
              "        "
            ]
          },
          "metadata": {},
          "execution_count": 10
        }
      ],
      "source": [
        "spark"
      ],
      "execution_count": 10
    },
    {
      "cell_type": "markdown",
      "metadata": {
        "id": "7e89d7ba-15e9-4cac-8899-11bce38b7454"
      },
      "source": [
        "#### Task 1: Create Your First DataFrame!\n"
      ]
    },
    {
      "cell_type": "markdown",
      "metadata": {
        "id": "f84d8a41-ee26-417a-8212-b448a2b10ef2"
      },
      "source": [
        "You can create a structured data set (much like a database table) in Spark.  Once you have done that, you can then use powerful SQL tools to query and join your dataframes.\n"
      ]
    },
    {
      "cell_type": "code",
      "metadata": {
        "id": "ad6881aa-14b6-4ddd-ae4d-0f40228f34e1",
        "colab": {
          "base_uri": "https://localhost:8080/"
        },
        "outputId": "da45fd36-86b1-402a-c9c6-b487717763f8"
      },
      "outputs": [
        {
          "output_type": "stream",
          "name": "stdout",
          "text": [
            "  % Total    % Received % Xferd  Average Speed   Time    Time     Time  Current\n",
            "                                 Dload  Upload   Total   Spent    Left  Speed\n",
            "100    73  100    73    0     0     67      0  0:00:01  0:00:01 --:--:--    67\n"
          ]
        }
      ],
      "source": [
        "# Download the data first into a local `people.json` file\n",
        "!curl https://cf-courses-data.s3.us.cloud-object-storage.appdomain.cloud/IBM-BD0225EN-SkillsNetwork/labs/data/people.json >> people.json"
      ],
      "execution_count": 11
    },
    {
      "cell_type": "code",
      "metadata": {
        "id": "444101eb-2f35-4361-b4e8-cf70bb4554ac"
      },
      "outputs": [],
      "source": [
        "# Read the dataset into a spark dataframe using the `read.json()` function\n",
        "df = spark.read.json(\"people.json\").cache()"
      ],
      "execution_count": 12
    },
    {
      "cell_type": "code",
      "metadata": {
        "id": "b0390210-a8e4-4838-a629-1aee24c198e2",
        "colab": {
          "base_uri": "https://localhost:8080/"
        },
        "outputId": "ea4d9e95-9722-4163-fe9d-6414ac364c46"
      },
      "outputs": [
        {
          "output_type": "stream",
          "name": "stdout",
          "text": [
            "+----+-------+\n",
            "| age|   name|\n",
            "+----+-------+\n",
            "|NULL|Michael|\n",
            "|  30|   Andy|\n",
            "|  19| Justin|\n",
            "|NULL|Michael|\n",
            "|  30|   Andy|\n",
            "|  19| Justin|\n",
            "+----+-------+\n",
            "\n",
            "root\n",
            " |-- age: long (nullable = true)\n",
            " |-- name: string (nullable = true)\n",
            "\n"
          ]
        }
      ],
      "source": [
        "# Print the dataframe as well as the data schema\n",
        "df.show()\n",
        "df.printSchema()"
      ],
      "execution_count": 13
    },
    {
      "cell_type": "code",
      "metadata": {
        "id": "48265074-8f9e-4c88-a944-bbf0c8c31791"
      },
      "outputs": [],
      "source": [
        "# Register the DataFrame as a SQL temporary view\n",
        "df.createTempView(\"people\")"
      ],
      "execution_count": 14
    },
    {
      "cell_type": "markdown",
      "metadata": {
        "id": "236eb733-cfec-4523-8946-e76ee3466053"
      },
      "source": [
        "#### Task 2: Explore the data using DataFrame functions and SparkSQL\n",
        "\n",
        "In this section, we explore the datasets using functions both from dataframes as well as corresponding SQL queries using sparksql. Note the different ways to achieve the same task!\n"
      ]
    },
    {
      "cell_type": "code",
      "metadata": {
        "id": "bce819a0-1eef-488d-9b99-1af0f546f09d",
        "colab": {
          "base_uri": "https://localhost:8080/"
        },
        "outputId": "5ddcdcef-b257-4096-f57a-ef97f4cdb512"
      },
      "outputs": [
        {
          "output_type": "stream",
          "name": "stdout",
          "text": [
            "+-------+\n",
            "|   name|\n",
            "+-------+\n",
            "|Michael|\n",
            "|   Andy|\n",
            "| Justin|\n",
            "|Michael|\n",
            "|   Andy|\n",
            "| Justin|\n",
            "+-------+\n",
            "\n",
            "+-------+\n",
            "|   name|\n",
            "+-------+\n",
            "|Michael|\n",
            "|   Andy|\n",
            "| Justin|\n",
            "|Michael|\n",
            "|   Andy|\n",
            "| Justin|\n",
            "+-------+\n",
            "\n",
            "+-------+\n",
            "|   name|\n",
            "+-------+\n",
            "|Michael|\n",
            "|   Andy|\n",
            "| Justin|\n",
            "|Michael|\n",
            "|   Andy|\n",
            "| Justin|\n",
            "+-------+\n",
            "\n"
          ]
        }
      ],
      "source": [
        "# Select and show basic data columns\n",
        "\n",
        "df.select(\"name\").show()\n",
        "df.select(df[\"name\"]).show()\n",
        "spark.sql(\"SELECT name FROM people\").show()"
      ],
      "execution_count": 15
    },
    {
      "cell_type": "code",
      "metadata": {
        "id": "32362f2a-f153-4999-97c5-1867b5931749",
        "colab": {
          "base_uri": "https://localhost:8080/"
        },
        "outputId": "be10ab6b-3c9f-45f9-cc48-64ef6c5c194a"
      },
      "outputs": [
        {
          "output_type": "stream",
          "name": "stdout",
          "text": [
            "+---+----+\n",
            "|age|name|\n",
            "+---+----+\n",
            "| 30|Andy|\n",
            "| 30|Andy|\n",
            "+---+----+\n",
            "\n",
            "+---+----+\n",
            "|age|name|\n",
            "+---+----+\n",
            "| 30|Andy|\n",
            "| 30|Andy|\n",
            "+---+----+\n",
            "\n"
          ]
        }
      ],
      "source": [
        "# Perform basic filtering\n",
        "\n",
        "df.filter(df[\"age\"] > 21).show()\n",
        "spark.sql(\"SELECT age, name FROM people WHERE age > 21\").show()"
      ],
      "execution_count": 16
    },
    {
      "cell_type": "code",
      "metadata": {
        "id": "86296424-2388-4a77-aac2-bd0e88c18b93",
        "colab": {
          "base_uri": "https://localhost:8080/"
        },
        "outputId": "ae5e7771-d0bc-4ccf-bf41-cddf273038eb"
      },
      "outputs": [
        {
          "output_type": "stream",
          "name": "stdout",
          "text": [
            "+----+-----+\n",
            "| age|count|\n",
            "+----+-----+\n",
            "|  19|    2|\n",
            "|NULL|    2|\n",
            "|  30|    2|\n",
            "+----+-----+\n",
            "\n",
            "+----+-----+\n",
            "| age|count|\n",
            "+----+-----+\n",
            "|  19|    2|\n",
            "|NULL|    0|\n",
            "|  30|    2|\n",
            "+----+-----+\n",
            "\n"
          ]
        }
      ],
      "source": [
        "# Perfom basic aggregation of data\n",
        "\n",
        "df.groupBy(\"age\").count().show()\n",
        "spark.sql(\"SELECT age, COUNT(age) as count FROM people GROUP BY age\").show()"
      ],
      "execution_count": 17
    },
    {
      "cell_type": "markdown",
      "metadata": {
        "id": "d315f26c-fb81-42a1-ba5e-896b223db5b2"
      },
      "source": [
        "----\n"
      ]
    },
    {
      "cell_type": "markdown",
      "metadata": {
        "id": "f3996484-5848-4733-92f1-f11e323d408f"
      },
      "source": [
        "### RDDs\n"
      ]
    },
    {
      "cell_type": "markdown",
      "metadata": {
        "id": "e1d10dcf-9638-4a02-9fb3-108bcdf6422b"
      },
      "source": [
        "Create an RDD with integers from 1-50. Apply a transformation to multiply every number by 2, resulting in an RDD that contains the first 50 even numbers.\n"
      ]
    },
    {
      "cell_type": "code",
      "metadata": {
        "id": "781d2a47-a456-467f-84e2-ee960b391c19",
        "colab": {
          "base_uri": "https://localhost:8080/"
        },
        "outputId": "a330269e-43a7-4df9-d119-8b5a1cf3cd02"
      },
      "outputs": [
        {
          "output_type": "execute_result",
          "data": {
            "text/plain": [
              "[2,\n",
              " 4,\n",
              " 6,\n",
              " 8,\n",
              " 10,\n",
              " 12,\n",
              " 14,\n",
              " 16,\n",
              " 18,\n",
              " 20,\n",
              " 22,\n",
              " 24,\n",
              " 26,\n",
              " 28,\n",
              " 30,\n",
              " 32,\n",
              " 34,\n",
              " 36,\n",
              " 38,\n",
              " 40,\n",
              " 42,\n",
              " 44,\n",
              " 46,\n",
              " 48,\n",
              " 50]"
            ]
          },
          "metadata": {},
          "execution_count": 18
        }
      ],
      "source": [
        "\n",
        "numbers = sc.parallelize(range(1, 50))\n",
        "\n",
        "numbers_RDD = numbers.map(lambda x: x*2)\n",
        "even_numbers_RDD = numbers_RDD.filter(lambda x: x<=50)\n",
        "\n",
        "even_numbers_RDD.collect()"
      ],
      "execution_count": 18
    },
    {
      "cell_type": "markdown",
      "metadata": {
        "id": "a9b48815-4670-4cf7-876c-2f600dba9788"
      },
      "source": [
        "### DataFrames and SparkSQL\n"
      ]
    },
    {
      "cell_type": "markdown",
      "metadata": {
        "id": "295642d6-c49e-4eb0-ab3a-659028111b90"
      },
      "source": [
        "Similar to the `people.json` file, now read the `people2.json` file into the notebook, load it into a dataframe and apply SQL operations to determine the average age in our people2 file.\n"
      ]
    },
    {
      "cell_type": "code",
      "metadata": {
        "id": "d69600b6-f151-4885-8270-a1c5ebb15eb2",
        "colab": {
          "base_uri": "https://localhost:8080/"
        },
        "outputId": "12292f0d-409e-4c6b-aca7-f324f999c34d"
      },
      "outputs": [
        {
          "output_type": "stream",
          "name": "stdout",
          "text": [
            "  % Total    % Received % Xferd  Average Speed   Time    Time     Time  Current\n",
            "                                 Dload  Upload   Total   Spent    Left  Speed\n",
            "100   136  100   136    0     0    118      0  0:00:01  0:00:01 --:--:--   118\n"
          ]
        }
      ],
      "source": [
        "# starter code\n",
        "!curl https://cf-courses-data.s3.us.cloud-object-storage.appdomain.cloud/IBM-BD0225EN-SkillsNetwork/labs/people2.json >> people2.json\n",
        "df = spark.read.json(\"people2.json\").cache()\n",
        "df.createTempView('people2')\n",
        "#spark.sql(\"SELECT * FROM people2\").show()"
      ],
      "execution_count": 27
    },
    {
      "cell_type": "code",
      "metadata": {
        "id": "badac403-eda7-4d5a-9110-76c234fb6350",
        "colab": {
          "base_uri": "https://localhost:8080/"
        },
        "outputId": "610467f2-40ea-40f6-8873-87eddc5dda7d"
      },
      "outputs": [
        {
          "output_type": "stream",
          "name": "stdout",
          "text": [
            "+-----------------+\n",
            "|        mean(age)|\n",
            "+-----------------+\n",
            "|24.76923076923077|\n",
            "+-----------------+\n",
            "\n"
          ]
        }
      ],
      "source": [
        "spark.sql(\"SELECT MEAN(age) FROM people2\").show()\n"
      ],
      "execution_count": 33
    },
    {
      "cell_type": "markdown",
      "metadata": {
        "id": "54315d30-8580-42e0-92c1-2df745d15d51"
      },
      "source": [
        "### Close SparkSession\n"
      ]
    },
    {
      "cell_type": "markdown",
      "metadata": {
        "id": "55bfd91e-f9d8-4b67-8f27-dae8c1c6a9ee"
      },
      "source": [
        "Close the SparkSession we created for this notebook\n"
      ]
    },
    {
      "cell_type": "code",
      "metadata": {
        "id": "a1e891bc-49f1-47d3-b68d-eb1ad6e274a3"
      },
      "outputs": [],
      "source": [
        "spark.stop() # will stop the spark session"
      ],
      "execution_count": 42
    }
  ],
  "metadata": {
    "kernelspec": {
      "display_name": "Python",
      "language": "python",
      "name": "conda-env-python-py"
    },
    "language_info": {
      "codemirror_mode": {
        "name": "ipython",
        "version": 3
      },
      "file_extension": ".py",
      "mimetype": "text/x-python",
      "name": "python",
      "nbconvert_exporter": "python",
      "pygments_lexer": "ipython3",
      "version": "3.7.12"
    },
    "prev_pub_hash": "e1ad62faa424d34e707cec17aeb0f9861646fd1eb6856d7c0047335c6ed4463f",
    "colab": {
      "provenance": []
    }
  },
  "nbformat": 4,
  "nbformat_minor": 0
}