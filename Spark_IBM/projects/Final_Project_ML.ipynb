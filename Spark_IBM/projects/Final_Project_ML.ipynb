{
  "cells": [
    {
      "cell_type": "markdown",
      "metadata": {
        "id": "23IEButSBm02"
      },
      "source": [
        "## Scenario\n"
      ]
    },
    {
      "cell_type": "markdown",
      "metadata": {
        "id": "1c5-C_cTBm04"
      },
      "source": [
        "You are a data engineer at an aeronautics consulting company. Your company prides itself in being able to efficiently design airfoils for use in planes and sports cars. Data scientists in your office need to work with different algorithms and data in different formats. While they are good at Machine Learning, they count on you to be able to do ETL jobs and build ML pipelines. In this project you will use the modified version of the NASA Airfoil Self Noise dataset. You will clean this dataset, by dropping the duplicate rows, and removing the rows with null values. You will create an ML pipe line to create a model that will predict the SoundLevel based on all the other columns. You will evaluate the model and towards the end you will persist the model.\n",
        "\n"
      ]
    },
    {
      "cell_type": "markdown",
      "metadata": {
        "id": "Q_T2AFG8Bm05"
      },
      "source": [
        "## Objectives\n",
        "\n",
        "In this 4 part assignment you will:\n",
        "\n",
        "- Part 1 Perform ETL activity\n",
        "  - Load a csv dataset\n",
        "  - Remove duplicates if any\n",
        "  - Drop rows with null values if any\n",
        "  - Make transformations\n",
        "  - Store the cleaned data in parquet format\n",
        "- Part 2 Create a  Machine Learning Pipeline\n",
        "  - Create a machine learning pipeline for prediction\n",
        "- Part 3 Evaluate the Model\n",
        "  - Evaluate the model using relevant metrics\n",
        "- Part 4 Persist the Model\n",
        "  - Save the model for future production use\n",
        "  - Load and verify the stored model\n"
      ]
    },
    {
      "cell_type": "markdown",
      "metadata": {
        "id": "Hzn36vHvBm05"
      },
      "source": [
        "## Datasets\n",
        "\n",
        "In this lab you will be using dataset(s):\n",
        "\n",
        " - The original dataset can be found here NASA airfoil self noise dataset. https://archive.ics.uci.edu/dataset/291/airfoil+self+noise\n",
        "\n",
        " - This dataset is licensed under a Creative Commons Attribution 4.0 International (CC BY 4.0) license.\n"
      ]
    },
    {
      "cell_type": "markdown",
      "metadata": {
        "id": "8P83I6wtBm05"
      },
      "source": [
        "Diagram of an airfoil. - For informational purpose\n"
      ]
    },
    {
      "cell_type": "markdown",
      "metadata": {
        "id": "pQSrHUT_Bm06"
      },
      "source": [
        "![Airfoil with flow](https://cf-courses-data.s3.us.cloud-object-storage.appdomain.cloud/IBMSkillsNetwork-BD0231EN-Coursera/images/Airfoil_with_flow.png)\n"
      ]
    },
    {
      "cell_type": "markdown",
      "metadata": {
        "id": "hVrwHtrmBm06"
      },
      "source": [
        "Diagram showing the Angle of attack. - For informational purpose\n"
      ]
    },
    {
      "cell_type": "markdown",
      "metadata": {
        "id": "gZACMj28Bm06"
      },
      "source": [
        "![Airfoil angle of attack](https://cf-courses-data.s3.us.cloud-object-storage.appdomain.cloud/IBMSkillsNetwork-BD0231EN-Coursera/images/Airfoil_angle_of_attack.jpg)\n"
      ]
    },
    {
      "cell_type": "markdown",
      "metadata": {
        "id": "Vx6-p3FcBm06"
      },
      "source": [
        "## Before you Start\n"
      ]
    },
    {
      "cell_type": "markdown",
      "metadata": {
        "id": "gGCWqaw3Bm07"
      },
      "source": [
        "**Before you start attempting this project it is highly recommended that you finish the practice project.**\n"
      ]
    },
    {
      "cell_type": "markdown",
      "metadata": {
        "id": "S_6BbQLhBm07"
      },
      "source": [
        "## Setup\n"
      ]
    },
    {
      "cell_type": "code",
      "execution_count": 1,
      "metadata": {
        "id": "Y3UR-a54Bm08",
        "colab": {
          "base_uri": "https://localhost:8080/"
        },
        "outputId": "7256fbf3-3eda-4b1a-adb8-d2cf82cd483b"
      },
      "outputs": [
        {
          "output_type": "stream",
          "name": "stdout",
          "text": [
            "\u001b[2K     \u001b[90m━━━━━━━━━━━━━━━━━━━━━━━━━━━━━━━━━━━━━━━━\u001b[0m \u001b[32m212.4/212.4 MB\u001b[0m \u001b[31m1.5 MB/s\u001b[0m eta \u001b[36m0:00:00\u001b[0m\n",
            "\u001b[?25h  Preparing metadata (setup.py) ... \u001b[?25l\u001b[?25hdone\n",
            "\u001b[2K     \u001b[90m━━━━━━━━━━━━━━━━━━━━━━━━━━━━━━━━━━━━━━━━\u001b[0m \u001b[32m198.6/198.6 kB\u001b[0m \u001b[31m15.9 MB/s\u001b[0m eta \u001b[36m0:00:00\u001b[0m\n",
            "\u001b[?25h  Building wheel for pyspark (setup.py) ... \u001b[?25l\u001b[?25hdone\n"
          ]
        }
      ],
      "source": [
        "!pip install pyspark==3.1.2 -q\n",
        "!pip install findspark -q"
      ]
    },
    {
      "cell_type": "markdown",
      "metadata": {
        "id": "GSgNxc6cBm08"
      },
      "source": [
        "### Importing Required Libraries\n",
        "\n"
      ]
    },
    {
      "cell_type": "code",
      "execution_count": 2,
      "metadata": {
        "id": "fHrkN26FBm08"
      },
      "outputs": [],
      "source": [
        "# You can also use this section to suppress warnings generated by your code:\n",
        "def warn(*args, **kwargs):\n",
        "    pass\n",
        "import warnings\n",
        "warnings.warn = warn\n",
        "warnings.filterwarnings('ignore')\n",
        "\n",
        "# FindSpark simplifies the process of using Apache Spark with Python\n",
        "\n",
        "import findspark\n",
        "findspark.init()"
      ]
    },
    {
      "cell_type": "markdown",
      "metadata": {
        "id": "17tNYmGYBm09"
      },
      "source": [
        "## Part 1 - Perform ETL activity\n"
      ]
    },
    {
      "cell_type": "markdown",
      "metadata": {
        "id": "pe_Z_zcyBm09"
      },
      "source": [
        "### Task 1 - Import required libraries\n"
      ]
    },
    {
      "cell_type": "code",
      "execution_count": 4,
      "metadata": {
        "id": "dStzMDgGBm09"
      },
      "outputs": [],
      "source": [
        "from pyspark.sql import SparkSession\n",
        "\n",
        "from pyspark.ml.feature import StringIndexer, StandardScaler\n",
        "from pyspark.ml.feature import VectorAssembler\n",
        "from pyspark.ml.regression import LinearRegression\n",
        "\n",
        "# import functions/Classes for metrics\n",
        "from pyspark.ml.evaluation import RegressionEvaluator, MulticlassClassificationEvaluator\n",
        "\n",
        "from pyspark.ml import Pipeline\n",
        "from pyspark.ml.pipeline import PipelineModel\n"
      ]
    },
    {
      "cell_type": "markdown",
      "metadata": {
        "id": "I5Iiuz2gBm09"
      },
      "source": [
        "### Task 2 - Create a spark session\n"
      ]
    },
    {
      "cell_type": "code",
      "execution_count": 5,
      "metadata": {
        "id": "lrSL7n81Bm09"
      },
      "outputs": [],
      "source": [
        "#Create a SparkSession\n",
        "\n",
        "spark = SparkSession.builder.appName(\"final project ML\").getOrCreate()"
      ]
    },
    {
      "cell_type": "markdown",
      "metadata": {
        "id": "59IO9Y3jBm09"
      },
      "source": [
        "### Task 3 - Load the csv file into a dataframe\n"
      ]
    },
    {
      "cell_type": "markdown",
      "metadata": {
        "id": "F3Hm2VjXBm0-"
      },
      "source": [
        "Download the data file.\n",
        "\n",
        "NOTE : Please ensure you use the dataset below and not the original dataset mentioned above.\n"
      ]
    },
    {
      "cell_type": "code",
      "execution_count": 6,
      "metadata": {
        "id": "9ryZQXtEBm0-",
        "colab": {
          "base_uri": "https://localhost:8080/"
        },
        "outputId": "6f796b04-fa08-4bf8-e65b-636b72073bcf"
      },
      "outputs": [
        {
          "output_type": "stream",
          "name": "stdout",
          "text": [
            "--2024-06-21 19:22:38--  https://cf-courses-data.s3.us.cloud-object-storage.appdomain.cloud/IBMSkillsNetwork-BD0231EN-Coursera/datasets/NASA_airfoil_noise_raw.csv\n",
            "Resolving cf-courses-data.s3.us.cloud-object-storage.appdomain.cloud (cf-courses-data.s3.us.cloud-object-storage.appdomain.cloud)... 169.45.118.108\n",
            "Connecting to cf-courses-data.s3.us.cloud-object-storage.appdomain.cloud (cf-courses-data.s3.us.cloud-object-storage.appdomain.cloud)|169.45.118.108|:443... connected.\n",
            "HTTP request sent, awaiting response... 200 OK\n",
            "Length: 60682 (59K) [text/csv]\n",
            "Saving to: ‘NASA_airfoil_noise_raw.csv’\n",
            "\n",
            "NASA_airfoil_noise_ 100%[===================>]  59.26K  --.-KB/s    in 0.1s    \n",
            "\n",
            "2024-06-21 19:22:39 (520 KB/s) - ‘NASA_airfoil_noise_raw.csv’ saved [60682/60682]\n",
            "\n"
          ]
        }
      ],
      "source": [
        "!wget https://cf-courses-data.s3.us.cloud-object-storage.appdomain.cloud/IBMSkillsNetwork-BD0231EN-Coursera/datasets/NASA_airfoil_noise_raw.csv\n"
      ]
    },
    {
      "cell_type": "markdown",
      "metadata": {
        "id": "4JkiqpcpBm0-"
      },
      "source": [
        "Load the dataset into the spark dataframe\n"
      ]
    },
    {
      "cell_type": "code",
      "execution_count": 7,
      "metadata": {
        "id": "5iVlNy0uBm0-"
      },
      "outputs": [],
      "source": [
        "# Load the dataset that you have downloaded in the previous task\n",
        "\n",
        "df = spark.read.csv(\"NASA_airfoil_noise_raw.csv\", inferSchema=True, header=True)\n"
      ]
    },
    {
      "cell_type": "markdown",
      "metadata": {
        "id": "Gt8vx57qBm0-"
      },
      "source": [
        "### Task 4 - Print top 5 rows of the dataset\n"
      ]
    },
    {
      "cell_type": "code",
      "execution_count": 8,
      "metadata": {
        "id": "sTqsQzeDBm0-",
        "colab": {
          "base_uri": "https://localhost:8080/"
        },
        "outputId": "f121b1a8-f193-4a67-c22f-8bc2abee2d25"
      },
      "outputs": [
        {
          "output_type": "stream",
          "name": "stdout",
          "text": [
            "+---------+-------------+-----------+------------------+-----------------------+----------+\n",
            "|Frequency|AngleOfAttack|ChordLength|FreeStreamVelocity|SuctionSideDisplacement|SoundLevel|\n",
            "+---------+-------------+-----------+------------------+-----------------------+----------+\n",
            "|      800|          0.0|     0.3048|              71.3|             0.00266337|   126.201|\n",
            "|     1000|          0.0|     0.3048|              71.3|             0.00266337|   125.201|\n",
            "|     1250|          0.0|     0.3048|              71.3|             0.00266337|   125.951|\n",
            "|     1600|          0.0|     0.3048|              71.3|             0.00266337|   127.591|\n",
            "|     2000|          0.0|     0.3048|              71.3|             0.00266337|   127.461|\n",
            "+---------+-------------+-----------+------------------+-----------------------+----------+\n",
            "only showing top 5 rows\n",
            "\n"
          ]
        }
      ],
      "source": [
        "df.show(5)\n"
      ]
    },
    {
      "cell_type": "markdown",
      "metadata": {
        "id": "Bvjp5vuwBm0_"
      },
      "source": [
        "### Task 6 - Print the total number of rows in the dataset\n"
      ]
    },
    {
      "cell_type": "code",
      "execution_count": 9,
      "metadata": {
        "id": "fOW_WJUTBm0_",
        "colab": {
          "base_uri": "https://localhost:8080/"
        },
        "outputId": "ec81c655-cba8-4df7-cea6-12a0fb7b3e84"
      },
      "outputs": [
        {
          "output_type": "stream",
          "name": "stdout",
          "text": [
            "1522\n"
          ]
        }
      ],
      "source": [
        "#your code goes here\n",
        "rowcount1 = df.count()\n",
        "print(rowcount1)"
      ]
    },
    {
      "cell_type": "markdown",
      "metadata": {
        "id": "YHCrkFsBBm0_"
      },
      "source": [
        "### Task 7 - Drop all the duplicate rows from the dataset\n"
      ]
    },
    {
      "cell_type": "code",
      "execution_count": 10,
      "metadata": {
        "id": "hhwtwW7CBm0_"
      },
      "outputs": [],
      "source": [
        "df = df.dropDuplicates()\n"
      ]
    },
    {
      "cell_type": "markdown",
      "metadata": {
        "id": "8A3q6ydsBm0_"
      },
      "source": [
        "### Task 8 - Print the total number of rows in the dataset\n"
      ]
    },
    {
      "cell_type": "code",
      "execution_count": 11,
      "metadata": {
        "id": "ln6dRw5UBm0_",
        "colab": {
          "base_uri": "https://localhost:8080/"
        },
        "outputId": "e2e347a3-61ff-428e-fe6c-580d083ac7af"
      },
      "outputs": [
        {
          "output_type": "stream",
          "name": "stdout",
          "text": [
            "1503\n"
          ]
        }
      ],
      "source": [
        "#your code goes here\n",
        "\n",
        "rowcount2 = df.count()\n",
        "print(rowcount2)\n"
      ]
    },
    {
      "cell_type": "markdown",
      "metadata": {
        "id": "JPEr0pwjBm1A"
      },
      "source": [
        "### Task 9 - Drop all the rows that contain null values from the dataset\n"
      ]
    },
    {
      "cell_type": "code",
      "execution_count": 12,
      "metadata": {
        "id": "ArCiZ9JhBm1A"
      },
      "outputs": [],
      "source": [
        "df = df.dropna()\n"
      ]
    },
    {
      "cell_type": "markdown",
      "metadata": {
        "id": "Fzw9Fc7sBm1A"
      },
      "source": [
        "### Task 10 - Print the total number of rows in the dataset\n"
      ]
    },
    {
      "cell_type": "code",
      "execution_count": 13,
      "metadata": {
        "id": "hKQtr52PBm1A",
        "colab": {
          "base_uri": "https://localhost:8080/"
        },
        "outputId": "7080c1c2-1cf0-4a25-d825-73af0f512ca4"
      },
      "outputs": [
        {
          "output_type": "stream",
          "name": "stdout",
          "text": [
            "1499\n"
          ]
        }
      ],
      "source": [
        "#your code goes here\n",
        "\n",
        "rowcount3 = df.count()\n",
        "print(rowcount3)\n"
      ]
    },
    {
      "cell_type": "code",
      "source": [
        "df.printSchema()"
      ],
      "metadata": {
        "colab": {
          "base_uri": "https://localhost:8080/"
        },
        "id": "c0xEWMYdQk2A",
        "outputId": "8e0a32a5-af23-4f13-a297-ac287365c84e"
      },
      "execution_count": 14,
      "outputs": [
        {
          "output_type": "stream",
          "name": "stdout",
          "text": [
            "root\n",
            " |-- Frequency: integer (nullable = true)\n",
            " |-- AngleOfAttack: double (nullable = true)\n",
            " |-- ChordLength: double (nullable = true)\n",
            " |-- FreeStreamVelocity: double (nullable = true)\n",
            " |-- SuctionSideDisplacement: double (nullable = true)\n",
            " |-- SoundLevel: double (nullable = true)\n",
            "\n"
          ]
        }
      ]
    },
    {
      "cell_type": "code",
      "source": [
        "print(\"n. of partitions: \", df.rdd.getNumPartitions())"
      ],
      "metadata": {
        "colab": {
          "base_uri": "https://localhost:8080/"
        },
        "id": "66aNwZDdRGOw",
        "outputId": "5242a150-ee33-4ac9-f18d-9f1936c13f02"
      },
      "execution_count": 17,
      "outputs": [
        {
          "output_type": "stream",
          "name": "stdout",
          "text": [
            "n. of partitions:  200\n"
          ]
        }
      ]
    },
    {
      "cell_type": "markdown",
      "metadata": {
        "id": "Z1Z5dZ_6Bm1A"
      },
      "source": [
        "### Task 11 - Rename the column \"SoundLevel\" to \"SoundLevelDecibels\"\n"
      ]
    },
    {
      "cell_type": "code",
      "execution_count": 15,
      "metadata": {
        "id": "CGUH1j1WBm1A"
      },
      "outputs": [],
      "source": [
        "# your code goes here\n",
        "\n",
        "df = df.withColumnRenamed(\"SoundLevel\",\"SoundLevelDecibels\")\n"
      ]
    },
    {
      "cell_type": "markdown",
      "metadata": {
        "id": "lawt8quVBm1B"
      },
      "source": [
        "### Task 12 - Save the dataframe in parquet format, name the file as \"NASA_airfoil_noise_cleaned.parquet\"\n"
      ]
    },
    {
      "cell_type": "code",
      "execution_count": 16,
      "metadata": {
        "id": "7-w5GkdUBm1B"
      },
      "outputs": [],
      "source": [
        "\n",
        "!mkdir NASA_airfoil_noise_cleaned.parquet\n",
        "\n",
        "df.write.mode(\"overwrite\").parquet(\"./NASA_airfoil_noise_cleaned.parquet\")\n"
      ]
    },
    {
      "cell_type": "markdown",
      "metadata": {
        "id": "RK-zzstoBm1B"
      },
      "source": [
        "#### Part 1 - Evaluation\n"
      ]
    },
    {
      "cell_type": "markdown",
      "metadata": {
        "id": "CZdRmU9JBm1B"
      },
      "source": [
        "\n",
        "**Run the code cell below.**<br>\n",
        "**Use the answers here to answer the final evaluation quiz in the next section.**<br>\n",
        "**If the code throws up any errors, go back and review the code you have written.**</b>\n"
      ]
    },
    {
      "cell_type": "code",
      "execution_count": 18,
      "metadata": {
        "id": "dLpw_qn-Bm1B",
        "colab": {
          "base_uri": "https://localhost:8080/"
        },
        "outputId": "46815b00-60c3-4218-afcb-c9c04c7f3282"
      },
      "outputs": [
        {
          "output_type": "stream",
          "name": "stdout",
          "text": [
            "Part 1 - Evaluation\n",
            "Total rows =  1522\n",
            "Total rows after dropping duplicate rows =  1503\n",
            "Total rows after dropping duplicate rows and rows with null values =  1499\n",
            "New column name =  SoundLevelDecibels\n",
            "NASA_airfoil_noise_cleaned.parquet exists : True\n"
          ]
        }
      ],
      "source": [
        "print(\"Part 1 - Evaluation\")\n",
        "\n",
        "print(\"Total rows = \", rowcount1)\n",
        "print(\"Total rows after dropping duplicate rows = \", rowcount2)\n",
        "print(\"Total rows after dropping duplicate rows and rows with null values = \", rowcount3)\n",
        "print(\"New column name = \", df.columns[-1])\n",
        "\n",
        "import os\n",
        "\n",
        "print(\"NASA_airfoil_noise_cleaned.parquet exists :\", os.path.isdir(\"NASA_airfoil_noise_cleaned.parquet\"))"
      ]
    },
    {
      "cell_type": "markdown",
      "metadata": {
        "id": "NOHQsriABm1B"
      },
      "source": [
        "## Part - 2 Create a  Machine Learning Pipeline\n"
      ]
    },
    {
      "cell_type": "markdown",
      "metadata": {
        "id": "rd43EmHaBm1B"
      },
      "source": [
        "### Task 1 - Load data from \"NASA_airfoil_noise_cleaned.parquet\" into a dataframe\n"
      ]
    },
    {
      "cell_type": "code",
      "execution_count": 19,
      "metadata": {
        "id": "GUE0vk72Bm1C"
      },
      "outputs": [],
      "source": [
        "df = spark.read.parquet(\"NASA_airfoil_noise_cleaned.parquet\")\n"
      ]
    },
    {
      "cell_type": "markdown",
      "metadata": {
        "id": "N5NXKbtbBm1C"
      },
      "source": [
        "### Task 2 - Print the total number of rows in the dataset\n"
      ]
    },
    {
      "cell_type": "code",
      "execution_count": 20,
      "metadata": {
        "id": "bS2GX8zOBm1C",
        "colab": {
          "base_uri": "https://localhost:8080/"
        },
        "outputId": "d65f5615-ae6b-49fa-b2bb-fd86d02bc562"
      },
      "outputs": [
        {
          "output_type": "stream",
          "name": "stdout",
          "text": [
            "1499\n"
          ]
        }
      ],
      "source": [
        "rowcount4 = df.count()\n",
        "print(rowcount4)"
      ]
    },
    {
      "cell_type": "markdown",
      "metadata": {
        "id": "gzbZXZ2eBm1C"
      },
      "source": [
        "### Task 3 - Define the VectorAssembler pipeline stage\n"
      ]
    },
    {
      "cell_type": "markdown",
      "metadata": {
        "id": "jiwPQd80Bm1C"
      },
      "source": [
        "Stage 1 - Assemble the input columns into a single column \"features\". Use all the columns except SoundLevelDecibels as input features.\n"
      ]
    },
    {
      "cell_type": "code",
      "execution_count": 21,
      "metadata": {
        "id": "aNtNdNMmBm1C"
      },
      "outputs": [],
      "source": [
        "inputed_lines = [\"Frequency\",\"AngleOfAttack\",\"ChordLength\",\"FreeStreamVelocity\",\"SuctionSideDisplacement\"]\n",
        "assembler = VectorAssembler(inputCols=inputed_lines, outputCol=\"features\")\n"
      ]
    },
    {
      "cell_type": "markdown",
      "metadata": {
        "id": "mJcZadsjBm1D"
      },
      "source": [
        "### Task 4 - Define the StandardScaler pipeline stage\n"
      ]
    },
    {
      "cell_type": "markdown",
      "metadata": {
        "id": "pgckaIDhBm1D"
      },
      "source": [
        "Stage 2 - Scale the \"features\" using standard scaler and store in \"scaledFeatures\" column\n"
      ]
    },
    {
      "cell_type": "code",
      "execution_count": 22,
      "metadata": {
        "id": "u2zEIqBkBm1D"
      },
      "outputs": [],
      "source": [
        "scaler = StandardScaler(inputCol=\"features\", outputCol=\"scaledFeatures\")\n"
      ]
    },
    {
      "cell_type": "markdown",
      "metadata": {
        "id": "Fkln-4uGBm1D"
      },
      "source": [
        "### Task 5 - Define the Model creation pipeline stage\n"
      ]
    },
    {
      "cell_type": "markdown",
      "metadata": {
        "id": "yFFXlKMqBm1D"
      },
      "source": [
        "Stage 3 - Create a LinearRegression stage to predict \"SoundLevelDecibels\"\n",
        "\n",
        "**Note:You need to use the scaledfeatures retreived in the previous step(StandardScaler pipeline stage).**\n"
      ]
    },
    {
      "cell_type": "code",
      "execution_count": 23,
      "metadata": {
        "id": "7oWUC3y4Bm1D"
      },
      "outputs": [],
      "source": [
        "lr = LinearRegression(featuresCol=\"scaledFeatures\", labelCol=\"SoundLevelDecibels\")\n"
      ]
    },
    {
      "cell_type": "markdown",
      "metadata": {
        "id": "l7_nfya8Bm1D"
      },
      "source": [
        "### Task 6 - Build the pipeline\n"
      ]
    },
    {
      "cell_type": "markdown",
      "metadata": {
        "id": "CO2gfLE2Bm1D"
      },
      "source": [
        "Build a pipeline using the above three stages\n"
      ]
    },
    {
      "cell_type": "code",
      "execution_count": 24,
      "metadata": {
        "id": "AvgkD37lBm1D"
      },
      "outputs": [],
      "source": [
        "pipeline = Pipeline(stages=[assembler, scaler, lr])\n"
      ]
    },
    {
      "cell_type": "markdown",
      "metadata": {
        "id": "DEnWg2lfBm1E"
      },
      "source": [
        "### Task 7 - Split the data\n"
      ]
    },
    {
      "cell_type": "code",
      "execution_count": 25,
      "metadata": {
        "id": "tLbXag65Bm1E"
      },
      "outputs": [],
      "source": [
        "(trainingData, testingData) = df.randomSplit([0.7,0.3], seed=42)"
      ]
    },
    {
      "cell_type": "markdown",
      "metadata": {
        "id": "VJ8tocAABm1E"
      },
      "source": [
        "### Task 8 - Fit the pipeline\n"
      ]
    },
    {
      "cell_type": "code",
      "execution_count": 26,
      "metadata": {
        "id": "93RaU9OnBm1E"
      },
      "outputs": [],
      "source": [
        "# Fit the pipeline using the training data\n",
        "\n",
        "pipelineModel = pipeline.fit(trainingData)\n"
      ]
    },
    {
      "cell_type": "markdown",
      "metadata": {
        "id": "fNeP5rM_Bm1E"
      },
      "source": [
        "#### Part 2 - Evaluation\n"
      ]
    },
    {
      "cell_type": "markdown",
      "metadata": {
        "id": "t46IwcYDBm1E"
      },
      "source": [
        "\n",
        "**Run the code cell below.**<br>\n",
        "**Use the answers here to answer the final evaluation quiz in the next section.**<br>\n",
        "**If the code throws up any errors, go back and review the code you have written.**</b>\n"
      ]
    },
    {
      "cell_type": "code",
      "execution_count": 27,
      "metadata": {
        "id": "qvc6JBqvBm1F",
        "colab": {
          "base_uri": "https://localhost:8080/"
        },
        "outputId": "9029afd9-bdd4-47f9-ba83-1d2b97dbf011"
      },
      "outputs": [
        {
          "output_type": "stream",
          "name": "stdout",
          "text": [
            "Part 2 - Evaluation\n",
            "Total rows =  1499\n",
            "Pipeline Stage 1 =  VectorAssembler\n",
            "Pipeline Stage 2 =  StandardScaler\n",
            "Pipeline Stage 3 =  LinearRegression\n",
            "Label column =  SoundLevelDecibels\n"
          ]
        }
      ],
      "source": [
        "print(\"Part 2 - Evaluation\")\n",
        "print(\"Total rows = \", rowcount4)\n",
        "ps = [str(x).split(\"_\")[0] for x in pipeline.getStages()]\n",
        "\n",
        "print(\"Pipeline Stage 1 = \", ps[0])\n",
        "print(\"Pipeline Stage 2 = \", ps[1])\n",
        "print(\"Pipeline Stage 3 = \", ps[2])\n",
        "\n",
        "print(\"Label column = \", lr.getLabelCol())"
      ]
    },
    {
      "cell_type": "markdown",
      "metadata": {
        "id": "l-WokKCYBm1F"
      },
      "source": [
        "## Part 3 - Evaluate the Model\n"
      ]
    },
    {
      "cell_type": "markdown",
      "metadata": {
        "id": "AMYrFjM3Bm1F"
      },
      "source": [
        "### Task 1 - Predict using the model\n"
      ]
    },
    {
      "cell_type": "code",
      "execution_count": 28,
      "metadata": {
        "id": "GFz9vuTzBm1F"
      },
      "outputs": [],
      "source": [
        "# Make predictions on testing data\n",
        "\n",
        "predictions = pipelineModel.transform(testingData)\n"
      ]
    },
    {
      "cell_type": "markdown",
      "metadata": {
        "id": "moR7s5LbBm1F"
      },
      "source": [
        "### Task 2 - Print the MSE\n"
      ]
    },
    {
      "cell_type": "code",
      "execution_count": 30,
      "metadata": {
        "id": "8cSCz6i0Bm1F",
        "colab": {
          "base_uri": "https://localhost:8080/"
        },
        "outputId": "41623f43-93a1-4d45-e1ee-590fcb857024"
      },
      "outputs": [
        {
          "output_type": "stream",
          "name": "stdout",
          "text": [
            "Mean Squared Error (MSE) = 26.57450359380139\n"
          ]
        }
      ],
      "source": [
        "evaluator = RegressionEvaluator(labelCol=\"SoundLevelDecibels\", predictionCol=\"prediction\", metricName=\"mse\")\n",
        "mse = evaluator.evaluate(predictions)\n",
        "print(\"Mean Squared Error (MSE) =\", mse)\n"
      ]
    },
    {
      "cell_type": "markdown",
      "metadata": {
        "id": "a1tjjMMdBm1F"
      },
      "source": [
        "### Task 3 - Print the MAE\n"
      ]
    },
    {
      "cell_type": "code",
      "execution_count": 31,
      "metadata": {
        "id": "PMLgBuSnBm1F",
        "colab": {
          "base_uri": "https://localhost:8080/"
        },
        "outputId": "7fbc193b-93da-4795-dc26-56675709b077"
      },
      "outputs": [
        {
          "output_type": "stream",
          "name": "stdout",
          "text": [
            "Mean Absolute Error (MAE) = 3.9923220160490525\n"
          ]
        }
      ],
      "source": [
        "evaluator = RegressionEvaluator(labelCol=\"SoundLevelDecibels\", predictionCol=\"prediction\", metricName=\"mae\")\n",
        "mae = evaluator.evaluate(predictions)\n",
        "print(\"Mean Absolute Error (MAE) =\", mae)\n"
      ]
    },
    {
      "cell_type": "markdown",
      "metadata": {
        "id": "n135EVxnBm1G"
      },
      "source": [
        "### Task 4 - Print the R-Squared(R2)\n"
      ]
    },
    {
      "cell_type": "code",
      "execution_count": 33,
      "metadata": {
        "id": "YnQw6PcnBm1G",
        "colab": {
          "base_uri": "https://localhost:8080/"
        },
        "outputId": "172830cf-d8ac-431d-c05a-fe9d3d1d43e7"
      },
      "outputs": [
        {
          "output_type": "stream",
          "name": "stdout",
          "text": [
            "R Squared = 0.4785118915245046\n"
          ]
        }
      ],
      "source": [
        "evaluator = RegressionEvaluator(labelCol=\"SoundLevelDecibels\", predictionCol=\"prediction\", metricName=\"r2\")\n",
        "r2 = evaluator.evaluate(predictions)\n",
        "print(\"R Squared =\", r2)\n"
      ]
    },
    {
      "cell_type": "markdown",
      "metadata": {
        "id": "EUVetw_TBm1G"
      },
      "source": [
        "#### Part 3 - Evaluation\n"
      ]
    },
    {
      "cell_type": "markdown",
      "metadata": {
        "id": "ZTFkeA5RBm1G"
      },
      "source": [
        "\n",
        "**Run the code cell below.**<br>\n",
        "**Use the answers here to answer the final evaluation quiz in the next section.**<br>\n",
        "**If the code throws up any errors, go back and review the code you have written.**</b>\n"
      ]
    },
    {
      "cell_type": "code",
      "execution_count": 34,
      "metadata": {
        "id": "6223XvMBBm1G",
        "colab": {
          "base_uri": "https://localhost:8080/"
        },
        "outputId": "cbe51a85-c55e-468f-d811-35ead7b7a9ef"
      },
      "outputs": [
        {
          "output_type": "stream",
          "name": "stdout",
          "text": [
            "Part 3 - Evaluation\n",
            "Mean Squared Error =  26.57\n",
            "Mean Absolute Error =  3.99\n",
            "R Squared =  0.48\n",
            "Intercept =  132.57\n"
          ]
        }
      ],
      "source": [
        "print(\"Part 3 - Evaluation\")\n",
        "\n",
        "print(\"Mean Squared Error = \", round(mse,2))\n",
        "print(\"Mean Absolute Error = \", round(mae,2))\n",
        "print(\"R Squared = \", round(r2,2))\n",
        "\n",
        "lrModel = pipelineModel.stages[-1]\n",
        "\n",
        "print(\"Intercept = \", round(lrModel.intercept,2))\n"
      ]
    },
    {
      "cell_type": "markdown",
      "metadata": {
        "id": "aHQCmwZZBm1G"
      },
      "source": [
        "## Part 4 - Persist the Model\n"
      ]
    },
    {
      "cell_type": "markdown",
      "metadata": {
        "id": "MAGon5rwBm1G"
      },
      "source": [
        "### Task 1 - Save the model to the path \"Final_Project\"\n"
      ]
    },
    {
      "cell_type": "code",
      "execution_count": 35,
      "metadata": {
        "id": "EdVfG0-VBm1H"
      },
      "outputs": [],
      "source": [
        "# Save the pipeline model as \"Final_Project\"\n",
        "!mkdir Final_Project\n",
        "\n",
        "pipelineModel.write().overwrite().save(\"./Final_Project\")\n"
      ]
    },
    {
      "cell_type": "markdown",
      "metadata": {
        "id": "FRWn85BpBm1H"
      },
      "source": [
        "### Task 2 - Load the model from the path \"Final_Project\"\n"
      ]
    },
    {
      "cell_type": "code",
      "execution_count": 36,
      "metadata": {
        "id": "YnzKJ38OBm1H"
      },
      "outputs": [],
      "source": [
        "# Load the pipeline model you have created in the previous step\n",
        "loadedPipelineModel = PipelineModel.load(\"./Final_Project\")\n"
      ]
    },
    {
      "cell_type": "markdown",
      "metadata": {
        "id": "G8oUJGdEBm1H"
      },
      "source": [
        "### Task 3 - Make predictions using the loaded model on the testdata\n"
      ]
    },
    {
      "cell_type": "code",
      "execution_count": 37,
      "metadata": {
        "id": "WERy4PL_Bm1H"
      },
      "outputs": [],
      "source": [
        "# Use the loaded pipeline model and make predictions using testingData\n",
        "predictions = loadedPipelineModel.transform(testingData)\n"
      ]
    },
    {
      "cell_type": "markdown",
      "metadata": {
        "id": "Wn-jCEOgBm1H"
      },
      "source": [
        "### Task 4 - Show the predictions\n"
      ]
    },
    {
      "cell_type": "code",
      "execution_count": 39,
      "metadata": {
        "id": "9EhYySYQBm1H",
        "colab": {
          "base_uri": "https://localhost:8080/"
        },
        "outputId": "08b6e885-70a7-4ebf-d741-9a01cca0f08d"
      },
      "outputs": [
        {
          "output_type": "stream",
          "name": "stdout",
          "text": [
            "+------------------+\n",
            "|        prediction|\n",
            "+------------------+\n",
            "| 121.1759019027927|\n",
            "|122.47988450139373|\n",
            "|127.61142882533788|\n",
            "|129.16838160755117|\n",
            "|122.09809876229559|\n",
            "+------------------+\n",
            "only showing top 5 rows\n",
            "\n"
          ]
        }
      ],
      "source": [
        "#show top 5 rows from the predections dataframe. Display only the label column and predictions\n",
        "predictions.select(\"prediction\").show(5)\n"
      ]
    },
    {
      "cell_type": "markdown",
      "metadata": {
        "id": "qmA2FVojBm1H"
      },
      "source": [
        "#### Part 4 - Evaluation\n"
      ]
    },
    {
      "cell_type": "markdown",
      "metadata": {
        "id": "noQFS946Bm1I"
      },
      "source": [
        "\n",
        "\n",
        "**Run the code cell below.**<br>\n",
        "**Use the answers here to answer the final evaluation quiz in the next section.**<br>\n",
        "**If the code throws up any errors, go back and review the code you have written.**</b>\n"
      ]
    },
    {
      "cell_type": "code",
      "execution_count": 40,
      "metadata": {
        "id": "ZWQX6OQ3Bm1I",
        "colab": {
          "base_uri": "https://localhost:8080/"
        },
        "outputId": "599dd88b-9a3e-45fd-b086-2d7182625fa7"
      },
      "outputs": [
        {
          "output_type": "stream",
          "name": "stdout",
          "text": [
            "Part 4 - Evaluation\n",
            "Number of stages in the pipeline =  3\n",
            "Coefficient for Frequency is -3.8025\n",
            "Coefficient for AngleOfAttack is -2.1485\n",
            "Coefficient for ChordLength is -3.3966\n",
            "Coefficient for FreeStreamVelocity is 1.4629\n",
            "Coefficient for SuctionSideDisplacement is -2.1833\n"
          ]
        }
      ],
      "source": [
        "print(\"Part 4 - Evaluation\")\n",
        "\n",
        "loadedmodel = loadedPipelineModel.stages[-1]\n",
        "totalstages = len(loadedPipelineModel.stages)\n",
        "inputcolumns = loadedPipelineModel.stages[0].getInputCols()\n",
        "\n",
        "print(\"Number of stages in the pipeline = \", totalstages)\n",
        "for i,j in zip(inputcolumns, loadedmodel.coefficients):\n",
        "    print(f\"Coefficient for {i} is {round(j,4)}\")"
      ]
    },
    {
      "cell_type": "code",
      "execution_count": 41,
      "metadata": {
        "id": "EEEcIDLlBm1I"
      },
      "outputs": [],
      "source": [
        "spark.stop()"
      ]
    }
  ],
  "metadata": {
    "kernelspec": {
      "display_name": "Python",
      "language": "python",
      "name": "conda-env-python-py"
    },
    "language_info": {
      "codemirror_mode": {
        "name": "ipython",
        "version": 3
      },
      "file_extension": ".py",
      "mimetype": "text/x-python",
      "name": "python",
      "nbconvert_exporter": "python",
      "pygments_lexer": "ipython3",
      "version": "3.7.12"
    },
    "prev_pub_hash": "7f2fb6b481a4fe3bc99b856722dc389d1754d5fd0bee488552bdf9a9d6e8cf82",
    "colab": {
      "provenance": []
    }
  },
  "nbformat": 4,
  "nbformat_minor": 0
}