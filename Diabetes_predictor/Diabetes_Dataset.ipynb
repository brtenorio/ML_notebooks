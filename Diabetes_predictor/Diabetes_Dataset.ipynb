{
  "cells": [
    {
      "cell_type": "markdown",
      "metadata": {
        "id": "eLhvrGacBqHQ"
      },
      "source": [
        "Here we will use a neural network to predict diabetes using the Pima Diabetes Dataset. We will start by training a Logistic regression and Random Forest to get a performance baseline. Then we will use the Keras package to quickly build and train a neural network and compare the performance.\n",
        "\n",
        "## UCI Pima Diabetes Dataset\n",
        "\n",
        "* UCI ML Repositiory (http://archive.ics.uci.edu/ml/datasets/Pima+Indians+Diabetes)\n",
        "\n",
        "\n",
        "### Attributes: (all numeric-valued)\n",
        "   1. Number of times pregnant\n",
        "   2. Plasma glucose concentration a 2 hours in an oral glucose tolerance test\n",
        "   3. Diastolic blood pressure (mm Hg)\n",
        "   4. Triceps skin fold thickness (mm)\n",
        "   5. 2-Hour serum insulin (mu U/ml)\n",
        "   6. Body mass index (weight in kg/(height in m)^2)\n",
        "   7. Diabetes pedigree function\n",
        "   8. Age (years)\n",
        "   9. Class variable (0 or 1)"
      ]
    },
    {
      "cell_type": "markdown",
      "metadata": {
        "id": "3d0PxDvdBzJp"
      },
      "source": [
        "The UCI Pima Diabetes Dataset which has 8 numerical predictors and a binary outcome."
      ]
    },
    {
      "cell_type": "code",
      "execution_count": 1,
      "metadata": {
        "id": "fBpEYgF2BsB7"
      },
      "outputs": [],
      "source": [
        "import numpy as np\n",
        "import pandas as pd\n",
        "from sklearn.linear_model import LogisticRegression\n",
        "from sklearn.preprocessing import OneHotEncoder, LabelEncoder, MinMaxScaler\n",
        "from sklearn.model_selection import train_test_split, learning_curve, RandomizedSearchCV\n",
        "from sklearn.model_selection import PredefinedSplit\n",
        "from sklearn.ensemble import RandomForestClassifier\n",
        "from sklearn import metrics\n",
        "from sklearn.neural_network import MLPClassifier\n",
        "from sklearn.metrics import classification_report, accuracy_score, confusion_matrix, precision_recall_fscore_support, precision_score, recall_score\n",
        "from keras.models import Sequential\n",
        "from keras.layers import Dense, Dropout, BatchNormalization\n",
        "from keras.utils import to_categorical\n",
        "from keras.optimizers import SGD, Adam\n",
        "import matplotlib.pyplot as plt\n",
        "import seaborn as sns\n",
        "%matplotlib inline\n",
        "import random\n",
        "import seaborn as sns\n",
        "from tqdm.notebook import tqdm\n"
      ]
    },
    {
      "cell_type": "code",
      "execution_count": 2,
      "metadata": {
        "colab": {
          "base_uri": "https://localhost:8080/",
          "height": 225
        },
        "id": "snEa2iosCCCk",
        "outputId": "9a483b2c-6356-42e9-9f0a-2ad276d33861"
      },
      "outputs": [
        {
          "name": "stdout",
          "output_type": "stream",
          "text": [
            "(768, 9)\n"
          ]
        },
        {
          "data": {
            "text/html": [
              "<div>\n",
              "<style scoped>\n",
              "    .dataframe tbody tr th:only-of-type {\n",
              "        vertical-align: middle;\n",
              "    }\n",
              "\n",
              "    .dataframe tbody tr th {\n",
              "        vertical-align: top;\n",
              "    }\n",
              "\n",
              "    .dataframe thead th {\n",
              "        text-align: right;\n",
              "    }\n",
              "</style>\n",
              "<table border=\"1\" class=\"dataframe\">\n",
              "  <thead>\n",
              "    <tr style=\"text-align: right;\">\n",
              "      <th></th>\n",
              "      <th>Pregnancies</th>\n",
              "      <th>Glucose</th>\n",
              "      <th>BloodPressure</th>\n",
              "      <th>SkinThickness</th>\n",
              "      <th>Insulin</th>\n",
              "      <th>BMI</th>\n",
              "      <th>DiabetesPedigreeFunction</th>\n",
              "      <th>Age</th>\n",
              "      <th>Outcome</th>\n",
              "    </tr>\n",
              "  </thead>\n",
              "  <tbody>\n",
              "    <tr>\n",
              "      <th>0</th>\n",
              "      <td>6</td>\n",
              "      <td>148</td>\n",
              "      <td>72</td>\n",
              "      <td>35</td>\n",
              "      <td>0</td>\n",
              "      <td>33.6</td>\n",
              "      <td>0.627</td>\n",
              "      <td>50</td>\n",
              "      <td>1</td>\n",
              "    </tr>\n",
              "    <tr>\n",
              "      <th>1</th>\n",
              "      <td>1</td>\n",
              "      <td>85</td>\n",
              "      <td>66</td>\n",
              "      <td>29</td>\n",
              "      <td>0</td>\n",
              "      <td>26.6</td>\n",
              "      <td>0.351</td>\n",
              "      <td>31</td>\n",
              "      <td>0</td>\n",
              "    </tr>\n",
              "    <tr>\n",
              "      <th>2</th>\n",
              "      <td>8</td>\n",
              "      <td>183</td>\n",
              "      <td>64</td>\n",
              "      <td>0</td>\n",
              "      <td>0</td>\n",
              "      <td>23.3</td>\n",
              "      <td>0.672</td>\n",
              "      <td>32</td>\n",
              "      <td>1</td>\n",
              "    </tr>\n",
              "    <tr>\n",
              "      <th>3</th>\n",
              "      <td>1</td>\n",
              "      <td>89</td>\n",
              "      <td>66</td>\n",
              "      <td>23</td>\n",
              "      <td>94</td>\n",
              "      <td>28.1</td>\n",
              "      <td>0.167</td>\n",
              "      <td>21</td>\n",
              "      <td>0</td>\n",
              "    </tr>\n",
              "    <tr>\n",
              "      <th>4</th>\n",
              "      <td>0</td>\n",
              "      <td>137</td>\n",
              "      <td>40</td>\n",
              "      <td>35</td>\n",
              "      <td>168</td>\n",
              "      <td>43.1</td>\n",
              "      <td>2.288</td>\n",
              "      <td>33</td>\n",
              "      <td>1</td>\n",
              "    </tr>\n",
              "  </tbody>\n",
              "</table>\n",
              "</div>"
            ],
            "text/plain": [
              "   Pregnancies  Glucose  BloodPressure  SkinThickness  Insulin   BMI  \\\n",
              "0            6      148             72             35        0  33.6   \n",
              "1            1       85             66             29        0  26.6   \n",
              "2            8      183             64              0        0  23.3   \n",
              "3            1       89             66             23       94  28.1   \n",
              "4            0      137             40             35      168  43.1   \n",
              "\n",
              "   DiabetesPedigreeFunction  Age  Outcome  \n",
              "0                     0.627   50        1  \n",
              "1                     0.351   31        0  \n",
              "2                     0.672   32        1  \n",
              "3                     0.167   21        0  \n",
              "4                     2.288   33        1  "
            ]
          },
          "execution_count": 2,
          "metadata": {},
          "output_type": "execute_result"
        }
      ],
      "source": [
        "df = pd.read_csv('diabetes.csv')\n",
        "print(df.shape)\n",
        "df.head()"
      ]
    },
    {
      "cell_type": "code",
      "execution_count": 3,
      "metadata": {
        "colab": {
          "base_uri": "https://localhost:8080/"
        },
        "id": "6nEz4YABCLnC",
        "outputId": "b1ac62ed-b601-4cff-f7cc-d144e114e06f"
      },
      "outputs": [
        {
          "name": "stdout",
          "output_type": "stream",
          "text": [
            "<class 'pandas.core.frame.DataFrame'>\n",
            "RangeIndex: 768 entries, 0 to 767\n",
            "Data columns (total 9 columns):\n",
            " #   Column                    Non-Null Count  Dtype  \n",
            "---  ------                    --------------  -----  \n",
            " 0   Pregnancies               768 non-null    int64  \n",
            " 1   Glucose                   768 non-null    int64  \n",
            " 2   BloodPressure             768 non-null    int64  \n",
            " 3   SkinThickness             768 non-null    int64  \n",
            " 4   Insulin                   768 non-null    int64  \n",
            " 5   BMI                       768 non-null    float64\n",
            " 6   DiabetesPedigreeFunction  768 non-null    float64\n",
            " 7   Age                       768 non-null    int64  \n",
            " 8   Outcome                   768 non-null    int64  \n",
            "dtypes: float64(2), int64(7)\n",
            "memory usage: 54.1 KB\n"
          ]
        }
      ],
      "source": [
        "df.info()"
      ]
    },
    {
      "cell_type": "code",
      "execution_count": 4,
      "metadata": {
        "colab": {
          "base_uri": "https://localhost:8080/",
          "height": 300
        },
        "id": "7eVsGNg8A52F",
        "outputId": "2243c161-2ba5-42a6-fa67-7980b232695c"
      },
      "outputs": [
        {
          "data": {
            "text/html": [
              "<div>\n",
              "<style scoped>\n",
              "    .dataframe tbody tr th:only-of-type {\n",
              "        vertical-align: middle;\n",
              "    }\n",
              "\n",
              "    .dataframe tbody tr th {\n",
              "        vertical-align: top;\n",
              "    }\n",
              "\n",
              "    .dataframe thead th {\n",
              "        text-align: right;\n",
              "    }\n",
              "</style>\n",
              "<table border=\"1\" class=\"dataframe\">\n",
              "  <thead>\n",
              "    <tr style=\"text-align: right;\">\n",
              "      <th></th>\n",
              "      <th>Pregnancies</th>\n",
              "      <th>Glucose</th>\n",
              "      <th>BloodPressure</th>\n",
              "      <th>SkinThickness</th>\n",
              "      <th>Insulin</th>\n",
              "      <th>BMI</th>\n",
              "      <th>DiabetesPedigreeFunction</th>\n",
              "      <th>Age</th>\n",
              "      <th>Outcome</th>\n",
              "    </tr>\n",
              "  </thead>\n",
              "  <tbody>\n",
              "    <tr>\n",
              "      <th>count</th>\n",
              "      <td>768.000000</td>\n",
              "      <td>768.000000</td>\n",
              "      <td>768.000000</td>\n",
              "      <td>768.000000</td>\n",
              "      <td>768.000000</td>\n",
              "      <td>768.000000</td>\n",
              "      <td>768.000000</td>\n",
              "      <td>768.000000</td>\n",
              "      <td>768.000000</td>\n",
              "    </tr>\n",
              "    <tr>\n",
              "      <th>mean</th>\n",
              "      <td>3.845052</td>\n",
              "      <td>120.894531</td>\n",
              "      <td>69.105469</td>\n",
              "      <td>20.536458</td>\n",
              "      <td>79.799479</td>\n",
              "      <td>31.992578</td>\n",
              "      <td>0.471876</td>\n",
              "      <td>33.240885</td>\n",
              "      <td>0.348958</td>\n",
              "    </tr>\n",
              "    <tr>\n",
              "      <th>std</th>\n",
              "      <td>3.369578</td>\n",
              "      <td>31.972618</td>\n",
              "      <td>19.355807</td>\n",
              "      <td>15.952218</td>\n",
              "      <td>115.244002</td>\n",
              "      <td>7.884160</td>\n",
              "      <td>0.331329</td>\n",
              "      <td>11.760232</td>\n",
              "      <td>0.476951</td>\n",
              "    </tr>\n",
              "    <tr>\n",
              "      <th>min</th>\n",
              "      <td>0.000000</td>\n",
              "      <td>0.000000</td>\n",
              "      <td>0.000000</td>\n",
              "      <td>0.000000</td>\n",
              "      <td>0.000000</td>\n",
              "      <td>0.000000</td>\n",
              "      <td>0.078000</td>\n",
              "      <td>21.000000</td>\n",
              "      <td>0.000000</td>\n",
              "    </tr>\n",
              "    <tr>\n",
              "      <th>25%</th>\n",
              "      <td>1.000000</td>\n",
              "      <td>99.000000</td>\n",
              "      <td>62.000000</td>\n",
              "      <td>0.000000</td>\n",
              "      <td>0.000000</td>\n",
              "      <td>27.300000</td>\n",
              "      <td>0.243750</td>\n",
              "      <td>24.000000</td>\n",
              "      <td>0.000000</td>\n",
              "    </tr>\n",
              "    <tr>\n",
              "      <th>50%</th>\n",
              "      <td>3.000000</td>\n",
              "      <td>117.000000</td>\n",
              "      <td>72.000000</td>\n",
              "      <td>23.000000</td>\n",
              "      <td>30.500000</td>\n",
              "      <td>32.000000</td>\n",
              "      <td>0.372500</td>\n",
              "      <td>29.000000</td>\n",
              "      <td>0.000000</td>\n",
              "    </tr>\n",
              "    <tr>\n",
              "      <th>75%</th>\n",
              "      <td>6.000000</td>\n",
              "      <td>140.250000</td>\n",
              "      <td>80.000000</td>\n",
              "      <td>32.000000</td>\n",
              "      <td>127.250000</td>\n",
              "      <td>36.600000</td>\n",
              "      <td>0.626250</td>\n",
              "      <td>41.000000</td>\n",
              "      <td>1.000000</td>\n",
              "    </tr>\n",
              "    <tr>\n",
              "      <th>max</th>\n",
              "      <td>17.000000</td>\n",
              "      <td>199.000000</td>\n",
              "      <td>122.000000</td>\n",
              "      <td>99.000000</td>\n",
              "      <td>846.000000</td>\n",
              "      <td>67.100000</td>\n",
              "      <td>2.420000</td>\n",
              "      <td>81.000000</td>\n",
              "      <td>1.000000</td>\n",
              "    </tr>\n",
              "  </tbody>\n",
              "</table>\n",
              "</div>"
            ],
            "text/plain": [
              "       Pregnancies     Glucose  BloodPressure  SkinThickness     Insulin  \\\n",
              "count   768.000000  768.000000     768.000000     768.000000  768.000000   \n",
              "mean      3.845052  120.894531      69.105469      20.536458   79.799479   \n",
              "std       3.369578   31.972618      19.355807      15.952218  115.244002   \n",
              "min       0.000000    0.000000       0.000000       0.000000    0.000000   \n",
              "25%       1.000000   99.000000      62.000000       0.000000    0.000000   \n",
              "50%       3.000000  117.000000      72.000000      23.000000   30.500000   \n",
              "75%       6.000000  140.250000      80.000000      32.000000  127.250000   \n",
              "max      17.000000  199.000000     122.000000      99.000000  846.000000   \n",
              "\n",
              "              BMI  DiabetesPedigreeFunction         Age     Outcome  \n",
              "count  768.000000                768.000000  768.000000  768.000000  \n",
              "mean    31.992578                  0.471876   33.240885    0.348958  \n",
              "std      7.884160                  0.331329   11.760232    0.476951  \n",
              "min      0.000000                  0.078000   21.000000    0.000000  \n",
              "25%     27.300000                  0.243750   24.000000    0.000000  \n",
              "50%     32.000000                  0.372500   29.000000    0.000000  \n",
              "75%     36.600000                  0.626250   41.000000    1.000000  \n",
              "max     67.100000                  2.420000   81.000000    1.000000  "
            ]
          },
          "execution_count": 4,
          "metadata": {},
          "output_type": "execute_result"
        }
      ],
      "source": [
        "df.describe()"
      ]
    },
    {
      "cell_type": "code",
      "execution_count": 5,
      "metadata": {
        "colab": {
          "base_uri": "https://localhost:8080/"
        },
        "id": "tcePhiPABGoS",
        "outputId": "17d05bf3-7cd8-450f-e00d-ec10d5a8a3ae"
      },
      "outputs": [
        {
          "data": {
            "text/plain": [
              "Pregnancies                 0\n",
              "Glucose                     0\n",
              "BloodPressure               0\n",
              "SkinThickness               0\n",
              "Insulin                     0\n",
              "BMI                         0\n",
              "DiabetesPedigreeFunction    0\n",
              "Age                         0\n",
              "Outcome                     0\n",
              "dtype: int64"
            ]
          },
          "execution_count": 5,
          "metadata": {},
          "output_type": "execute_result"
        }
      ],
      "source": [
        "df.isna().sum()"
      ]
    },
    {
      "cell_type": "code",
      "execution_count": 6,
      "metadata": {
        "colab": {
          "base_uri": "https://localhost:8080/"
        },
        "id": "QA-c9Ac2BlLw",
        "outputId": "3230d72c-e462-4731-ee64-c9a201ee55f9"
      },
      "outputs": [
        {
          "data": {
            "text/plain": [
              "375"
            ]
          },
          "execution_count": 6,
          "metadata": {},
          "output_type": "execute_result"
        }
      ],
      "source": [
        "((df['Glucose']==0)|(df['BloodPressure']==0)|(df['SkinThickness']==0)|(df['Insulin']==0)|(df['Age']==0)).sum()"
      ]
    },
    {
      "cell_type": "markdown",
      "metadata": {},
      "source": [
        "We see there are 375 missing values (filled with zeros) among Glucose, BloodPressure, SkinThickness, Insulin, and Age. However, as our dataset has only 768 features, we will train our model without deleting features with missing values."
      ]
    },
    {
      "cell_type": "code",
      "execution_count": 7,
      "metadata": {
        "colab": {
          "base_uri": "https://localhost:8080/",
          "height": 462
        },
        "id": "-ZAbFNQw_0TF",
        "outputId": "c004e4cc-8509-470f-f45c-3714231cc158"
      },
      "outputs": [
        {
          "data": {
            "text/plain": [
              "<Axes: xlabel='Outcome'>"
            ]
          },
          "execution_count": 7,
          "metadata": {},
          "output_type": "execute_result"
        },
        {
          "data": {
            "image/png": "[encoded data removed]",
            "text/plain": [
              "<Figure size 640x480 with 1 Axes>"
            ]
          },
          "metadata": {},
          "output_type": "display_data"
        }
      ],
      "source": [
        "# # Get the row entries with the last col 'class'\n",
        "df['Outcome'].value_counts(normalize=True)\n",
        "df['Outcome'].value_counts(normalize=True).plot.bar(color=['#e67e22', '#27ae60'])"
      ]
    },
    {
      "cell_type": "markdown",
      "metadata": {
        "id": "45uJ-pDFYIkP"
      },
      "source": [
        "Above, we see that about 35% of the patients in this dataset have diabetes, while 65% do not.  This means we can get an accuracy of 65% without any model - just declare that no one has diabetes."
      ]
    },
    {
      "cell_type": "markdown",
      "metadata": {
        "id": "N3YQAPUxE9yg"
      },
      "source": [
        "First we will get a baseline performance using a Logistic Regression model."
      ]
    },
    {
      "cell_type": "code",
      "execution_count": 8,
      "metadata": {
        "id": "kvQCjh0QFYBb"
      },
      "outputs": [],
      "source": [
        "# start the seed generator for random number\n",
        "rs = 32"
      ]
    },
    {
      "cell_type": "code",
      "execution_count": 9,
      "metadata": {
        "id": "k6JfFJrSAsfm"
      },
      "outputs": [],
      "source": [
        "X = df.drop('Outcome',axis=1)\n",
        "y = df['Outcome']"
      ]
    },
    {
      "cell_type": "code",
      "execution_count": 10,
      "metadata": {
        "colab": {
          "base_uri": "https://localhost:8080/"
        },
        "id": "n5uJglRMFIY3",
        "outputId": "dae76d39-2379-4c30-e161-bdbca178c1db"
      },
      "outputs": [
        {
          "name": "stdout",
          "output_type": "stream",
          "text": [
            "Training dataset shape, X_train: (614, 8), y_train: (614,)\n",
            "Validation dataset shape, X_val: (123, 8), y_train: (123,)\n",
            "Testing dataset shape, X_test: (154, 8), y_test: (154,)\n"
          ]
        }
      ],
      "source": [
        "# First, let's split the training, validation, and testing dataset\n",
        "X_train, X_test, y_train, y_test = train_test_split(X, y, test_size=0.2, random_state = rs)\n",
        "X_tr, X_val, y_tr, y_val = train_test_split(X_train, y_train, test_size=0.2, random_state = rs)\n",
        "\n",
        "print(f\"Training dataset shape, X_train: {X_train.shape}, y_train: {y_train.shape}\")\n",
        "print(f\"Validation dataset shape, X_val: {X_val.shape}, y_train: {y_val.shape}\")\n",
        "print(f\"Testing dataset shape, X_test: {X_test.shape}, y_test: {y_test.shape}\")"
      ]
    },
    {
      "cell_type": "code",
      "execution_count": 11,
      "metadata": {
        "id": "MbGHAJrTLfZi"
      },
      "outputs": [],
      "source": [
        "split_index = [0 if x in X_val.index else -1 for x in X_train.index]"
      ]
    },
    {
      "cell_type": "code",
      "execution_count": 12,
      "metadata": {
        "id": "1UszYuxDTvON"
      },
      "outputs": [],
      "source": [
        "# Create a MinMaxScaler object\n",
        "scaler = MinMaxScaler()\n",
        "# Scaling the raw input features\n",
        "X_train = scaler.fit_transform(X_train)\n",
        "X_tr = scaler.fit_transform(X_tr)\n",
        "X_val = scaler.fit_transform(X_val)\n",
        "X_test = scaler.fit_transform(X_test)\n",
        "# also convert y to array\n",
        "y_train = np.array(y_train)\n",
        "y_tr    = np.array(y_tr)\n",
        "y_val   = np.array(y_val)\n",
        "y_test  = np.array(y_test)\n"
      ]
    },
    {
      "cell_type": "code",
      "execution_count": 13,
      "metadata": {
        "colab": {
          "base_uri": "https://localhost:8080/"
        },
        "id": "zBPt_fC6FbUg",
        "outputId": "763fe80d-d4b9-4192-a2b5-cbb9fd07b320"
      },
      "outputs": [
        {
          "name": "stdout",
          "output_type": "stream",
          "text": [
            "The test score for the logistic regression is 0.78\n"
          ]
        }
      ],
      "source": [
        "# Define a logistic regression model with above arguments\n",
        "lr_model = LogisticRegression(random_state=rs, max_iter = 100)\n",
        "lr_model.fit(X_train, y_train)\n",
        "lr_score = lr_model.score(X_test, y_test)\n",
        "print(f\"The test score for the logistic regression is {round(lr_score, 2)}\")"
      ]
    },
    {
      "cell_type": "markdown",
      "metadata": {
        "id": "d8LwwAhvYiwS"
      },
      "source": [
        "Now that we improved on our 65% estimative with Logistic regression, let's see how we can improve it further with RandomForest."
      ]
    },
    {
      "cell_type": "code",
      "execution_count": 14,
      "metadata": {
        "colab": {
          "base_uri": "https://localhost:8080/",
          "height": 118
        },
        "id": "0tZdlJprF7ku",
        "outputId": "a2f6a288-1b85-46e1-e118-77aa97cf3a08"
      },
      "outputs": [
        {
          "data": {
            "text/html": [
              "<style>#sk-container-id-1 {color: black;background-color: white;}#sk-container-id-1 pre{padding: 0;}#sk-container-id-1 div.sk-toggleable {background-color: white;}#sk-container-id-1 label.sk-toggleable__label {cursor: pointer;display: block;width: 100%;margin-bottom: 0;padding: 0.3em;box-sizing: border-box;text-align: center;}#sk-container-id-1 label.sk-toggleable__label-arrow:before {content: \"▸\";float: left;margin-right: 0.25em;color: #696969;}#sk-container-id-1 label.sk-toggleable__label-arrow:hover:before {color: black;}#sk-container-id-1 div.sk-estimator:hover label.sk-toggleable__label-arrow:before {color: black;}#sk-container-id-1 div.sk-toggleable__content {max-height: 0;max-width: 0;overflow: hidden;text-align: left;background-color: #f0f8ff;}#sk-container-id-1 div.sk-toggleable__content pre {margin: 0.2em;color: black;border-radius: 0.25em;background-color: #f0f8ff;}#sk-container-id-1 input.sk-toggleable__control:checked~div.sk-toggleable__content {max-height: 200px;max-width: 100%;overflow: auto;}#sk-container-id-1 input.sk-toggleable__control:checked~label.sk-toggleable__label-arrow:before {content: \"▾\";}#sk-container-id-1 div.sk-estimator input.sk-toggleable__control:checked~label.sk-toggleable__label {background-color: #d4ebff;}#sk-container-id-1 div.sk-label input.sk-toggleable__control:checked~label.sk-toggleable__label {background-color: #d4ebff;}#sk-container-id-1 input.sk-hidden--visually {border: 0;clip: rect(1px 1px 1px 1px);clip: rect(1px, 1px, 1px, 1px);height: 1px;margin: -1px;overflow: hidden;padding: 0;position: absolute;width: 1px;}#sk-container-id-1 div.sk-estimator {font-family: monospace;background-color: #f0f8ff;border: 1px dotted black;border-radius: 0.25em;box-sizing: border-box;margin-bottom: 0.5em;}#sk-container-id-1 div.sk-estimator:hover {background-color: #d4ebff;}#sk-container-id-1 div.sk-parallel-item::after {content: \"\";width: 100%;border-bottom: 1px solid gray;flex-grow: 1;}#sk-container-id-1 div.sk-label:hover label.sk-toggleable__label {background-color: #d4ebff;}#sk-container-id-1 div.sk-serial::before {content: \"\";position: absolute;border-left: 1px solid gray;box-sizing: border-box;top: 0;bottom: 0;left: 50%;z-index: 0;}#sk-container-id-1 div.sk-serial {display: flex;flex-direction: column;align-items: center;background-color: white;padding-right: 0.2em;padding-left: 0.2em;position: relative;}#sk-container-id-1 div.sk-item {position: relative;z-index: 1;}#sk-container-id-1 div.sk-parallel {display: flex;align-items: stretch;justify-content: center;background-color: white;position: relative;}#sk-container-id-1 div.sk-item::before, #sk-container-id-1 div.sk-parallel-item::before {content: \"\";position: absolute;border-left: 1px solid gray;box-sizing: border-box;top: 0;bottom: 0;left: 50%;z-index: -1;}#sk-container-id-1 div.sk-parallel-item {display: flex;flex-direction: column;z-index: 1;position: relative;background-color: white;}#sk-container-id-1 div.sk-parallel-item:first-child::after {align-self: flex-end;width: 50%;}#sk-container-id-1 div.sk-parallel-item:last-child::after {align-self: flex-start;width: 50%;}#sk-container-id-1 div.sk-parallel-item:only-child::after {width: 0;}#sk-container-id-1 div.sk-dashed-wrapped {border: 1px dashed gray;margin: 0 0.4em 0.5em 0.4em;box-sizing: border-box;padding-bottom: 0.4em;background-color: white;}#sk-container-id-1 div.sk-label label {font-family: monospace;font-weight: bold;display: inline-block;line-height: 1.2em;}#sk-container-id-1 div.sk-label-container {text-align: center;}#sk-container-id-1 div.sk-container {/* jupyter's `normalize.less` sets `[hidden] { display: none; }` but bootstrap.min.css set `[hidden] { display: none !important; }` so we also need the `!important` here to be able to override the default hidden behavior on the sphinx rendered scikit-learn.org. See: https://github.com/scikit-learn/scikit-learn/issues/21755 */display: inline-block !important;position: relative;}#sk-container-id-1 div.sk-text-repr-fallback {display: none;}</style><div id=\"sk-container-id-1\" class=\"sk-top-container\"><div class=\"sk-text-repr-fallback\"><pre>RandomizedSearchCV(cv=PredefinedSplit(test_fold=array([ 0,  0, ...,  0, -1])),\n",
              "                   estimator=RandomForestClassifier(random_state=32),\n",
              "                   param_distributions={&#x27;max_depth&#x27;: [2, 4, 8, None],\n",
              "                                        &#x27;max_features&#x27;: [2, 4, 6],\n",
              "                                        &#x27;min_samples_leaf&#x27;: [1, 2, 4],\n",
              "                                        &#x27;min_samples_split&#x27;: [2, 4],\n",
              "                                        &#x27;n_estimators&#x27;: [50, 100, 200]},\n",
              "                   refit=&#x27;f1&#x27;)</pre><b>In a Jupyter environment, please rerun this cell to show the HTML representation or trust the notebook. <br />On GitHub, the HTML representation is unable to render, please try loading this page with nbviewer.org.</b></div><div class=\"sk-container\" hidden><div class=\"sk-item sk-dashed-wrapped\"><div class=\"sk-label-container\"><div class=\"sk-label sk-toggleable\"><input class=\"sk-toggleable__control sk-hidden--visually\" id=\"sk-estimator-id-1\" type=\"checkbox\" ><label for=\"sk-estimator-id-1\" class=\"sk-toggleable__label sk-toggleable__label-arrow\">RandomizedSearchCV</label><div class=\"sk-toggleable__content\"><pre>RandomizedSearchCV(cv=PredefinedSplit(test_fold=array([ 0,  0, ...,  0, -1])),\n",
              "                   estimator=RandomForestClassifier(random_state=32),\n",
              "                   param_distributions={&#x27;max_depth&#x27;: [2, 4, 8, None],\n",
              "                                        &#x27;max_features&#x27;: [2, 4, 6],\n",
              "                                        &#x27;min_samples_leaf&#x27;: [1, 2, 4],\n",
              "                                        &#x27;min_samples_split&#x27;: [2, 4],\n",
              "                                        &#x27;n_estimators&#x27;: [50, 100, 200]},\n",
              "                   refit=&#x27;f1&#x27;)</pre></div></div></div><div class=\"sk-parallel\"><div class=\"sk-parallel-item\"><div class=\"sk-item\"><div class=\"sk-label-container\"><div class=\"sk-label sk-toggleable\"><input class=\"sk-toggleable__control sk-hidden--visually\" id=\"sk-estimator-id-2\" type=\"checkbox\" ><label for=\"sk-estimator-id-2\" class=\"sk-toggleable__label sk-toggleable__label-arrow\">estimator: RandomForestClassifier</label><div class=\"sk-toggleable__content\"><pre>RandomForestClassifier(random_state=32)</pre></div></div></div><div class=\"sk-serial\"><div class=\"sk-item\"><div class=\"sk-estimator sk-toggleable\"><input class=\"sk-toggleable__control sk-hidden--visually\" id=\"sk-estimator-id-3\" type=\"checkbox\" ><label for=\"sk-estimator-id-3\" class=\"sk-toggleable__label sk-toggleable__label-arrow\">RandomForestClassifier</label><div class=\"sk-toggleable__content\"><pre>RandomForestClassifier(random_state=32)</pre></div></div></div></div></div></div></div></div></div></div>"
            ],
            "text/plain": [
              "RandomizedSearchCV(cv=PredefinedSplit(test_fold=array([ 0,  0, ...,  0, -1])),\n",
              "                   estimator=RandomForestClassifier(random_state=32),\n",
              "                   param_distributions={'max_depth': [2, 4, 8, None],\n",
              "                                        'max_features': [2, 4, 6],\n",
              "                                        'min_samples_leaf': [1, 2, 4],\n",
              "                                        'min_samples_split': [2, 4],\n",
              "                                        'n_estimators': [50, 100, 200]},\n",
              "                   refit='f1')"
            ]
          },
          "execution_count": 14,
          "metadata": {},
          "output_type": "execute_result"
        }
      ],
      "source": [
        "cv_params = {'max_depth':[2,4,8,None],\n",
        "             'min_samples_leaf':[1,2,4],\n",
        "             'min_samples_split':[2,4],\n",
        "             'max_features':[2,4,6],\n",
        "             'n_estimators':[50,100,200]}\n",
        "\n",
        "rf = RandomForestClassifier(random_state = rs)\n",
        "\n",
        "scoring = {'accuracy','precision','recall','f1'}\n",
        "\n",
        "custom_split = PredefinedSplit(split_index)\n",
        "\n",
        "rf_cv = RandomizedSearchCV(rf,cv_params,cv=custom_split,refit='f1')\n",
        "\n",
        "rf_cv.fit(X_train,y_train)"
      ]
    },
    {
      "cell_type": "code",
      "execution_count": 15,
      "metadata": {
        "colab": {
          "base_uri": "https://localhost:8080/"
        },
        "id": "zzhCvzMIGyKf",
        "outputId": "9f4698ba-dbc6-48a3-ef8c-0be53fdad10f"
      },
      "outputs": [
        {
          "name": "stdout",
          "output_type": "stream",
          "text": [
            "RandomForrest best params {'n_estimators': 200, 'min_samples_split': 4, 'min_samples_leaf': 4, 'max_features': 2, 'max_depth': 4}\n",
            "RandomForrest training score 0.74\n",
            "The test score for the RandomForest is 0.8\n"
          ]
        }
      ],
      "source": [
        "print('RandomForrest best params',rf_cv.best_params_)\n",
        "print(f\"RandomForrest training score {round(rf_cv.best_score_, 2)}\")\n",
        "\n",
        "rf_score = rf_cv.score(X_test, y_test)\n",
        "print(f\"The test score for the RandomForest is {round(rf_score, 2)}\")"
      ]
    },
    {
      "cell_type": "markdown",
      "metadata": {
        "id": "1xOTpP7hY3I4"
      },
      "source": [
        "RandomForrest performed just slightly better than Logistic Regression.\n",
        "In the next step, we try to build a NN with Keras."
      ]
    },
    {
      "cell_type": "code",
      "execution_count": 16,
      "metadata": {
        "colab": {
          "base_uri": "https://localhost:8080/"
        },
        "id": "FnGCGoK7Ixs-",
        "outputId": "25bc42db-12b2-43ba-e48e-5ac812f978fd"
      },
      "outputs": [
        {
          "name": "stderr",
          "output_type": "stream",
          "text": [
            "/Users/brncat/anaconda3/lib/python3.11/site-packages/keras/src/layers/core/dense.py:87: UserWarning: Do not pass an `input_shape`/`input_dim` argument to a layer. When using Sequential models, prefer using an `Input(shape)` object as the first layer in the model instead.\n",
            "  super().__init__(activity_regularizer=activity_regularizer, **kwargs)\n"
          ]
        },
        {
          "data": {
            "text/html": [
              "<pre style=\"white-space:pre;overflow-x:auto;line-height:normal;font-family:Menlo,'DejaVu Sans Mono',consolas,'Courier New',monospace\"><span style=\"font-weight: bold\">Model: \"sequential\"</span>\n",
              "</pre>\n"
            ],
            "text/plain": [
              "\u001b[1mModel: \"sequential\"\u001b[0m\n"
            ]
          },
          "metadata": {},
          "output_type": "display_data"
        },
        {
          "data": {
            "text/html": [
              "<pre style=\"white-space:pre;overflow-x:auto;line-height:normal;font-family:Menlo,'DejaVu Sans Mono',consolas,'Courier New',monospace\">┏━━━━━━━━━━━━━━━━━━━━━━━━━━━━━━━━━┳━━━━━━━━━━━━━━━━━━━━━━━━┳━━━━━━━━━━━━━━━┓\n",
              "┃<span style=\"font-weight: bold\"> Layer (type)                    </span>┃<span style=\"font-weight: bold\"> Output Shape           </span>┃<span style=\"font-weight: bold\">       Param # </span>┃\n",
              "┡━━━━━━━━━━━━━━━━━━━━━━━━━━━━━━━━━╇━━━━━━━━━━━━━━━━━━━━━━━━╇━━━━━━━━━━━━━━━┩\n",
              "│ dense (<span style=\"color: #0087ff; text-decoration-color: #0087ff\">Dense</span>)                   │ (<span style=\"color: #00d7ff; text-decoration-color: #00d7ff\">None</span>, <span style=\"color: #00af00; text-decoration-color: #00af00\">8</span>)              │            <span style=\"color: #00af00; text-decoration-color: #00af00\">72</span> │\n",
              "├─────────────────────────────────┼────────────────────────┼───────────────┤\n",
              "│ dropout (<span style=\"color: #0087ff; text-decoration-color: #0087ff\">Dropout</span>)               │ (<span style=\"color: #00d7ff; text-decoration-color: #00d7ff\">None</span>, <span style=\"color: #00af00; text-decoration-color: #00af00\">8</span>)              │             <span style=\"color: #00af00; text-decoration-color: #00af00\">0</span> │\n",
              "├─────────────────────────────────┼────────────────────────┼───────────────┤\n",
              "│ dense_1 (<span style=\"color: #0087ff; text-decoration-color: #0087ff\">Dense</span>)                 │ (<span style=\"color: #00d7ff; text-decoration-color: #00d7ff\">None</span>, <span style=\"color: #00af00; text-decoration-color: #00af00\">6</span>)              │            <span style=\"color: #00af00; text-decoration-color: #00af00\">54</span> │\n",
              "├─────────────────────────────────┼────────────────────────┼───────────────┤\n",
              "│ dropout_1 (<span style=\"color: #0087ff; text-decoration-color: #0087ff\">Dropout</span>)             │ (<span style=\"color: #00d7ff; text-decoration-color: #00d7ff\">None</span>, <span style=\"color: #00af00; text-decoration-color: #00af00\">6</span>)              │             <span style=\"color: #00af00; text-decoration-color: #00af00\">0</span> │\n",
              "├─────────────────────────────────┼────────────────────────┼───────────────┤\n",
              "│ dense_2 (<span style=\"color: #0087ff; text-decoration-color: #0087ff\">Dense</span>)                 │ (<span style=\"color: #00d7ff; text-decoration-color: #00d7ff\">None</span>, <span style=\"color: #00af00; text-decoration-color: #00af00\">1</span>)              │             <span style=\"color: #00af00; text-decoration-color: #00af00\">7</span> │\n",
              "└─────────────────────────────────┴────────────────────────┴───────────────┘\n",
              "</pre>\n"
            ],
            "text/plain": [
              "┏━━━━━━━━━━━━━━━━━━━━━━━━━━━━━━━━━┳━━━━━━━━━━━━━━━━━━━━━━━━┳━━━━━━━━━━━━━━━┓\n",
              "┃\u001b[1m \u001b[0m\u001b[1mLayer (type)                   \u001b[0m\u001b[1m \u001b[0m┃\u001b[1m \u001b[0m\u001b[1mOutput Shape          \u001b[0m\u001b[1m \u001b[0m┃\u001b[1m \u001b[0m\u001b[1m      Param #\u001b[0m\u001b[1m \u001b[0m┃\n",
              "┡━━━━━━━━━━━━━━━━━━━━━━━━━━━━━━━━━╇━━━━━━━━━━━━━━━━━━━━━━━━╇━━━━━━━━━━━━━━━┩\n",
              "│ dense (\u001b[38;5;33mDense\u001b[0m)                   │ (\u001b[38;5;45mNone\u001b[0m, \u001b[38;5;34m8\u001b[0m)              │            \u001b[38;5;34m72\u001b[0m │\n",
              "├─────────────────────────────────┼────────────────────────┼───────────────┤\n",
              "│ dropout (\u001b[38;5;33mDropout\u001b[0m)               │ (\u001b[38;5;45mNone\u001b[0m, \u001b[38;5;34m8\u001b[0m)              │             \u001b[38;5;34m0\u001b[0m │\n",
              "├─────────────────────────────────┼────────────────────────┼───────────────┤\n",
              "│ dense_1 (\u001b[38;5;33mDense\u001b[0m)                 │ (\u001b[38;5;45mNone\u001b[0m, \u001b[38;5;34m6\u001b[0m)              │            \u001b[38;5;34m54\u001b[0m │\n",
              "├─────────────────────────────────┼────────────────────────┼───────────────┤\n",
              "│ dropout_1 (\u001b[38;5;33mDropout\u001b[0m)             │ (\u001b[38;5;45mNone\u001b[0m, \u001b[38;5;34m6\u001b[0m)              │             \u001b[38;5;34m0\u001b[0m │\n",
              "├─────────────────────────────────┼────────────────────────┼───────────────┤\n",
              "│ dense_2 (\u001b[38;5;33mDense\u001b[0m)                 │ (\u001b[38;5;45mNone\u001b[0m, \u001b[38;5;34m1\u001b[0m)              │             \u001b[38;5;34m7\u001b[0m │\n",
              "└─────────────────────────────────┴────────────────────────┴───────────────┘\n"
            ]
          },
          "metadata": {},
          "output_type": "display_data"
        },
        {
          "data": {
            "text/html": [
              "<pre style=\"white-space:pre;overflow-x:auto;line-height:normal;font-family:Menlo,'DejaVu Sans Mono',consolas,'Courier New',monospace\"><span style=\"font-weight: bold\"> Total params: </span><span style=\"color: #00af00; text-decoration-color: #00af00\">133</span> (532.00 B)\n",
              "</pre>\n"
            ],
            "text/plain": [
              "\u001b[1m Total params: \u001b[0m\u001b[38;5;34m133\u001b[0m (532.00 B)\n"
            ]
          },
          "metadata": {},
          "output_type": "display_data"
        },
        {
          "data": {
            "text/html": [
              "<pre style=\"white-space:pre;overflow-x:auto;line-height:normal;font-family:Menlo,'DejaVu Sans Mono',consolas,'Courier New',monospace\"><span style=\"font-weight: bold\"> Trainable params: </span><span style=\"color: #00af00; text-decoration-color: #00af00\">133</span> (532.00 B)\n",
              "</pre>\n"
            ],
            "text/plain": [
              "\u001b[1m Trainable params: \u001b[0m\u001b[38;5;34m133\u001b[0m (532.00 B)\n"
            ]
          },
          "metadata": {},
          "output_type": "display_data"
        },
        {
          "data": {
            "text/html": [
              "<pre style=\"white-space:pre;overflow-x:auto;line-height:normal;font-family:Menlo,'DejaVu Sans Mono',consolas,'Courier New',monospace\"><span style=\"font-weight: bold\"> Non-trainable params: </span><span style=\"color: #00af00; text-decoration-color: #00af00\">0</span> (0.00 B)\n",
              "</pre>\n"
            ],
            "text/plain": [
              "\u001b[1m Non-trainable params: \u001b[0m\u001b[38;5;34m0\u001b[0m (0.00 B)\n"
            ]
          },
          "metadata": {},
          "output_type": "display_data"
        }
      ],
      "source": [
        "model_nn = Sequential()\n",
        "\n",
        "# add layers\n",
        "model_nn.add(Dense(8, activation='sigmoid',\n",
        "                   input_shape = (8,) )) # X_train.shape[1:] = (17,)\n",
        "model_nn.add(Dropout(0.2,seed=rs))\n",
        "model_nn.add(Dense(6, activation='sigmoid'))\n",
        "model_nn.add(Dropout(0.2,seed=rs))\n",
        "model_nn.add(Dense(1, activation='sigmoid')) #\n",
        "optimizer=Adam(learning_rate=0.001, beta_1=0.9, beta_2=0.999)\n",
        "\n",
        "model_nn.compile(loss=\"binary_crossentropy\",optimizer=optimizer,metrics=['accuracy'])\n",
        "\n",
        "model_nn.summary()"
      ]
    },
    {
      "cell_type": "code",
      "execution_count": 17,
      "metadata": {
        "colab": {
          "base_uri": "https://localhost:8080/"
        },
        "id": "7UAhDIKtXxnT",
        "outputId": "9c8572e9-6840-4ac1-86ec-982bb1c37b66"
      },
      "outputs": [
        {
          "name": "stdout",
          "output_type": "stream",
          "text": [
            "Epoch 1/400\n",
            "\u001b[1m62/62\u001b[0m \u001b[32m━━━━━━━━━━━━━━━━━━━━\u001b[0m\u001b[37m\u001b[0m \u001b[1m1s\u001b[0m 2ms/step - accuracy: 0.6420 - loss: 0.7068 - val_accuracy: 0.6667 - val_loss: 0.6422\n",
            "Epoch 2/400\n",
            "\u001b[1m62/62\u001b[0m \u001b[32m━━━━━━━━━━━━━━━━━━━━\u001b[0m\u001b[37m\u001b[0m \u001b[1m0s\u001b[0m 706us/step - accuracy: 0.6736 - loss: 0.6402 - val_accuracy: 0.6667 - val_loss: 0.6374\n",
            "Epoch 3/400\n",
            "\u001b[1m62/62\u001b[0m \u001b[32m━━━━━━━━━━━━━━━━━━━━\u001b[0m\u001b[37m\u001b[0m \u001b[1m0s\u001b[0m 639us/step - accuracy: 0.6612 - loss: 0.6468 - val_accuracy: 0.6667 - val_loss: 0.6363\n",
            "Epoch 4/400\n",
            "\u001b[1m62/62\u001b[0m \u001b[32m━━━━━━━━━━━━━━━━━━━━\u001b[0m\u001b[37m\u001b[0m \u001b[1m0s\u001b[0m 632us/step - accuracy: 0.6093 - loss: 0.6717 - val_accuracy: 0.6667 - val_loss: 0.6363\n",
            "Epoch 5/400\n",
            "\u001b[1m62/62\u001b[0m \u001b[32m━━━━━━━━━━━━━━━━━━━━\u001b[0m\u001b[37m\u001b[0m \u001b[1m0s\u001b[0m 624us/step - accuracy: 0.6462 - loss: 0.6573 - val_accuracy: 0.6667 - val_loss: 0.6361\n",
            "Epoch 6/400\n",
            "\u001b[1m62/62\u001b[0m \u001b[32m━━━━━━━━━━━━━━━━━━━━\u001b[0m\u001b[37m\u001b[0m \u001b[1m0s\u001b[0m 615us/step - accuracy: 0.6603 - loss: 0.6488 - val_accuracy: 0.6667 - val_loss: 0.6359\n",
            "Epoch 7/400\n",
            "\u001b[1m62/62\u001b[0m \u001b[32m━━━━━━━━━━━━━━━━━━━━\u001b[0m\u001b[37m\u001b[0m \u001b[1m0s\u001b[0m 610us/step - accuracy: 0.6730 - loss: 0.6432 - val_accuracy: 0.6667 - val_loss: 0.6364\n",
            "Epoch 8/400\n",
            "\u001b[1m62/62\u001b[0m \u001b[32m━━━━━━━━━━━━━━━━━━━━\u001b[0m\u001b[37m\u001b[0m \u001b[1m0s\u001b[0m 615us/step - accuracy: 0.6529 - loss: 0.6366 - val_accuracy: 0.6667 - val_loss: 0.6358\n",
            "Epoch 9/400\n",
            "\u001b[1m62/62\u001b[0m \u001b[32m━━━━━━━━━━━━━━━━━━━━\u001b[0m\u001b[37m\u001b[0m \u001b[1m0s\u001b[0m 610us/step - accuracy: 0.6383 - loss: 0.6489 - val_accuracy: 0.6667 - val_loss: 0.6358\n",
            "Epoch 10/400\n",
            "\u001b[1m62/62\u001b[0m \u001b[32m━━━━━━━━━━━━━━━━━━━━\u001b[0m\u001b[37m\u001b[0m \u001b[1m0s\u001b[0m 605us/step - accuracy: 0.6354 - loss: 0.6733 - val_accuracy: 0.6667 - val_loss: 0.6353\n",
            "Epoch 11/400\n",
            "\u001b[1m62/62\u001b[0m \u001b[32m━━━━━━━━━━━━━━━━━━━━\u001b[0m\u001b[37m\u001b[0m \u001b[1m0s\u001b[0m 611us/step - accuracy: 0.6014 - loss: 0.6895 - val_accuracy: 0.6667 - val_loss: 0.6352\n",
            "Epoch 12/400\n",
            "\u001b[1m62/62\u001b[0m \u001b[32m━━━━━━━━━━━━━━━━━━━━\u001b[0m\u001b[37m\u001b[0m \u001b[1m0s\u001b[0m 613us/step - accuracy: 0.6629 - loss: 0.6394 - val_accuracy: 0.6667 - val_loss: 0.6350\n",
            "Epoch 13/400\n",
            "\u001b[1m62/62\u001b[0m \u001b[32m━━━━━━━━━━━━━━━━━━━━\u001b[0m\u001b[37m\u001b[0m \u001b[1m0s\u001b[0m 604us/step - accuracy: 0.6271 - loss: 0.6661 - val_accuracy: 0.6667 - val_loss: 0.6349\n",
            "Epoch 14/400\n",
            "\u001b[1m62/62\u001b[0m \u001b[32m━━━━━━━━━━━━━━━━━━━━\u001b[0m\u001b[37m\u001b[0m \u001b[1m0s\u001b[0m 611us/step - accuracy: 0.6521 - loss: 0.6506 - val_accuracy: 0.6667 - val_loss: 0.6348\n",
            "Epoch 15/400\n",
            "\u001b[1m62/62\u001b[0m \u001b[32m━━━━━━━━━━━━━━━━━━━━\u001b[0m\u001b[37m\u001b[0m \u001b[1m0s\u001b[0m 613us/step - accuracy: 0.6591 - loss: 0.6415 - val_accuracy: 0.6667 - val_loss: 0.6346\n",
            "Epoch 16/400\n",
            "\u001b[1m62/62\u001b[0m \u001b[32m━━━━━━━━━━━━━━━━━━━━\u001b[0m\u001b[37m\u001b[0m \u001b[1m0s\u001b[0m 614us/step - accuracy: 0.6261 - loss: 0.6674 - val_accuracy: 0.6667 - val_loss: 0.6347\n",
            "Epoch 17/400\n",
            "\u001b[1m62/62\u001b[0m \u001b[32m━━━━━━━━━━━━━━━━━━━━\u001b[0m\u001b[37m\u001b[0m \u001b[1m0s\u001b[0m 615us/step - accuracy: 0.6178 - loss: 0.6642 - val_accuracy: 0.6667 - val_loss: 0.6343\n",
            "Epoch 18/400\n",
            "\u001b[1m62/62\u001b[0m \u001b[32m━━━━━━━━━━━━━━━━━━━━\u001b[0m\u001b[37m\u001b[0m \u001b[1m0s\u001b[0m 613us/step - accuracy: 0.6067 - loss: 0.6661 - val_accuracy: 0.6667 - val_loss: 0.6342\n",
            "Epoch 19/400\n",
            "\u001b[1m62/62\u001b[0m \u001b[32m━━━━━━━━━━━━━━━━━━━━\u001b[0m\u001b[37m\u001b[0m \u001b[1m0s\u001b[0m 610us/step - accuracy: 0.6022 - loss: 0.6760 - val_accuracy: 0.6667 - val_loss: 0.6341\n",
            "Epoch 20/400\n",
            "\u001b[1m62/62\u001b[0m \u001b[32m━━━━━━━━━━━━━━━━━━━━\u001b[0m\u001b[37m\u001b[0m \u001b[1m0s\u001b[0m 605us/step - accuracy: 0.6558 - loss: 0.6342 - val_accuracy: 0.6667 - val_loss: 0.6335\n",
            "Epoch 21/400\n",
            "\u001b[1m62/62\u001b[0m \u001b[32m━━━━━━━━━━━━━━━━━━━━\u001b[0m\u001b[37m\u001b[0m \u001b[1m0s\u001b[0m 615us/step - accuracy: 0.6137 - loss: 0.6647 - val_accuracy: 0.6667 - val_loss: 0.6334\n",
            "Epoch 22/400\n",
            "\u001b[1m62/62\u001b[0m \u001b[32m━━━━━━━━━━━━━━━━━━━━\u001b[0m\u001b[37m\u001b[0m \u001b[1m0s\u001b[0m 607us/step - accuracy: 0.6437 - loss: 0.6500 - val_accuracy: 0.6667 - val_loss: 0.6333\n",
            "Epoch 23/400\n",
            "\u001b[1m62/62\u001b[0m \u001b[32m━━━━━━━━━━━━━━━━━━━━\u001b[0m\u001b[37m\u001b[0m \u001b[1m0s\u001b[0m 608us/step - accuracy: 0.6414 - loss: 0.6516 - val_accuracy: 0.6667 - val_loss: 0.6332\n",
            "Epoch 24/400\n",
            "\u001b[1m62/62\u001b[0m \u001b[32m━━━━━━━━━━━━━━━━━━━━\u001b[0m\u001b[37m\u001b[0m \u001b[1m0s\u001b[0m 609us/step - accuracy: 0.6686 - loss: 0.6340 - val_accuracy: 0.6667 - val_loss: 0.6331\n",
            "Epoch 25/400\n",
            "\u001b[1m62/62\u001b[0m \u001b[32m━━━━━━━━━━━━━━━━━━━━\u001b[0m\u001b[37m\u001b[0m \u001b[1m0s\u001b[0m 613us/step - accuracy: 0.6491 - loss: 0.6352 - val_accuracy: 0.6667 - val_loss: 0.6327\n",
            "Epoch 26/400\n",
            "\u001b[1m62/62\u001b[0m \u001b[32m━━━━━━━━━━━━━━━━━━━━\u001b[0m\u001b[37m\u001b[0m \u001b[1m0s\u001b[0m 607us/step - accuracy: 0.6735 - loss: 0.6249 - val_accuracy: 0.6667 - val_loss: 0.6323\n",
            "Epoch 27/400\n",
            "\u001b[1m62/62\u001b[0m \u001b[32m━━━━━━━━━━━━━━━━━━━━\u001b[0m\u001b[37m\u001b[0m \u001b[1m0s\u001b[0m 609us/step - accuracy: 0.6375 - loss: 0.6603 - val_accuracy: 0.6667 - val_loss: 0.6326\n",
            "Epoch 28/400\n",
            "\u001b[1m62/62\u001b[0m \u001b[32m━━━━━━━━━━━━━━━━━━━━\u001b[0m\u001b[37m\u001b[0m \u001b[1m0s\u001b[0m 611us/step - accuracy: 0.6288 - loss: 0.6602 - val_accuracy: 0.6667 - val_loss: 0.6321\n",
            "Epoch 29/400\n",
            "\u001b[1m62/62\u001b[0m \u001b[32m━━━━━━━━━━━━━━━━━━━━\u001b[0m\u001b[37m\u001b[0m \u001b[1m0s\u001b[0m 611us/step - accuracy: 0.6894 - loss: 0.6218 - val_accuracy: 0.6667 - val_loss: 0.6318\n",
            "Epoch 30/400\n",
            "\u001b[1m62/62\u001b[0m \u001b[32m━━━━━━━━━━━━━━━━━━━━\u001b[0m\u001b[37m\u001b[0m \u001b[1m0s\u001b[0m 611us/step - accuracy: 0.6432 - loss: 0.6578 - val_accuracy: 0.6667 - val_loss: 0.6316\n",
            "Epoch 31/400\n",
            "\u001b[1m62/62\u001b[0m \u001b[32m━━━━━━━━━━━━━━━━━━━━\u001b[0m\u001b[37m\u001b[0m \u001b[1m0s\u001b[0m 611us/step - accuracy: 0.6328 - loss: 0.6607 - val_accuracy: 0.6667 - val_loss: 0.6315\n",
            "Epoch 32/400\n",
            "\u001b[1m62/62\u001b[0m \u001b[32m━━━━━━━━━━━━━━━━━━━━\u001b[0m\u001b[37m\u001b[0m \u001b[1m0s\u001b[0m 642us/step - accuracy: 0.6531 - loss: 0.6469 - val_accuracy: 0.6667 - val_loss: 0.6313\n",
            "Epoch 33/400\n",
            "\u001b[1m62/62\u001b[0m \u001b[32m━━━━━━━━━━━━━━━━━━━━\u001b[0m\u001b[37m\u001b[0m \u001b[1m0s\u001b[0m 627us/step - accuracy: 0.6638 - loss: 0.6424 - val_accuracy: 0.6667 - val_loss: 0.6308\n",
            "Epoch 34/400\n",
            "\u001b[1m62/62\u001b[0m \u001b[32m━━━━━━━━━━━━━━━━━━━━\u001b[0m\u001b[37m\u001b[0m \u001b[1m0s\u001b[0m 620us/step - accuracy: 0.6843 - loss: 0.6231 - val_accuracy: 0.6667 - val_loss: 0.6308\n",
            "Epoch 35/400\n",
            "\u001b[1m62/62\u001b[0m \u001b[32m━━━━━━━━━━━━━━━━━━━━\u001b[0m\u001b[37m\u001b[0m \u001b[1m0s\u001b[0m 620us/step - accuracy: 0.6556 - loss: 0.6435 - val_accuracy: 0.6667 - val_loss: 0.6306\n",
            "Epoch 36/400\n",
            "\u001b[1m62/62\u001b[0m \u001b[32m━━━━━━━━━━━━━━━━━━━━\u001b[0m\u001b[37m\u001b[0m \u001b[1m0s\u001b[0m 615us/step - accuracy: 0.6628 - loss: 0.6262 - val_accuracy: 0.6667 - val_loss: 0.6303\n",
            "Epoch 37/400\n",
            "\u001b[1m62/62\u001b[0m \u001b[32m━━━━━━━━━━━━━━━━━━━━\u001b[0m\u001b[37m\u001b[0m \u001b[1m0s\u001b[0m 610us/step - accuracy: 0.6381 - loss: 0.6468 - val_accuracy: 0.6667 - val_loss: 0.6296\n",
            "Epoch 38/400\n",
            "\u001b[1m62/62\u001b[0m \u001b[32m━━━━━━━━━━━━━━━━━━━━\u001b[0m\u001b[37m\u001b[0m \u001b[1m0s\u001b[0m 612us/step - accuracy: 0.6635 - loss: 0.6390 - val_accuracy: 0.6667 - val_loss: 0.6298\n",
            "Epoch 39/400\n",
            "\u001b[1m62/62\u001b[0m \u001b[32m━━━━━━━━━━━━━━━━━━━━\u001b[0m\u001b[37m\u001b[0m \u001b[1m0s\u001b[0m 603us/step - accuracy: 0.6365 - loss: 0.6414 - val_accuracy: 0.6667 - val_loss: 0.6292\n",
            "Epoch 40/400\n",
            "\u001b[1m62/62\u001b[0m \u001b[32m━━━━━━━━━━━━━━━━━━━━\u001b[0m\u001b[37m\u001b[0m \u001b[1m0s\u001b[0m 623us/step - accuracy: 0.6283 - loss: 0.6589 - val_accuracy: 0.6667 - val_loss: 0.6290\n",
            "Epoch 41/400\n",
            "\u001b[1m62/62\u001b[0m \u001b[32m━━━━━━━━━━━━━━━━━━━━\u001b[0m\u001b[37m\u001b[0m \u001b[1m0s\u001b[0m 663us/step - accuracy: 0.6499 - loss: 0.6536 - val_accuracy: 0.6667 - val_loss: 0.6288\n",
            "Epoch 42/400\n",
            "\u001b[1m62/62\u001b[0m \u001b[32m━━━━━━━━━━━━━━━━━━━━\u001b[0m\u001b[37m\u001b[0m \u001b[1m0s\u001b[0m 620us/step - accuracy: 0.5928 - loss: 0.6842 - val_accuracy: 0.6667 - val_loss: 0.6288\n",
            "Epoch 43/400\n",
            "\u001b[1m62/62\u001b[0m \u001b[32m━━━━━━━━━━━━━━━━━━━━\u001b[0m\u001b[37m\u001b[0m \u001b[1m0s\u001b[0m 622us/step - accuracy: 0.6457 - loss: 0.6425 - val_accuracy: 0.6667 - val_loss: 0.6287\n",
            "Epoch 44/400\n",
            "\u001b[1m62/62\u001b[0m \u001b[32m━━━━━━━━━━━━━━━━━━━━\u001b[0m\u001b[37m\u001b[0m \u001b[1m0s\u001b[0m 623us/step - accuracy: 0.6485 - loss: 0.6518 - val_accuracy: 0.6667 - val_loss: 0.6278\n",
            "Epoch 45/400\n",
            "\u001b[1m62/62\u001b[0m \u001b[32m━━━━━━━━━━━━━━━━━━━━\u001b[0m\u001b[37m\u001b[0m \u001b[1m0s\u001b[0m 613us/step - accuracy: 0.6518 - loss: 0.6319 - val_accuracy: 0.6667 - val_loss: 0.6275\n",
            "Epoch 46/400\n",
            "\u001b[1m62/62\u001b[0m \u001b[32m━━━━━━━━━━━━━━━━━━━━\u001b[0m\u001b[37m\u001b[0m \u001b[1m0s\u001b[0m 608us/step - accuracy: 0.6718 - loss: 0.6337 - val_accuracy: 0.6667 - val_loss: 0.6273\n",
            "Epoch 47/400\n",
            "\u001b[1m62/62\u001b[0m \u001b[32m━━━━━━━━━━━━━━━━━━━━\u001b[0m\u001b[37m\u001b[0m \u001b[1m0s\u001b[0m 606us/step - accuracy: 0.6657 - loss: 0.6307 - val_accuracy: 0.6667 - val_loss: 0.6267\n",
            "Epoch 48/400\n",
            "\u001b[1m62/62\u001b[0m \u001b[32m━━━━━━━━━━━━━━━━━━━━\u001b[0m\u001b[37m\u001b[0m \u001b[1m0s\u001b[0m 607us/step - accuracy: 0.6660 - loss: 0.6320 - val_accuracy: 0.6667 - val_loss: 0.6264\n",
            "Epoch 49/400\n",
            "\u001b[1m62/62\u001b[0m \u001b[32m━━━━━━━━━━━━━━━━━━━━\u001b[0m\u001b[37m\u001b[0m \u001b[1m0s\u001b[0m 609us/step - accuracy: 0.6339 - loss: 0.6566 - val_accuracy: 0.6667 - val_loss: 0.6257\n",
            "Epoch 50/400\n",
            "\u001b[1m62/62\u001b[0m \u001b[32m━━━━━━━━━━━━━━━━━━━━\u001b[0m\u001b[37m\u001b[0m \u001b[1m0s\u001b[0m 600us/step - accuracy: 0.6723 - loss: 0.6172 - val_accuracy: 0.6667 - val_loss: 0.6253\n",
            "Epoch 51/400\n",
            "\u001b[1m62/62\u001b[0m \u001b[32m━━━━━━━━━━━━━━━━━━━━\u001b[0m\u001b[37m\u001b[0m \u001b[1m0s\u001b[0m 604us/step - accuracy: 0.6377 - loss: 0.6522 - val_accuracy: 0.6667 - val_loss: 0.6247\n",
            "Epoch 52/400\n",
            "\u001b[1m62/62\u001b[0m \u001b[32m━━━━━━━━━━━━━━━━━━━━\u001b[0m\u001b[37m\u001b[0m \u001b[1m0s\u001b[0m 603us/step - accuracy: 0.6315 - loss: 0.6495 - val_accuracy: 0.6667 - val_loss: 0.6240\n",
            "Epoch 53/400\n",
            "\u001b[1m62/62\u001b[0m \u001b[32m━━━━━━━━━━━━━━━━━━━━\u001b[0m\u001b[37m\u001b[0m \u001b[1m0s\u001b[0m 615us/step - accuracy: 0.6342 - loss: 0.6411 - val_accuracy: 0.6667 - val_loss: 0.6236\n",
            "Epoch 54/400\n",
            "\u001b[1m62/62\u001b[0m \u001b[32m━━━━━━━━━━━━━━━━━━━━\u001b[0m\u001b[37m\u001b[0m \u001b[1m0s\u001b[0m 614us/step - accuracy: 0.6749 - loss: 0.6088 - val_accuracy: 0.6667 - val_loss: 0.6222\n",
            "Epoch 55/400\n",
            "\u001b[1m62/62\u001b[0m \u001b[32m━━━━━━━━━━━━━━━━━━━━\u001b[0m\u001b[37m\u001b[0m \u001b[1m0s\u001b[0m 618us/step - accuracy: 0.6639 - loss: 0.6345 - val_accuracy: 0.6667 - val_loss: 0.6224\n",
            "Epoch 56/400\n",
            "\u001b[1m62/62\u001b[0m \u001b[32m━━━━━━━━━━━━━━━━━━━━\u001b[0m\u001b[37m\u001b[0m \u001b[1m0s\u001b[0m 607us/step - accuracy: 0.6504 - loss: 0.6352 - val_accuracy: 0.6667 - val_loss: 0.6215\n",
            "Epoch 57/400\n",
            "\u001b[1m62/62\u001b[0m \u001b[32m━━━━━━━━━━━━━━━━━━━━\u001b[0m\u001b[37m\u001b[0m \u001b[1m0s\u001b[0m 609us/step - accuracy: 0.6309 - loss: 0.6492 - val_accuracy: 0.6667 - val_loss: 0.6209\n",
            "Epoch 58/400\n",
            "\u001b[1m62/62\u001b[0m \u001b[32m━━━━━━━━━━━━━━━━━━━━\u001b[0m\u001b[37m\u001b[0m \u001b[1m0s\u001b[0m 613us/step - accuracy: 0.6510 - loss: 0.6459 - val_accuracy: 0.6667 - val_loss: 0.6202\n",
            "Epoch 59/400\n",
            "\u001b[1m62/62\u001b[0m \u001b[32m━━━━━━━━━━━━━━━━━━━━\u001b[0m\u001b[37m\u001b[0m \u001b[1m0s\u001b[0m 607us/step - accuracy: 0.6548 - loss: 0.6295 - val_accuracy: 0.6667 - val_loss: 0.6196\n",
            "Epoch 60/400\n",
            "\u001b[1m62/62\u001b[0m \u001b[32m━━━━━━━━━━━━━━━━━━━━\u001b[0m\u001b[37m\u001b[0m \u001b[1m0s\u001b[0m 600us/step - accuracy: 0.6135 - loss: 0.6547 - val_accuracy: 0.6667 - val_loss: 0.6191\n",
            "Epoch 61/400\n",
            "\u001b[1m62/62\u001b[0m \u001b[32m━━━━━━━━━━━━━━━━━━━━\u001b[0m\u001b[37m\u001b[0m \u001b[1m0s\u001b[0m 605us/step - accuracy: 0.6631 - loss: 0.6339 - val_accuracy: 0.6667 - val_loss: 0.6184\n",
            "Epoch 62/400\n",
            "\u001b[1m62/62\u001b[0m \u001b[32m━━━━━━━━━━━━━━━━━━━━\u001b[0m\u001b[37m\u001b[0m \u001b[1m0s\u001b[0m 599us/step - accuracy: 0.6559 - loss: 0.6301 - val_accuracy: 0.6667 - val_loss: 0.6174\n",
            "Epoch 63/400\n",
            "\u001b[1m62/62\u001b[0m \u001b[32m━━━━━━━━━━━━━━━━━━━━\u001b[0m\u001b[37m\u001b[0m \u001b[1m0s\u001b[0m 608us/step - accuracy: 0.6242 - loss: 0.6457 - val_accuracy: 0.6667 - val_loss: 0.6168\n",
            "Epoch 64/400\n",
            "\u001b[1m62/62\u001b[0m \u001b[32m━━━━━━━━━━━━━━━━━━━━\u001b[0m\u001b[37m\u001b[0m \u001b[1m0s\u001b[0m 612us/step - accuracy: 0.6538 - loss: 0.6260 - val_accuracy: 0.6667 - val_loss: 0.6159\n",
            "Epoch 65/400\n",
            "\u001b[1m62/62\u001b[0m \u001b[32m━━━━━━━━━━━━━━━━━━━━\u001b[0m\u001b[37m\u001b[0m \u001b[1m0s\u001b[0m 607us/step - accuracy: 0.6302 - loss: 0.6581 - val_accuracy: 0.6667 - val_loss: 0.6152\n",
            "Epoch 66/400\n",
            "\u001b[1m62/62\u001b[0m \u001b[32m━━━━━━━━━━━━━━━━━━━━\u001b[0m\u001b[37m\u001b[0m \u001b[1m0s\u001b[0m 615us/step - accuracy: 0.6602 - loss: 0.6232 - val_accuracy: 0.6667 - val_loss: 0.6149\n",
            "Epoch 67/400\n",
            "\u001b[1m62/62\u001b[0m \u001b[32m━━━━━━━━━━━━━━━━━━━━\u001b[0m\u001b[37m\u001b[0m \u001b[1m0s\u001b[0m 614us/step - accuracy: 0.6750 - loss: 0.6017 - val_accuracy: 0.6667 - val_loss: 0.6138\n",
            "Epoch 68/400\n",
            "\u001b[1m62/62\u001b[0m \u001b[32m━━━━━━━━━━━━━━━━━━━━\u001b[0m\u001b[37m\u001b[0m \u001b[1m0s\u001b[0m 617us/step - accuracy: 0.6431 - loss: 0.6280 - val_accuracy: 0.6667 - val_loss: 0.6131\n",
            "Epoch 69/400\n",
            "\u001b[1m62/62\u001b[0m \u001b[32m━━━━━━━━━━━━━━━━━━━━\u001b[0m\u001b[37m\u001b[0m \u001b[1m0s\u001b[0m 606us/step - accuracy: 0.6351 - loss: 0.6187 - val_accuracy: 0.6667 - val_loss: 0.6116\n",
            "Epoch 70/400\n",
            "\u001b[1m62/62\u001b[0m \u001b[32m━━━━━━━━━━━━━━━━━━━━\u001b[0m\u001b[37m\u001b[0m \u001b[1m0s\u001b[0m 611us/step - accuracy: 0.6160 - loss: 0.6373 - val_accuracy: 0.6667 - val_loss: 0.6106\n",
            "Epoch 71/400\n",
            "\u001b[1m62/62\u001b[0m \u001b[32m━━━━━━━━━━━━━━━━━━━━\u001b[0m\u001b[37m\u001b[0m \u001b[1m0s\u001b[0m 616us/step - accuracy: 0.6317 - loss: 0.6214 - val_accuracy: 0.6667 - val_loss: 0.6094\n",
            "Epoch 72/400\n",
            "\u001b[1m62/62\u001b[0m \u001b[32m━━━━━━━━━━━━━━━━━━━━\u001b[0m\u001b[37m\u001b[0m \u001b[1m0s\u001b[0m 616us/step - accuracy: 0.6073 - loss: 0.6594 - val_accuracy: 0.6667 - val_loss: 0.6089\n",
            "Epoch 73/400\n",
            "\u001b[1m62/62\u001b[0m \u001b[32m━━━━━━━━━━━━━━━━━━━━\u001b[0m\u001b[37m\u001b[0m \u001b[1m0s\u001b[0m 599us/step - accuracy: 0.6094 - loss: 0.6709 - val_accuracy: 0.6667 - val_loss: 0.6083\n",
            "Epoch 74/400\n",
            "\u001b[1m62/62\u001b[0m \u001b[32m━━━━━━━━━━━━━━━━━━━━\u001b[0m\u001b[37m\u001b[0m \u001b[1m0s\u001b[0m 606us/step - accuracy: 0.6419 - loss: 0.6227 - val_accuracy: 0.6667 - val_loss: 0.6073\n",
            "Epoch 75/400\n",
            "\u001b[1m62/62\u001b[0m \u001b[32m━━━━━━━━━━━━━━━━━━━━\u001b[0m\u001b[37m\u001b[0m \u001b[1m0s\u001b[0m 605us/step - accuracy: 0.6315 - loss: 0.6287 - val_accuracy: 0.6667 - val_loss: 0.6064\n",
            "Epoch 76/400\n",
            "\u001b[1m62/62\u001b[0m \u001b[32m━━━━━━━━━━━━━━━━━━━━\u001b[0m\u001b[37m\u001b[0m \u001b[1m0s\u001b[0m 607us/step - accuracy: 0.6364 - loss: 0.6296 - val_accuracy: 0.6667 - val_loss: 0.6053\n",
            "Epoch 77/400\n",
            "\u001b[1m62/62\u001b[0m \u001b[32m━━━━━━━━━━━━━━━━━━━━\u001b[0m\u001b[37m\u001b[0m \u001b[1m0s\u001b[0m 621us/step - accuracy: 0.6194 - loss: 0.6368 - val_accuracy: 0.6667 - val_loss: 0.6040\n",
            "Epoch 78/400\n",
            "\u001b[1m62/62\u001b[0m \u001b[32m━━━━━━━━━━━━━━━━━━━━\u001b[0m\u001b[37m\u001b[0m \u001b[1m0s\u001b[0m 619us/step - accuracy: 0.6443 - loss: 0.6157 - val_accuracy: 0.6667 - val_loss: 0.6031\n",
            "Epoch 79/400\n",
            "\u001b[1m62/62\u001b[0m \u001b[32m━━━━━━━━━━━━━━━━━━━━\u001b[0m\u001b[37m\u001b[0m \u001b[1m0s\u001b[0m 613us/step - accuracy: 0.6578 - loss: 0.6107 - val_accuracy: 0.6667 - val_loss: 0.6017\n",
            "Epoch 80/400\n",
            "\u001b[1m62/62\u001b[0m \u001b[32m━━━━━━━━━━━━━━━━━━━━\u001b[0m\u001b[37m\u001b[0m \u001b[1m0s\u001b[0m 604us/step - accuracy: 0.6492 - loss: 0.6192 - val_accuracy: 0.6667 - val_loss: 0.6007\n",
            "Epoch 81/400\n",
            "\u001b[1m62/62\u001b[0m \u001b[32m━━━━━━━━━━━━━━━━━━━━\u001b[0m\u001b[37m\u001b[0m \u001b[1m0s\u001b[0m 610us/step - accuracy: 0.6477 - loss: 0.6199 - val_accuracy: 0.6667 - val_loss: 0.6000\n",
            "Epoch 82/400\n",
            "\u001b[1m62/62\u001b[0m \u001b[32m━━━━━━━━━━━━━━━━━━━━\u001b[0m\u001b[37m\u001b[0m \u001b[1m0s\u001b[0m 601us/step - accuracy: 0.6466 - loss: 0.6295 - val_accuracy: 0.6667 - val_loss: 0.5992\n",
            "Epoch 83/400\n",
            "\u001b[1m62/62\u001b[0m \u001b[32m━━━━━━━━━━━━━━━━━━━━\u001b[0m\u001b[37m\u001b[0m \u001b[1m0s\u001b[0m 728us/step - accuracy: 0.6612 - loss: 0.6136 - val_accuracy: 0.6667 - val_loss: 0.5982\n",
            "Epoch 84/400\n",
            "\u001b[1m62/62\u001b[0m \u001b[32m━━━━━━━━━━━━━━━━━━━━\u001b[0m\u001b[37m\u001b[0m \u001b[1m0s\u001b[0m 621us/step - accuracy: 0.6443 - loss: 0.6115 - val_accuracy: 0.6667 - val_loss: 0.5972\n",
            "Epoch 85/400\n",
            "\u001b[1m62/62\u001b[0m \u001b[32m━━━━━━━━━━━━━━━━━━━━\u001b[0m\u001b[37m\u001b[0m \u001b[1m0s\u001b[0m 598us/step - accuracy: 0.6311 - loss: 0.6398 - val_accuracy: 0.6667 - val_loss: 0.5962\n",
            "Epoch 86/400\n",
            "\u001b[1m62/62\u001b[0m \u001b[32m━━━━━━━━━━━━━━━━━━━━\u001b[0m\u001b[37m\u001b[0m \u001b[1m0s\u001b[0m 606us/step - accuracy: 0.6344 - loss: 0.6206 - val_accuracy: 0.6667 - val_loss: 0.5953\n",
            "Epoch 87/400\n",
            "\u001b[1m62/62\u001b[0m \u001b[32m━━━━━━━━━━━━━━━━━━━━\u001b[0m\u001b[37m\u001b[0m \u001b[1m0s\u001b[0m 608us/step - accuracy: 0.6545 - loss: 0.5990 - val_accuracy: 0.6667 - val_loss: 0.5941\n",
            "Epoch 88/400\n",
            "\u001b[1m62/62\u001b[0m \u001b[32m━━━━━━━━━━━━━━━━━━━━\u001b[0m\u001b[37m\u001b[0m \u001b[1m0s\u001b[0m 611us/step - accuracy: 0.6812 - loss: 0.6173 - val_accuracy: 0.6667 - val_loss: 0.5933\n",
            "Epoch 89/400\n",
            "\u001b[1m62/62\u001b[0m \u001b[32m━━━━━━━━━━━━━━━━━━━━\u001b[0m\u001b[37m\u001b[0m \u001b[1m0s\u001b[0m 611us/step - accuracy: 0.6613 - loss: 0.6126 - val_accuracy: 0.6667 - val_loss: 0.5924\n",
            "Epoch 90/400\n",
            "\u001b[1m62/62\u001b[0m \u001b[32m━━━━━━━━━━━━━━━━━━━━\u001b[0m\u001b[37m\u001b[0m \u001b[1m0s\u001b[0m 604us/step - accuracy: 0.6690 - loss: 0.6299 - val_accuracy: 0.6667 - val_loss: 0.5918\n",
            "Epoch 91/400\n",
            "\u001b[1m62/62\u001b[0m \u001b[32m━━━━━━━━━━━━━━━━━━━━\u001b[0m\u001b[37m\u001b[0m \u001b[1m0s\u001b[0m 608us/step - accuracy: 0.6279 - loss: 0.6278 - val_accuracy: 0.6667 - val_loss: 0.5909\n",
            "Epoch 92/400\n",
            "\u001b[1m62/62\u001b[0m \u001b[32m━━━━━━━━━━━━━━━━━━━━\u001b[0m\u001b[37m\u001b[0m \u001b[1m0s\u001b[0m 611us/step - accuracy: 0.6090 - loss: 0.6313 - val_accuracy: 0.6667 - val_loss: 0.5899\n",
            "Epoch 93/400\n",
            "\u001b[1m62/62\u001b[0m \u001b[32m━━━━━━━━━━━━━━━━━━━━\u001b[0m\u001b[37m\u001b[0m \u001b[1m0s\u001b[0m 609us/step - accuracy: 0.6549 - loss: 0.6054 - val_accuracy: 0.6667 - val_loss: 0.5890\n",
            "Epoch 94/400\n",
            "\u001b[1m62/62\u001b[0m \u001b[32m━━━━━━━━━━━━━━━━━━━━\u001b[0m\u001b[37m\u001b[0m \u001b[1m0s\u001b[0m 605us/step - accuracy: 0.6663 - loss: 0.6026 - val_accuracy: 0.6667 - val_loss: 0.5882\n",
            "Epoch 95/400\n",
            "\u001b[1m62/62\u001b[0m \u001b[32m━━━━━━━━━━━━━━━━━━━━\u001b[0m\u001b[37m\u001b[0m \u001b[1m0s\u001b[0m 609us/step - accuracy: 0.6296 - loss: 0.6050 - val_accuracy: 0.6667 - val_loss: 0.5874\n",
            "Epoch 96/400\n",
            "\u001b[1m62/62\u001b[0m \u001b[32m━━━━━━━━━━━━━━━━━━━━\u001b[0m\u001b[37m\u001b[0m \u001b[1m0s\u001b[0m 620us/step - accuracy: 0.6778 - loss: 0.6022 - val_accuracy: 0.6667 - val_loss: 0.5870\n",
            "Epoch 97/400\n",
            "\u001b[1m62/62\u001b[0m \u001b[32m━━━━━━━━━━━━━━━━━━━━\u001b[0m\u001b[37m\u001b[0m \u001b[1m0s\u001b[0m 601us/step - accuracy: 0.6765 - loss: 0.6113 - val_accuracy: 0.6667 - val_loss: 0.5861\n",
            "Epoch 98/400\n",
            "\u001b[1m62/62\u001b[0m \u001b[32m━━━━━━━━━━━━━━━━━━━━\u001b[0m\u001b[37m\u001b[0m \u001b[1m0s\u001b[0m 608us/step - accuracy: 0.6933 - loss: 0.5684 - val_accuracy: 0.6667 - val_loss: 0.5853\n",
            "Epoch 99/400\n",
            "\u001b[1m62/62\u001b[0m \u001b[32m━━━━━━━━━━━━━━━━━━━━\u001b[0m\u001b[37m\u001b[0m \u001b[1m0s\u001b[0m 601us/step - accuracy: 0.6508 - loss: 0.6095 - val_accuracy: 0.6585 - val_loss: 0.5844\n",
            "Epoch 100/400\n",
            "\u001b[1m62/62\u001b[0m \u001b[32m━━━━━━━━━━━━━━━━━━━━\u001b[0m\u001b[37m\u001b[0m \u001b[1m0s\u001b[0m 600us/step - accuracy: 0.6749 - loss: 0.5981 - val_accuracy: 0.6585 - val_loss: 0.5835\n",
            "Epoch 101/400\n",
            "\u001b[1m62/62\u001b[0m \u001b[32m━━━━━━━━━━━━━━━━━━━━\u001b[0m\u001b[37m\u001b[0m \u001b[1m0s\u001b[0m 611us/step - accuracy: 0.6535 - loss: 0.6241 - val_accuracy: 0.6585 - val_loss: 0.5830\n",
            "Epoch 102/400\n",
            "\u001b[1m62/62\u001b[0m \u001b[32m━━━━━━━━━━━━━━━━━━━━\u001b[0m\u001b[37m\u001b[0m \u001b[1m0s\u001b[0m 623us/step - accuracy: 0.6606 - loss: 0.6045 - val_accuracy: 0.6585 - val_loss: 0.5822\n",
            "Epoch 103/400\n",
            "\u001b[1m62/62\u001b[0m \u001b[32m━━━━━━━━━━━━━━━━━━━━\u001b[0m\u001b[37m\u001b[0m \u001b[1m0s\u001b[0m 601us/step - accuracy: 0.6486 - loss: 0.6162 - val_accuracy: 0.6585 - val_loss: 0.5816\n",
            "Epoch 104/400\n",
            "\u001b[1m62/62\u001b[0m \u001b[32m━━━━━━━━━━━━━━━━━━━━\u001b[0m\u001b[37m\u001b[0m \u001b[1m0s\u001b[0m 608us/step - accuracy: 0.6526 - loss: 0.5987 - val_accuracy: 0.6585 - val_loss: 0.5808\n",
            "Epoch 105/400\n",
            "\u001b[1m62/62\u001b[0m \u001b[32m━━━━━━━━━━━━━━━━━━━━\u001b[0m\u001b[37m\u001b[0m \u001b[1m0s\u001b[0m 605us/step - accuracy: 0.6252 - loss: 0.6132 - val_accuracy: 0.6585 - val_loss: 0.5800\n",
            "Epoch 106/400\n",
            "\u001b[1m62/62\u001b[0m \u001b[32m━━━━━━━━━━━━━━━━━━━━\u001b[0m\u001b[37m\u001b[0m \u001b[1m0s\u001b[0m 618us/step - accuracy: 0.6937 - loss: 0.5780 - val_accuracy: 0.6585 - val_loss: 0.5787\n",
            "Epoch 107/400\n",
            "\u001b[1m62/62\u001b[0m \u001b[32m━━━━━━━━━━━━━━━━━━━━\u001b[0m\u001b[37m\u001b[0m \u001b[1m0s\u001b[0m 608us/step - accuracy: 0.6542 - loss: 0.6037 - val_accuracy: 0.6585 - val_loss: 0.5783\n",
            "Epoch 108/400\n",
            "\u001b[1m62/62\u001b[0m \u001b[32m━━━━━━━━━━━━━━━━━━━━\u001b[0m\u001b[37m\u001b[0m \u001b[1m0s\u001b[0m 608us/step - accuracy: 0.6526 - loss: 0.5906 - val_accuracy: 0.6585 - val_loss: 0.5775\n",
            "Epoch 109/400\n",
            "\u001b[1m62/62\u001b[0m \u001b[32m━━━━━━━━━━━━━━━━━━━━\u001b[0m\u001b[37m\u001b[0m \u001b[1m0s\u001b[0m 616us/step - accuracy: 0.6932 - loss: 0.5637 - val_accuracy: 0.6585 - val_loss: 0.5769\n",
            "Epoch 110/400\n",
            "\u001b[1m62/62\u001b[0m \u001b[32m━━━━━━━━━━━━━━━━━━━━\u001b[0m\u001b[37m\u001b[0m \u001b[1m0s\u001b[0m 611us/step - accuracy: 0.6501 - loss: 0.5963 - val_accuracy: 0.6504 - val_loss: 0.5762\n",
            "Epoch 111/400\n",
            "\u001b[1m62/62\u001b[0m \u001b[32m━━━━━━━━━━━━━━━━━━━━\u001b[0m\u001b[37m\u001b[0m \u001b[1m0s\u001b[0m 611us/step - accuracy: 0.6510 - loss: 0.6008 - val_accuracy: 0.6585 - val_loss: 0.5759\n",
            "Epoch 112/400\n",
            "\u001b[1m62/62\u001b[0m \u001b[32m━━━━━━━━━━━━━━━━━━━━\u001b[0m\u001b[37m\u001b[0m \u001b[1m0s\u001b[0m 613us/step - accuracy: 0.6866 - loss: 0.5943 - val_accuracy: 0.6667 - val_loss: 0.5752\n",
            "Epoch 113/400\n",
            "\u001b[1m62/62\u001b[0m \u001b[32m━━━━━━━━━━━━━━━━━━━━\u001b[0m\u001b[37m\u001b[0m \u001b[1m0s\u001b[0m 609us/step - accuracy: 0.7047 - loss: 0.5861 - val_accuracy: 0.6667 - val_loss: 0.5748\n",
            "Epoch 114/400\n",
            "\u001b[1m62/62\u001b[0m \u001b[32m━━━━━━━━━━━━━━━━━━━━\u001b[0m\u001b[37m\u001b[0m \u001b[1m0s\u001b[0m 609us/step - accuracy: 0.6688 - loss: 0.6300 - val_accuracy: 0.6748 - val_loss: 0.5749\n",
            "Epoch 115/400\n",
            "\u001b[1m62/62\u001b[0m \u001b[32m━━━━━━━━━━━━━━━━━━━━\u001b[0m\u001b[37m\u001b[0m \u001b[1m0s\u001b[0m 609us/step - accuracy: 0.6828 - loss: 0.5780 - val_accuracy: 0.6585 - val_loss: 0.5737\n",
            "Epoch 116/400\n",
            "\u001b[1m62/62\u001b[0m \u001b[32m━━━━━━━━━━━━━━━━━━━━\u001b[0m\u001b[37m\u001b[0m \u001b[1m0s\u001b[0m 720us/step - accuracy: 0.6877 - loss: 0.5797 - val_accuracy: 0.6667 - val_loss: 0.5728\n",
            "Epoch 117/400\n",
            "\u001b[1m62/62\u001b[0m \u001b[32m━━━━━━━━━━━━━━━━━━━━\u001b[0m\u001b[37m\u001b[0m \u001b[1m0s\u001b[0m 608us/step - accuracy: 0.6359 - loss: 0.6042 - val_accuracy: 0.6748 - val_loss: 0.5724\n",
            "Epoch 118/400\n",
            "\u001b[1m62/62\u001b[0m \u001b[32m━━━━━━━━━━━━━━━━━━━━\u001b[0m\u001b[37m\u001b[0m \u001b[1m0s\u001b[0m 609us/step - accuracy: 0.6618 - loss: 0.6127 - val_accuracy: 0.6667 - val_loss: 0.5720\n",
            "Epoch 119/400\n",
            "\u001b[1m62/62\u001b[0m \u001b[32m━━━━━━━━━━━━━━━━━━━━\u001b[0m\u001b[37m\u001b[0m \u001b[1m0s\u001b[0m 604us/step - accuracy: 0.6485 - loss: 0.5931 - val_accuracy: 0.6667 - val_loss: 0.5714\n",
            "Epoch 120/400\n",
            "\u001b[1m62/62\u001b[0m \u001b[32m━━━━━━━━━━━━━━━━━━━━\u001b[0m\u001b[37m\u001b[0m \u001b[1m0s\u001b[0m 593us/step - accuracy: 0.6713 - loss: 0.5907 - val_accuracy: 0.6667 - val_loss: 0.5711\n",
            "Epoch 121/400\n",
            "\u001b[1m62/62\u001b[0m \u001b[32m━━━━━━━━━━━━━━━━━━━━\u001b[0m\u001b[37m\u001b[0m \u001b[1m0s\u001b[0m 607us/step - accuracy: 0.6430 - loss: 0.6048 - val_accuracy: 0.6667 - val_loss: 0.5706\n",
            "Epoch 122/400\n",
            "\u001b[1m62/62\u001b[0m \u001b[32m━━━━━━━━━━━━━━━━━━━━\u001b[0m\u001b[37m\u001b[0m \u001b[1m0s\u001b[0m 608us/step - accuracy: 0.6965 - loss: 0.5836 - val_accuracy: 0.6748 - val_loss: 0.5698\n",
            "Epoch 123/400\n",
            "\u001b[1m62/62\u001b[0m \u001b[32m━━━━━━━━━━━━━━━━━━━━\u001b[0m\u001b[37m\u001b[0m \u001b[1m0s\u001b[0m 607us/step - accuracy: 0.6321 - loss: 0.6113 - val_accuracy: 0.6748 - val_loss: 0.5693\n",
            "Epoch 124/400\n",
            "\u001b[1m62/62\u001b[0m \u001b[32m━━━━━━━━━━━━━━━━━━━━\u001b[0m\u001b[37m\u001b[0m \u001b[1m0s\u001b[0m 605us/step - accuracy: 0.6734 - loss: 0.5826 - val_accuracy: 0.6748 - val_loss: 0.5688\n",
            "Epoch 125/400\n",
            "\u001b[1m62/62\u001b[0m \u001b[32m━━━━━━━━━━━━━━━━━━━━\u001b[0m\u001b[37m\u001b[0m \u001b[1m0s\u001b[0m 606us/step - accuracy: 0.6407 - loss: 0.6120 - val_accuracy: 0.6748 - val_loss: 0.5685\n",
            "Epoch 126/400\n",
            "\u001b[1m62/62\u001b[0m \u001b[32m━━━━━━━━━━━━━━━━━━━━\u001b[0m\u001b[37m\u001b[0m \u001b[1m0s\u001b[0m 610us/step - accuracy: 0.6793 - loss: 0.5959 - val_accuracy: 0.6748 - val_loss: 0.5680\n",
            "Epoch 127/400\n",
            "\u001b[1m62/62\u001b[0m \u001b[32m━━━━━━━━━━━━━━━━━━━━\u001b[0m\u001b[37m\u001b[0m \u001b[1m0s\u001b[0m 595us/step - accuracy: 0.6951 - loss: 0.5548 - val_accuracy: 0.6748 - val_loss: 0.5675\n",
            "Epoch 128/400\n",
            "\u001b[1m62/62\u001b[0m \u001b[32m━━━━━━━━━━━━━━━━━━━━\u001b[0m\u001b[37m\u001b[0m \u001b[1m0s\u001b[0m 606us/step - accuracy: 0.6420 - loss: 0.6054 - val_accuracy: 0.6829 - val_loss: 0.5666\n",
            "Epoch 129/400\n",
            "\u001b[1m62/62\u001b[0m \u001b[32m━━━━━━━━━━━━━━━━━━━━\u001b[0m\u001b[37m\u001b[0m \u001b[1m0s\u001b[0m 606us/step - accuracy: 0.6458 - loss: 0.6039 - val_accuracy: 0.6748 - val_loss: 0.5663\n",
            "Epoch 130/400\n",
            "\u001b[1m62/62\u001b[0m \u001b[32m━━━━━━━━━━━━━━━━━━━━\u001b[0m\u001b[37m\u001b[0m \u001b[1m0s\u001b[0m 606us/step - accuracy: 0.6297 - loss: 0.6008 - val_accuracy: 0.6748 - val_loss: 0.5659\n",
            "Epoch 131/400\n",
            "\u001b[1m62/62\u001b[0m \u001b[32m━━━━━━━━━━━━━━━━━━━━\u001b[0m\u001b[37m\u001b[0m \u001b[1m0s\u001b[0m 607us/step - accuracy: 0.6776 - loss: 0.5829 - val_accuracy: 0.6585 - val_loss: 0.5654\n",
            "Epoch 132/400\n",
            "\u001b[1m62/62\u001b[0m \u001b[32m━━━━━━━━━━━━━━━━━━━━\u001b[0m\u001b[37m\u001b[0m \u001b[1m0s\u001b[0m 606us/step - accuracy: 0.6675 - loss: 0.5862 - val_accuracy: 0.6585 - val_loss: 0.5648\n",
            "Epoch 133/400\n",
            "\u001b[1m62/62\u001b[0m \u001b[32m━━━━━━━━━━━━━━━━━━━━\u001b[0m\u001b[37m\u001b[0m \u001b[1m0s\u001b[0m 612us/step - accuracy: 0.6589 - loss: 0.5999 - val_accuracy: 0.6585 - val_loss: 0.5643\n",
            "Epoch 134/400\n",
            "\u001b[1m62/62\u001b[0m \u001b[32m━━━━━━━━━━━━━━━━━━━━\u001b[0m\u001b[37m\u001b[0m \u001b[1m0s\u001b[0m 608us/step - accuracy: 0.6629 - loss: 0.5888 - val_accuracy: 0.6667 - val_loss: 0.5637\n",
            "Epoch 135/400\n",
            "\u001b[1m62/62\u001b[0m \u001b[32m━━━━━━━━━━━━━━━━━━━━\u001b[0m\u001b[37m\u001b[0m \u001b[1m0s\u001b[0m 602us/step - accuracy: 0.7014 - loss: 0.5385 - val_accuracy: 0.6748 - val_loss: 0.5634\n",
            "Epoch 136/400\n",
            "\u001b[1m62/62\u001b[0m \u001b[32m━━━━━━━━━━━━━━━━━━━━\u001b[0m\u001b[37m\u001b[0m \u001b[1m0s\u001b[0m 613us/step - accuracy: 0.6677 - loss: 0.6104 - val_accuracy: 0.6667 - val_loss: 0.5627\n",
            "Epoch 137/400\n",
            "\u001b[1m62/62\u001b[0m \u001b[32m━━━━━━━━━━━━━━━━━━━━\u001b[0m\u001b[37m\u001b[0m \u001b[1m0s\u001b[0m 613us/step - accuracy: 0.7012 - loss: 0.5816 - val_accuracy: 0.6748 - val_loss: 0.5626\n",
            "Epoch 138/400\n",
            "\u001b[1m62/62\u001b[0m \u001b[32m━━━━━━━━━━━━━━━━━━━━\u001b[0m\u001b[37m\u001b[0m \u001b[1m0s\u001b[0m 609us/step - accuracy: 0.6787 - loss: 0.5698 - val_accuracy: 0.6748 - val_loss: 0.5620\n",
            "Epoch 139/400\n",
            "\u001b[1m62/62\u001b[0m \u001b[32m━━━━━━━━━━━━━━━━━━━━\u001b[0m\u001b[37m\u001b[0m \u001b[1m0s\u001b[0m 605us/step - accuracy: 0.6774 - loss: 0.5708 - val_accuracy: 0.6585 - val_loss: 0.5607\n",
            "Epoch 140/400\n",
            "\u001b[1m62/62\u001b[0m \u001b[32m━━━━━━━━━━━━━━━━━━━━\u001b[0m\u001b[37m\u001b[0m \u001b[1m0s\u001b[0m 611us/step - accuracy: 0.6371 - loss: 0.6125 - val_accuracy: 0.6585 - val_loss: 0.5605\n",
            "Epoch 141/400\n",
            "\u001b[1m62/62\u001b[0m \u001b[32m━━━━━━━━━━━━━━━━━━━━\u001b[0m\u001b[37m\u001b[0m \u001b[1m0s\u001b[0m 606us/step - accuracy: 0.6231 - loss: 0.6321 - val_accuracy: 0.6585 - val_loss: 0.5601\n",
            "Epoch 142/400\n",
            "\u001b[1m62/62\u001b[0m \u001b[32m━━━━━━━━━━━━━━━━━━━━\u001b[0m\u001b[37m\u001b[0m \u001b[1m0s\u001b[0m 605us/step - accuracy: 0.6591 - loss: 0.5859 - val_accuracy: 0.6585 - val_loss: 0.5602\n",
            "Epoch 143/400\n",
            "\u001b[1m62/62\u001b[0m \u001b[32m━━━━━━━━━━━━━━━━━━━━\u001b[0m\u001b[37m\u001b[0m \u001b[1m0s\u001b[0m 733us/step - accuracy: 0.6385 - loss: 0.5920 - val_accuracy: 0.6585 - val_loss: 0.5592\n",
            "Epoch 144/400\n",
            "\u001b[1m62/62\u001b[0m \u001b[32m━━━━━━━━━━━━━━━━━━━━\u001b[0m\u001b[37m\u001b[0m \u001b[1m0s\u001b[0m 604us/step - accuracy: 0.6844 - loss: 0.5718 - val_accuracy: 0.6585 - val_loss: 0.5588\n",
            "Epoch 145/400\n",
            "\u001b[1m62/62\u001b[0m \u001b[32m━━━━━━━━━━━━━━━━━━━━\u001b[0m\u001b[37m\u001b[0m \u001b[1m0s\u001b[0m 611us/step - accuracy: 0.6752 - loss: 0.5817 - val_accuracy: 0.6585 - val_loss: 0.5579\n",
            "Epoch 146/400\n",
            "\u001b[1m62/62\u001b[0m \u001b[32m━━━━━━━━━━━━━━━━━━━━\u001b[0m\u001b[37m\u001b[0m \u001b[1m0s\u001b[0m 609us/step - accuracy: 0.6797 - loss: 0.5681 - val_accuracy: 0.6667 - val_loss: 0.5574\n",
            "Epoch 147/400\n",
            "\u001b[1m62/62\u001b[0m \u001b[32m━━━━━━━━━━━━━━━━━━━━\u001b[0m\u001b[37m\u001b[0m \u001b[1m0s\u001b[0m 610us/step - accuracy: 0.6792 - loss: 0.5601 - val_accuracy: 0.6585 - val_loss: 0.5572\n",
            "Epoch 148/400\n",
            "\u001b[1m62/62\u001b[0m \u001b[32m━━━━━━━━━━━━━━━━━━━━\u001b[0m\u001b[37m\u001b[0m \u001b[1m0s\u001b[0m 611us/step - accuracy: 0.6802 - loss: 0.5974 - val_accuracy: 0.6667 - val_loss: 0.5568\n",
            "Epoch 149/400\n",
            "\u001b[1m62/62\u001b[0m \u001b[32m━━━━━━━━━━━━━━━━━━━━\u001b[0m\u001b[37m\u001b[0m \u001b[1m0s\u001b[0m 607us/step - accuracy: 0.6297 - loss: 0.5920 - val_accuracy: 0.6585 - val_loss: 0.5566\n",
            "Epoch 150/400\n",
            "\u001b[1m62/62\u001b[0m \u001b[32m━━━━━━━━━━━━━━━━━━━━\u001b[0m\u001b[37m\u001b[0m \u001b[1m0s\u001b[0m 611us/step - accuracy: 0.6782 - loss: 0.5680 - val_accuracy: 0.6585 - val_loss: 0.5559\n",
            "Epoch 151/400\n",
            "\u001b[1m62/62\u001b[0m \u001b[32m━━━━━━━━━━━━━━━━━━━━\u001b[0m\u001b[37m\u001b[0m \u001b[1m0s\u001b[0m 610us/step - accuracy: 0.6673 - loss: 0.5688 - val_accuracy: 0.6667 - val_loss: 0.5552\n",
            "Epoch 152/400\n",
            "\u001b[1m62/62\u001b[0m \u001b[32m━━━━━━━━━━━━━━━━━━━━\u001b[0m\u001b[37m\u001b[0m \u001b[1m0s\u001b[0m 609us/step - accuracy: 0.6609 - loss: 0.5858 - val_accuracy: 0.6667 - val_loss: 0.5550\n",
            "Epoch 153/400\n",
            "\u001b[1m62/62\u001b[0m \u001b[32m━━━━━━━━━━━━━━━━━━━━\u001b[0m\u001b[37m\u001b[0m \u001b[1m0s\u001b[0m 607us/step - accuracy: 0.6625 - loss: 0.6039 - val_accuracy: 0.6667 - val_loss: 0.5547\n",
            "Epoch 154/400\n",
            "\u001b[1m62/62\u001b[0m \u001b[32m━━━━━━━━━━━━━━━━━━━━\u001b[0m\u001b[37m\u001b[0m \u001b[1m0s\u001b[0m 611us/step - accuracy: 0.6451 - loss: 0.5856 - val_accuracy: 0.6667 - val_loss: 0.5544\n",
            "Epoch 155/400\n",
            "\u001b[1m62/62\u001b[0m \u001b[32m━━━━━━━━━━━━━━━━━━━━\u001b[0m\u001b[37m\u001b[0m \u001b[1m0s\u001b[0m 609us/step - accuracy: 0.6783 - loss: 0.5936 - val_accuracy: 0.6667 - val_loss: 0.5544\n",
            "Epoch 156/400\n",
            "\u001b[1m62/62\u001b[0m \u001b[32m━━━━━━━━━━━━━━━━━━━━\u001b[0m\u001b[37m\u001b[0m \u001b[1m0s\u001b[0m 606us/step - accuracy: 0.6679 - loss: 0.5687 - val_accuracy: 0.6585 - val_loss: 0.5544\n",
            "Epoch 157/400\n",
            "\u001b[1m62/62\u001b[0m \u001b[32m━━━━━━━━━━━━━━━━━━━━\u001b[0m\u001b[37m\u001b[0m \u001b[1m0s\u001b[0m 605us/step - accuracy: 0.6568 - loss: 0.5727 - val_accuracy: 0.6585 - val_loss: 0.5543\n",
            "Epoch 158/400\n",
            "\u001b[1m62/62\u001b[0m \u001b[32m━━━━━━━━━━━━━━━━━━━━\u001b[0m\u001b[37m\u001b[0m \u001b[1m0s\u001b[0m 609us/step - accuracy: 0.6863 - loss: 0.5889 - val_accuracy: 0.6667 - val_loss: 0.5529\n",
            "Epoch 159/400\n",
            "\u001b[1m62/62\u001b[0m \u001b[32m━━━━━━━━━━━━━━━━━━━━\u001b[0m\u001b[37m\u001b[0m \u001b[1m0s\u001b[0m 601us/step - accuracy: 0.7143 - loss: 0.5882 - val_accuracy: 0.6585 - val_loss: 0.5524\n",
            "Epoch 160/400\n",
            "\u001b[1m62/62\u001b[0m \u001b[32m━━━━━━━━━━━━━━━━━━━━\u001b[0m\u001b[37m\u001b[0m \u001b[1m0s\u001b[0m 602us/step - accuracy: 0.6428 - loss: 0.5688 - val_accuracy: 0.6504 - val_loss: 0.5519\n",
            "Epoch 161/400\n",
            "\u001b[1m62/62\u001b[0m \u001b[32m━━━━━━━━━━━━━━━━━━━━\u001b[0m\u001b[37m\u001b[0m \u001b[1m0s\u001b[0m 609us/step - accuracy: 0.6519 - loss: 0.6034 - val_accuracy: 0.6667 - val_loss: 0.5521\n",
            "Epoch 162/400\n",
            "\u001b[1m62/62\u001b[0m \u001b[32m━━━━━━━━━━━━━━━━━━━━\u001b[0m\u001b[37m\u001b[0m \u001b[1m0s\u001b[0m 607us/step - accuracy: 0.6961 - loss: 0.5654 - val_accuracy: 0.6504 - val_loss: 0.5512\n",
            "Epoch 163/400\n",
            "\u001b[1m62/62\u001b[0m \u001b[32m━━━━━━━━━━━━━━━━━━━━\u001b[0m\u001b[37m\u001b[0m \u001b[1m0s\u001b[0m 612us/step - accuracy: 0.7027 - loss: 0.5535 - val_accuracy: 0.6423 - val_loss: 0.5506\n",
            "Epoch 164/400\n",
            "\u001b[1m62/62\u001b[0m \u001b[32m━━━━━━━━━━━━━━━━━━━━\u001b[0m\u001b[37m\u001b[0m \u001b[1m0s\u001b[0m 598us/step - accuracy: 0.7052 - loss: 0.5497 - val_accuracy: 0.6423 - val_loss: 0.5500\n",
            "Epoch 165/400\n",
            "\u001b[1m62/62\u001b[0m \u001b[32m━━━━━━━━━━━━━━━━━━━━\u001b[0m\u001b[37m\u001b[0m \u001b[1m0s\u001b[0m 615us/step - accuracy: 0.6571 - loss: 0.5666 - val_accuracy: 0.6423 - val_loss: 0.5500\n",
            "Epoch 166/400\n",
            "\u001b[1m62/62\u001b[0m \u001b[32m━━━━━━━━━━━━━━━━━━━━\u001b[0m\u001b[37m\u001b[0m \u001b[1m0s\u001b[0m 616us/step - accuracy: 0.6994 - loss: 0.5601 - val_accuracy: 0.6667 - val_loss: 0.5503\n",
            "Epoch 167/400\n",
            "\u001b[1m62/62\u001b[0m \u001b[32m━━━━━━━━━━━━━━━━━━━━\u001b[0m\u001b[37m\u001b[0m \u001b[1m0s\u001b[0m 608us/step - accuracy: 0.7164 - loss: 0.5684 - val_accuracy: 0.6504 - val_loss: 0.5496\n",
            "Epoch 168/400\n",
            "\u001b[1m62/62\u001b[0m \u001b[32m━━━━━━━━━━━━━━━━━━━━\u001b[0m\u001b[37m\u001b[0m \u001b[1m0s\u001b[0m 607us/step - accuracy: 0.7159 - loss: 0.5295 - val_accuracy: 0.6504 - val_loss: 0.5493\n",
            "Epoch 169/400\n",
            "\u001b[1m62/62\u001b[0m \u001b[32m━━━━━━━━━━━━━━━━━━━━\u001b[0m\u001b[37m\u001b[0m \u001b[1m0s\u001b[0m 727us/step - accuracy: 0.6626 - loss: 0.5728 - val_accuracy: 0.6423 - val_loss: 0.5487\n",
            "Epoch 170/400\n",
            "\u001b[1m62/62\u001b[0m \u001b[32m━━━━━━━━━━━━━━━━━━━━\u001b[0m\u001b[37m\u001b[0m \u001b[1m0s\u001b[0m 609us/step - accuracy: 0.6687 - loss: 0.5937 - val_accuracy: 0.6504 - val_loss: 0.5489\n",
            "Epoch 171/400\n",
            "\u001b[1m62/62\u001b[0m \u001b[32m━━━━━━━━━━━━━━━━━━━━\u001b[0m\u001b[37m\u001b[0m \u001b[1m0s\u001b[0m 610us/step - accuracy: 0.6799 - loss: 0.5556 - val_accuracy: 0.6585 - val_loss: 0.5487\n",
            "Epoch 172/400\n",
            "\u001b[1m62/62\u001b[0m \u001b[32m━━━━━━━━━━━━━━━━━━━━\u001b[0m\u001b[37m\u001b[0m \u001b[1m0s\u001b[0m 617us/step - accuracy: 0.7187 - loss: 0.5434 - val_accuracy: 0.6423 - val_loss: 0.5474\n",
            "Epoch 173/400\n",
            "\u001b[1m62/62\u001b[0m \u001b[32m━━━━━━━━━━━━━━━━━━━━\u001b[0m\u001b[37m\u001b[0m \u001b[1m0s\u001b[0m 626us/step - accuracy: 0.7240 - loss: 0.5570 - val_accuracy: 0.6423 - val_loss: 0.5469\n",
            "Epoch 174/400\n",
            "\u001b[1m62/62\u001b[0m \u001b[32m━━━━━━━━━━━━━━━━━━━━\u001b[0m\u001b[37m\u001b[0m \u001b[1m0s\u001b[0m 649us/step - accuracy: 0.6940 - loss: 0.5723 - val_accuracy: 0.6423 - val_loss: 0.5467\n",
            "Epoch 175/400\n",
            "\u001b[1m62/62\u001b[0m \u001b[32m━━━━━━━━━━━━━━━━━━━━\u001b[0m\u001b[37m\u001b[0m \u001b[1m0s\u001b[0m 607us/step - accuracy: 0.6504 - loss: 0.5738 - val_accuracy: 0.6423 - val_loss: 0.5466\n",
            "Epoch 176/400\n",
            "\u001b[1m62/62\u001b[0m \u001b[32m━━━━━━━━━━━━━━━━━━━━\u001b[0m\u001b[37m\u001b[0m \u001b[1m0s\u001b[0m 611us/step - accuracy: 0.6597 - loss: 0.5687 - val_accuracy: 0.6504 - val_loss: 0.5461\n",
            "Epoch 177/400\n",
            "\u001b[1m62/62\u001b[0m \u001b[32m━━━━━━━━━━━━━━━━━━━━\u001b[0m\u001b[37m\u001b[0m \u001b[1m0s\u001b[0m 602us/step - accuracy: 0.7317 - loss: 0.5429 - val_accuracy: 0.6423 - val_loss: 0.5454\n",
            "Epoch 178/400\n",
            "\u001b[1m62/62\u001b[0m \u001b[32m━━━━━━━━━━━━━━━━━━━━\u001b[0m\u001b[37m\u001b[0m \u001b[1m0s\u001b[0m 612us/step - accuracy: 0.6624 - loss: 0.5638 - val_accuracy: 0.6423 - val_loss: 0.5452\n",
            "Epoch 179/400\n",
            "\u001b[1m62/62\u001b[0m \u001b[32m━━━━━━━━━━━━━━━━━━━━\u001b[0m\u001b[37m\u001b[0m \u001b[1m0s\u001b[0m 603us/step - accuracy: 0.6749 - loss: 0.5793 - val_accuracy: 0.6423 - val_loss: 0.5451\n",
            "Epoch 180/400\n",
            "\u001b[1m62/62\u001b[0m \u001b[32m━━━━━━━━━━━━━━━━━━━━\u001b[0m\u001b[37m\u001b[0m \u001b[1m0s\u001b[0m 615us/step - accuracy: 0.6437 - loss: 0.6053 - val_accuracy: 0.6504 - val_loss: 0.5457\n",
            "Epoch 181/400\n",
            "\u001b[1m62/62\u001b[0m \u001b[32m━━━━━━━━━━━━━━━━━━━━\u001b[0m\u001b[37m\u001b[0m \u001b[1m0s\u001b[0m 612us/step - accuracy: 0.7294 - loss: 0.5270 - val_accuracy: 0.6504 - val_loss: 0.5455\n",
            "Epoch 182/400\n",
            "\u001b[1m62/62\u001b[0m \u001b[32m━━━━━━━━━━━━━━━━━━━━\u001b[0m\u001b[37m\u001b[0m \u001b[1m0s\u001b[0m 603us/step - accuracy: 0.6658 - loss: 0.5714 - val_accuracy: 0.6504 - val_loss: 0.5452\n",
            "Epoch 183/400\n",
            "\u001b[1m62/62\u001b[0m \u001b[32m━━━━━━━━━━━━━━━━━━━━\u001b[0m\u001b[37m\u001b[0m \u001b[1m0s\u001b[0m 612us/step - accuracy: 0.6568 - loss: 0.5762 - val_accuracy: 0.6423 - val_loss: 0.5443\n",
            "Epoch 184/400\n",
            "\u001b[1m62/62\u001b[0m \u001b[32m━━━━━━━━━━━━━━━━━━━━\u001b[0m\u001b[37m\u001b[0m \u001b[1m0s\u001b[0m 614us/step - accuracy: 0.7094 - loss: 0.5928 - val_accuracy: 0.6504 - val_loss: 0.5447\n",
            "Epoch 185/400\n",
            "\u001b[1m62/62\u001b[0m \u001b[32m━━━━━━━━━━━━━━━━━━━━\u001b[0m\u001b[37m\u001b[0m \u001b[1m0s\u001b[0m 603us/step - accuracy: 0.6830 - loss: 0.5790 - val_accuracy: 0.6423 - val_loss: 0.5446\n",
            "Epoch 186/400\n",
            "\u001b[1m62/62\u001b[0m \u001b[32m━━━━━━━━━━━━━━━━━━━━\u001b[0m\u001b[37m\u001b[0m \u001b[1m0s\u001b[0m 605us/step - accuracy: 0.6906 - loss: 0.5607 - val_accuracy: 0.6504 - val_loss: 0.5446\n",
            "Epoch 187/400\n",
            "\u001b[1m62/62\u001b[0m \u001b[32m━━━━━━━━━━━━━━━━━━━━\u001b[0m\u001b[37m\u001b[0m \u001b[1m0s\u001b[0m 611us/step - accuracy: 0.6379 - loss: 0.6172 - val_accuracy: 0.6504 - val_loss: 0.5444\n",
            "Epoch 188/400\n",
            "\u001b[1m62/62\u001b[0m \u001b[32m━━━━━━━━━━━━━━━━━━━━\u001b[0m\u001b[37m\u001b[0m \u001b[1m0s\u001b[0m 613us/step - accuracy: 0.6960 - loss: 0.5532 - val_accuracy: 0.6504 - val_loss: 0.5446\n",
            "Epoch 189/400\n",
            "\u001b[1m62/62\u001b[0m \u001b[32m━━━━━━━━━━━━━━━━━━━━\u001b[0m\u001b[37m\u001b[0m \u001b[1m0s\u001b[0m 607us/step - accuracy: 0.7107 - loss: 0.5385 - val_accuracy: 0.6504 - val_loss: 0.5438\n",
            "Epoch 190/400\n",
            "\u001b[1m62/62\u001b[0m \u001b[32m━━━━━━━━━━━━━━━━━━━━\u001b[0m\u001b[37m\u001b[0m \u001b[1m0s\u001b[0m 602us/step - accuracy: 0.6710 - loss: 0.5844 - val_accuracy: 0.6504 - val_loss: 0.5428\n",
            "Epoch 191/400\n",
            "\u001b[1m62/62\u001b[0m \u001b[32m━━━━━━━━━━━━━━━━━━━━\u001b[0m\u001b[37m\u001b[0m \u001b[1m0s\u001b[0m 600us/step - accuracy: 0.6773 - loss: 0.5806 - val_accuracy: 0.6504 - val_loss: 0.5429\n",
            "Epoch 192/400\n",
            "\u001b[1m62/62\u001b[0m \u001b[32m━━━━━━━━━━━━━━━━━━━━\u001b[0m\u001b[37m\u001b[0m \u001b[1m0s\u001b[0m 807us/step - accuracy: 0.6937 - loss: 0.5573 - val_accuracy: 0.6504 - val_loss: 0.5433\n",
            "Epoch 193/400\n",
            "\u001b[1m62/62\u001b[0m \u001b[32m━━━━━━━━━━━━━━━━━━━━\u001b[0m\u001b[37m\u001b[0m \u001b[1m0s\u001b[0m 612us/step - accuracy: 0.6755 - loss: 0.5755 - val_accuracy: 0.6504 - val_loss: 0.5426\n",
            "Epoch 194/400\n",
            "\u001b[1m62/62\u001b[0m \u001b[32m━━━━━━━━━━━━━━━━━━━━\u001b[0m\u001b[37m\u001b[0m \u001b[1m0s\u001b[0m 607us/step - accuracy: 0.6799 - loss: 0.5728 - val_accuracy: 0.6585 - val_loss: 0.5429\n",
            "Epoch 195/400\n",
            "\u001b[1m62/62\u001b[0m \u001b[32m━━━━━━━━━━━━━━━━━━━━\u001b[0m\u001b[37m\u001b[0m \u001b[1m0s\u001b[0m 609us/step - accuracy: 0.7391 - loss: 0.5275 - val_accuracy: 0.6504 - val_loss: 0.5423\n",
            "Epoch 196/400\n",
            "\u001b[1m62/62\u001b[0m \u001b[32m━━━━━━━━━━━━━━━━━━━━\u001b[0m\u001b[37m\u001b[0m \u001b[1m0s\u001b[0m 610us/step - accuracy: 0.6843 - loss: 0.5913 - val_accuracy: 0.6504 - val_loss: 0.5423\n",
            "Epoch 197/400\n",
            "\u001b[1m62/62\u001b[0m \u001b[32m━━━━━━━━━━━━━━━━━━━━\u001b[0m\u001b[37m\u001b[0m \u001b[1m0s\u001b[0m 607us/step - accuracy: 0.7002 - loss: 0.5608 - val_accuracy: 0.6504 - val_loss: 0.5421\n",
            "Epoch 198/400\n",
            "\u001b[1m62/62\u001b[0m \u001b[32m━━━━━━━━━━━━━━━━━━━━\u001b[0m\u001b[37m\u001b[0m \u001b[1m0s\u001b[0m 612us/step - accuracy: 0.6825 - loss: 0.5543 - val_accuracy: 0.6585 - val_loss: 0.5426\n",
            "Epoch 199/400\n",
            "\u001b[1m62/62\u001b[0m \u001b[32m━━━━━━━━━━━━━━━━━━━━\u001b[0m\u001b[37m\u001b[0m \u001b[1m0s\u001b[0m 604us/step - accuracy: 0.6952 - loss: 0.5649 - val_accuracy: 0.6504 - val_loss: 0.5416\n",
            "Epoch 200/400\n",
            "\u001b[1m62/62\u001b[0m \u001b[32m━━━━━━━━━━━━━━━━━━━━\u001b[0m\u001b[37m\u001b[0m \u001b[1m0s\u001b[0m 611us/step - accuracy: 0.6685 - loss: 0.6041 - val_accuracy: 0.6585 - val_loss: 0.5419\n",
            "Epoch 201/400\n",
            "\u001b[1m62/62\u001b[0m \u001b[32m━━━━━━━━━━━━━━━━━━━━\u001b[0m\u001b[37m\u001b[0m \u001b[1m0s\u001b[0m 606us/step - accuracy: 0.6507 - loss: 0.5867 - val_accuracy: 0.6585 - val_loss: 0.5415\n",
            "Epoch 202/400\n",
            "\u001b[1m62/62\u001b[0m \u001b[32m━━━━━━━━━━━━━━━━━━━━\u001b[0m\u001b[37m\u001b[0m \u001b[1m0s\u001b[0m 607us/step - accuracy: 0.7238 - loss: 0.5763 - val_accuracy: 0.6585 - val_loss: 0.5412\n",
            "Epoch 203/400\n",
            "\u001b[1m62/62\u001b[0m \u001b[32m━━━━━━━━━━━━━━━━━━━━\u001b[0m\u001b[37m\u001b[0m \u001b[1m0s\u001b[0m 611us/step - accuracy: 0.7332 - loss: 0.5273 - val_accuracy: 0.6585 - val_loss: 0.5411\n",
            "Epoch 204/400\n",
            "\u001b[1m62/62\u001b[0m \u001b[32m━━━━━━━━━━━━━━━━━━━━\u001b[0m\u001b[37m\u001b[0m \u001b[1m0s\u001b[0m 608us/step - accuracy: 0.6896 - loss: 0.5663 - val_accuracy: 0.6585 - val_loss: 0.5404\n",
            "Epoch 205/400\n",
            "\u001b[1m62/62\u001b[0m \u001b[32m━━━━━━━━━━━━━━━━━━━━\u001b[0m\u001b[37m\u001b[0m \u001b[1m0s\u001b[0m 605us/step - accuracy: 0.6427 - loss: 0.5993 - val_accuracy: 0.6585 - val_loss: 0.5407\n",
            "Epoch 206/400\n",
            "\u001b[1m62/62\u001b[0m \u001b[32m━━━━━━━━━━━━━━━━━━━━\u001b[0m\u001b[37m\u001b[0m \u001b[1m0s\u001b[0m 604us/step - accuracy: 0.6462 - loss: 0.5894 - val_accuracy: 0.6585 - val_loss: 0.5413\n",
            "Epoch 207/400\n",
            "\u001b[1m62/62\u001b[0m \u001b[32m━━━━━━━━━━━━━━━━━━━━\u001b[0m\u001b[37m\u001b[0m \u001b[1m0s\u001b[0m 611us/step - accuracy: 0.6686 - loss: 0.5621 - val_accuracy: 0.6585 - val_loss: 0.5408\n",
            "Epoch 208/400\n",
            "\u001b[1m62/62\u001b[0m \u001b[32m━━━━━━━━━━━━━━━━━━━━\u001b[0m\u001b[37m\u001b[0m \u001b[1m0s\u001b[0m 607us/step - accuracy: 0.7186 - loss: 0.5476 - val_accuracy: 0.6585 - val_loss: 0.5415\n",
            "Epoch 209/400\n",
            "\u001b[1m62/62\u001b[0m \u001b[32m━━━━━━━━━━━━━━━━━━━━\u001b[0m\u001b[37m\u001b[0m \u001b[1m0s\u001b[0m 603us/step - accuracy: 0.6704 - loss: 0.5563 - val_accuracy: 0.6585 - val_loss: 0.5398\n",
            "Epoch 210/400\n",
            "\u001b[1m62/62\u001b[0m \u001b[32m━━━━━━━━━━━━━━━━━━━━\u001b[0m\u001b[37m\u001b[0m \u001b[1m0s\u001b[0m 612us/step - accuracy: 0.6788 - loss: 0.5938 - val_accuracy: 0.6667 - val_loss: 0.5407\n",
            "Epoch 211/400\n",
            "\u001b[1m62/62\u001b[0m \u001b[32m━━━━━━━━━━━━━━━━━━━━\u001b[0m\u001b[37m\u001b[0m \u001b[1m0s\u001b[0m 612us/step - accuracy: 0.6882 - loss: 0.5699 - val_accuracy: 0.6585 - val_loss: 0.5390\n",
            "Epoch 212/400\n",
            "\u001b[1m62/62\u001b[0m \u001b[32m━━━━━━━━━━━━━━━━━━━━\u001b[0m\u001b[37m\u001b[0m \u001b[1m0s\u001b[0m 606us/step - accuracy: 0.6963 - loss: 0.5590 - val_accuracy: 0.6585 - val_loss: 0.5390\n",
            "Epoch 213/400\n",
            "\u001b[1m62/62\u001b[0m \u001b[32m━━━━━━━━━━━━━━━━━━━━\u001b[0m\u001b[37m\u001b[0m \u001b[1m0s\u001b[0m 605us/step - accuracy: 0.7250 - loss: 0.5671 - val_accuracy: 0.6585 - val_loss: 0.5389\n",
            "Epoch 214/400\n",
            "\u001b[1m62/62\u001b[0m \u001b[32m━━━━━━━━━━━━━━━━━━━━\u001b[0m\u001b[37m\u001b[0m \u001b[1m0s\u001b[0m 605us/step - accuracy: 0.7265 - loss: 0.5207 - val_accuracy: 0.6585 - val_loss: 0.5388\n",
            "Epoch 215/400\n",
            "\u001b[1m62/62\u001b[0m \u001b[32m━━━━━━━━━━━━━━━━━━━━\u001b[0m\u001b[37m\u001b[0m \u001b[1m0s\u001b[0m 607us/step - accuracy: 0.6843 - loss: 0.5522 - val_accuracy: 0.6585 - val_loss: 0.5390\n",
            "Epoch 216/400\n",
            "\u001b[1m62/62\u001b[0m \u001b[32m━━━━━━━━━━━━━━━━━━━━\u001b[0m\u001b[37m\u001b[0m \u001b[1m0s\u001b[0m 596us/step - accuracy: 0.7254 - loss: 0.5358 - val_accuracy: 0.6585 - val_loss: 0.5387\n",
            "Epoch 217/400\n",
            "\u001b[1m62/62\u001b[0m \u001b[32m━━━━━━━━━━━━━━━━━━━━\u001b[0m\u001b[37m\u001b[0m \u001b[1m0s\u001b[0m 748us/step - accuracy: 0.7079 - loss: 0.5654 - val_accuracy: 0.6585 - val_loss: 0.5383\n",
            "Epoch 218/400\n",
            "\u001b[1m62/62\u001b[0m \u001b[32m━━━━━━━━━━━━━━━━━━━━\u001b[0m\u001b[37m\u001b[0m \u001b[1m0s\u001b[0m 605us/step - accuracy: 0.7086 - loss: 0.5491 - val_accuracy: 0.6585 - val_loss: 0.5380\n",
            "Epoch 219/400\n",
            "\u001b[1m62/62\u001b[0m \u001b[32m━━━━━━━━━━━━━━━━━━━━\u001b[0m\u001b[37m\u001b[0m \u001b[1m0s\u001b[0m 613us/step - accuracy: 0.7032 - loss: 0.5473 - val_accuracy: 0.6667 - val_loss: 0.5373\n",
            "Epoch 220/400\n",
            "\u001b[1m62/62\u001b[0m \u001b[32m━━━━━━━━━━━━━━━━━━━━\u001b[0m\u001b[37m\u001b[0m \u001b[1m0s\u001b[0m 615us/step - accuracy: 0.6984 - loss: 0.5438 - val_accuracy: 0.6667 - val_loss: 0.5373\n",
            "Epoch 221/400\n",
            "\u001b[1m62/62\u001b[0m \u001b[32m━━━━━━━━━━━━━━━━━━━━\u001b[0m\u001b[37m\u001b[0m \u001b[1m0s\u001b[0m 648us/step - accuracy: 0.6846 - loss: 0.5431 - val_accuracy: 0.6667 - val_loss: 0.5369\n",
            "Epoch 222/400\n",
            "\u001b[1m62/62\u001b[0m \u001b[32m━━━━━━━━━━━━━━━━━━━━\u001b[0m\u001b[37m\u001b[0m \u001b[1m0s\u001b[0m 711us/step - accuracy: 0.7480 - loss: 0.5167 - val_accuracy: 0.6585 - val_loss: 0.5378\n",
            "Epoch 223/400\n",
            "\u001b[1m62/62\u001b[0m \u001b[32m━━━━━━━━━━━━━━━━━━━━\u001b[0m\u001b[37m\u001b[0m \u001b[1m0s\u001b[0m 683us/step - accuracy: 0.7001 - loss: 0.5437 - val_accuracy: 0.6585 - val_loss: 0.5371\n",
            "Epoch 224/400\n",
            "\u001b[1m62/62\u001b[0m \u001b[32m━━━━━━━━━━━━━━━━━━━━\u001b[0m\u001b[37m\u001b[0m \u001b[1m0s\u001b[0m 661us/step - accuracy: 0.7299 - loss: 0.5424 - val_accuracy: 0.6667 - val_loss: 0.5368\n",
            "Epoch 225/400\n",
            "\u001b[1m62/62\u001b[0m \u001b[32m━━━━━━━━━━━━━━━━━━━━\u001b[0m\u001b[37m\u001b[0m \u001b[1m0s\u001b[0m 681us/step - accuracy: 0.6825 - loss: 0.5565 - val_accuracy: 0.6585 - val_loss: 0.5375\n",
            "Epoch 226/400\n",
            "\u001b[1m62/62\u001b[0m \u001b[32m━━━━━━━━━━━━━━━━━━━━\u001b[0m\u001b[37m\u001b[0m \u001b[1m0s\u001b[0m 663us/step - accuracy: 0.7334 - loss: 0.5348 - val_accuracy: 0.6667 - val_loss: 0.5365\n",
            "Epoch 227/400\n",
            "\u001b[1m62/62\u001b[0m \u001b[32m━━━━━━━━━━━━━━━━━━━━\u001b[0m\u001b[37m\u001b[0m \u001b[1m0s\u001b[0m 665us/step - accuracy: 0.7025 - loss: 0.5255 - val_accuracy: 0.6667 - val_loss: 0.5365\n",
            "Epoch 228/400\n",
            "\u001b[1m62/62\u001b[0m \u001b[32m━━━━━━━━━━━━━━━━━━━━\u001b[0m\u001b[37m\u001b[0m \u001b[1m0s\u001b[0m 633us/step - accuracy: 0.6993 - loss: 0.5574 - val_accuracy: 0.6667 - val_loss: 0.5360\n",
            "Epoch 229/400\n",
            "\u001b[1m62/62\u001b[0m \u001b[32m━━━━━━━━━━━━━━━━━━━━\u001b[0m\u001b[37m\u001b[0m \u001b[1m0s\u001b[0m 620us/step - accuracy: 0.6904 - loss: 0.5694 - val_accuracy: 0.6667 - val_loss: 0.5356\n",
            "Epoch 230/400\n",
            "\u001b[1m62/62\u001b[0m \u001b[32m━━━━━━━━━━━━━━━━━━━━\u001b[0m\u001b[37m\u001b[0m \u001b[1m0s\u001b[0m 729us/step - accuracy: 0.7036 - loss: 0.5703 - val_accuracy: 0.6667 - val_loss: 0.5358\n",
            "Epoch 231/400\n",
            "\u001b[1m62/62\u001b[0m \u001b[32m━━━━━━━━━━━━━━━━━━━━\u001b[0m\u001b[37m\u001b[0m \u001b[1m0s\u001b[0m 622us/step - accuracy: 0.7387 - loss: 0.5265 - val_accuracy: 0.6667 - val_loss: 0.5361\n",
            "Epoch 232/400\n",
            "\u001b[1m62/62\u001b[0m \u001b[32m━━━━━━━━━━━━━━━━━━━━\u001b[0m\u001b[37m\u001b[0m \u001b[1m0s\u001b[0m 616us/step - accuracy: 0.7274 - loss: 0.5400 - val_accuracy: 0.6667 - val_loss: 0.5357\n",
            "Epoch 233/400\n",
            "\u001b[1m62/62\u001b[0m \u001b[32m━━━━━━━━━━━━━━━━━━━━\u001b[0m\u001b[37m\u001b[0m \u001b[1m0s\u001b[0m 613us/step - accuracy: 0.6713 - loss: 0.5629 - val_accuracy: 0.6667 - val_loss: 0.5359\n",
            "Epoch 234/400\n",
            "\u001b[1m62/62\u001b[0m \u001b[32m━━━━━━━━━━━━━━━━━━━━\u001b[0m\u001b[37m\u001b[0m \u001b[1m0s\u001b[0m 615us/step - accuracy: 0.6761 - loss: 0.5339 - val_accuracy: 0.6667 - val_loss: 0.5355\n",
            "Epoch 235/400\n",
            "\u001b[1m62/62\u001b[0m \u001b[32m━━━━━━━━━━━━━━━━━━━━\u001b[0m\u001b[37m\u001b[0m \u001b[1m0s\u001b[0m 617us/step - accuracy: 0.6990 - loss: 0.5437 - val_accuracy: 0.6667 - val_loss: 0.5352\n",
            "Epoch 236/400\n",
            "\u001b[1m62/62\u001b[0m \u001b[32m━━━━━━━━━━━━━━━━━━━━\u001b[0m\u001b[37m\u001b[0m \u001b[1m0s\u001b[0m 653us/step - accuracy: 0.6838 - loss: 0.5720 - val_accuracy: 0.6829 - val_loss: 0.5344\n",
            "Epoch 237/400\n",
            "\u001b[1m62/62\u001b[0m \u001b[32m━━━━━━━━━━━━━━━━━━━━\u001b[0m\u001b[37m\u001b[0m \u001b[1m0s\u001b[0m 695us/step - accuracy: 0.6743 - loss: 0.5412 - val_accuracy: 0.6748 - val_loss: 0.5348\n",
            "Epoch 238/400\n",
            "\u001b[1m62/62\u001b[0m \u001b[32m━━━━━━━━━━━━━━━━━━━━\u001b[0m\u001b[37m\u001b[0m \u001b[1m0s\u001b[0m 663us/step - accuracy: 0.6731 - loss: 0.5600 - val_accuracy: 0.6667 - val_loss: 0.5351\n",
            "Epoch 239/400\n",
            "\u001b[1m62/62\u001b[0m \u001b[32m━━━━━━━━━━━━━━━━━━━━\u001b[0m\u001b[37m\u001b[0m \u001b[1m0s\u001b[0m 669us/step - accuracy: 0.7053 - loss: 0.5278 - val_accuracy: 0.6667 - val_loss: 0.5351\n",
            "Epoch 240/400\n",
            "\u001b[1m62/62\u001b[0m \u001b[32m━━━━━━━━━━━━━━━━━━━━\u001b[0m\u001b[37m\u001b[0m \u001b[1m0s\u001b[0m 671us/step - accuracy: 0.7229 - loss: 0.5310 - val_accuracy: 0.6667 - val_loss: 0.5349\n",
            "Epoch 241/400\n",
            "\u001b[1m62/62\u001b[0m \u001b[32m━━━━━━━━━━━━━━━━━━━━\u001b[0m\u001b[37m\u001b[0m \u001b[1m0s\u001b[0m 641us/step - accuracy: 0.7072 - loss: 0.5186 - val_accuracy: 0.6748 - val_loss: 0.5348\n",
            "Epoch 242/400\n",
            "\u001b[1m62/62\u001b[0m \u001b[32m━━━━━━━━━━━━━━━━━━━━\u001b[0m\u001b[37m\u001b[0m \u001b[1m0s\u001b[0m 617us/step - accuracy: 0.6746 - loss: 0.5390 - val_accuracy: 0.6829 - val_loss: 0.5339\n",
            "Epoch 243/400\n",
            "\u001b[1m62/62\u001b[0m \u001b[32m━━━━━━━━━━━━━━━━━━━━\u001b[0m\u001b[37m\u001b[0m \u001b[1m0s\u001b[0m 625us/step - accuracy: 0.7157 - loss: 0.5344 - val_accuracy: 0.6829 - val_loss: 0.5341\n",
            "Epoch 244/400\n",
            "\u001b[1m62/62\u001b[0m \u001b[32m━━━━━━━━━━━━━━━━━━━━\u001b[0m\u001b[37m\u001b[0m \u001b[1m0s\u001b[0m 789us/step - accuracy: 0.7146 - loss: 0.5406 - val_accuracy: 0.6829 - val_loss: 0.5341\n",
            "Epoch 245/400\n",
            "\u001b[1m62/62\u001b[0m \u001b[32m━━━━━━━━━━━━━━━━━━━━\u001b[0m\u001b[37m\u001b[0m \u001b[1m0s\u001b[0m 639us/step - accuracy: 0.7476 - loss: 0.5412 - val_accuracy: 0.6911 - val_loss: 0.5335\n",
            "Epoch 246/400\n",
            "\u001b[1m62/62\u001b[0m \u001b[32m━━━━━━━━━━━━━━━━━━━━\u001b[0m\u001b[37m\u001b[0m \u001b[1m0s\u001b[0m 669us/step - accuracy: 0.6884 - loss: 0.5571 - val_accuracy: 0.6911 - val_loss: 0.5334\n",
            "Epoch 247/400\n",
            "\u001b[1m62/62\u001b[0m \u001b[32m━━━━━━━━━━━━━━━━━━━━\u001b[0m\u001b[37m\u001b[0m \u001b[1m0s\u001b[0m 663us/step - accuracy: 0.6845 - loss: 0.5376 - val_accuracy: 0.6911 - val_loss: 0.5338\n",
            "Epoch 248/400\n",
            "\u001b[1m62/62\u001b[0m \u001b[32m━━━━━━━━━━━━━━━━━━━━\u001b[0m\u001b[37m\u001b[0m \u001b[1m0s\u001b[0m 664us/step - accuracy: 0.7029 - loss: 0.5619 - val_accuracy: 0.6911 - val_loss: 0.5340\n",
            "Epoch 249/400\n",
            "\u001b[1m62/62\u001b[0m \u001b[32m━━━━━━━━━━━━━━━━━━━━\u001b[0m\u001b[37m\u001b[0m \u001b[1m0s\u001b[0m 633us/step - accuracy: 0.7220 - loss: 0.5683 - val_accuracy: 0.6911 - val_loss: 0.5343\n",
            "Epoch 250/400\n",
            "\u001b[1m62/62\u001b[0m \u001b[32m━━━━━━━━━━━━━━━━━━━━\u001b[0m\u001b[37m\u001b[0m \u001b[1m0s\u001b[0m 642us/step - accuracy: 0.7098 - loss: 0.5304 - val_accuracy: 0.6667 - val_loss: 0.5350\n",
            "Epoch 251/400\n",
            "\u001b[1m62/62\u001b[0m \u001b[32m━━━━━━━━━━━━━━━━━━━━\u001b[0m\u001b[37m\u001b[0m \u001b[1m0s\u001b[0m 686us/step - accuracy: 0.7091 - loss: 0.5428 - val_accuracy: 0.6911 - val_loss: 0.5341\n",
            "Epoch 252/400\n",
            "\u001b[1m62/62\u001b[0m \u001b[32m━━━━━━━━━━━━━━━━━━━━\u001b[0m\u001b[37m\u001b[0m \u001b[1m0s\u001b[0m 679us/step - accuracy: 0.6880 - loss: 0.5849 - val_accuracy: 0.6829 - val_loss: 0.5342\n",
            "Epoch 253/400\n",
            "\u001b[1m62/62\u001b[0m \u001b[32m━━━━━━━━━━━━━━━━━━━━\u001b[0m\u001b[37m\u001b[0m \u001b[1m0s\u001b[0m 806us/step - accuracy: 0.7281 - loss: 0.5242 - val_accuracy: 0.6911 - val_loss: 0.5335\n",
            "Epoch 254/400\n",
            "\u001b[1m62/62\u001b[0m \u001b[32m━━━━━━━━━━━━━━━━━━━━\u001b[0m\u001b[37m\u001b[0m \u001b[1m0s\u001b[0m 669us/step - accuracy: 0.7136 - loss: 0.5648 - val_accuracy: 0.6911 - val_loss: 0.5336\n",
            "Epoch 255/400\n",
            "\u001b[1m62/62\u001b[0m \u001b[32m━━━━━━━━━━━━━━━━━━━━\u001b[0m\u001b[37m\u001b[0m \u001b[1m0s\u001b[0m 688us/step - accuracy: 0.7171 - loss: 0.5604 - val_accuracy: 0.6911 - val_loss: 0.5337\n",
            "Epoch 256/400\n",
            "\u001b[1m62/62\u001b[0m \u001b[32m━━━━━━━━━━━━━━━━━━━━\u001b[0m\u001b[37m\u001b[0m \u001b[1m0s\u001b[0m 684us/step - accuracy: 0.6753 - loss: 0.5632 - val_accuracy: 0.6992 - val_loss: 0.5330\n",
            "Epoch 257/400\n",
            "\u001b[1m62/62\u001b[0m \u001b[32m━━━━━━━━━━━━━━━━━━━━\u001b[0m\u001b[37m\u001b[0m \u001b[1m0s\u001b[0m 668us/step - accuracy: 0.7286 - loss: 0.5393 - val_accuracy: 0.6911 - val_loss: 0.5341\n",
            "Epoch 258/400\n",
            "\u001b[1m62/62\u001b[0m \u001b[32m━━━━━━━━━━━━━━━━━━━━\u001b[0m\u001b[37m\u001b[0m \u001b[1m0s\u001b[0m 650us/step - accuracy: 0.7007 - loss: 0.5734 - val_accuracy: 0.6667 - val_loss: 0.5347\n",
            "Epoch 259/400\n",
            "\u001b[1m62/62\u001b[0m \u001b[32m━━━━━━━━━━━━━━━━━━━━\u001b[0m\u001b[37m\u001b[0m \u001b[1m0s\u001b[0m 706us/step - accuracy: 0.7197 - loss: 0.5363 - val_accuracy: 0.6911 - val_loss: 0.5342\n",
            "Epoch 260/400\n",
            "\u001b[1m62/62\u001b[0m \u001b[32m━━━━━━━━━━━━━━━━━━━━\u001b[0m\u001b[37m\u001b[0m \u001b[1m0s\u001b[0m 673us/step - accuracy: 0.6442 - loss: 0.6056 - val_accuracy: 0.6911 - val_loss: 0.5331\n",
            "Epoch 261/400\n",
            "\u001b[1m62/62\u001b[0m \u001b[32m━━━━━━━━━━━━━━━━━━━━\u001b[0m\u001b[37m\u001b[0m \u001b[1m0s\u001b[0m 677us/step - accuracy: 0.7346 - loss: 0.5346 - val_accuracy: 0.6829 - val_loss: 0.5344\n",
            "Epoch 262/400\n",
            "\u001b[1m62/62\u001b[0m \u001b[32m━━━━━━━━━━━━━━━━━━━━\u001b[0m\u001b[37m\u001b[0m \u001b[1m0s\u001b[0m 778us/step - accuracy: 0.6919 - loss: 0.5453 - val_accuracy: 0.6911 - val_loss: 0.5333\n",
            "Epoch 263/400\n",
            "\u001b[1m62/62\u001b[0m \u001b[32m━━━━━━━━━━━━━━━━━━━━\u001b[0m\u001b[37m\u001b[0m \u001b[1m0s\u001b[0m 679us/step - accuracy: 0.6689 - loss: 0.5547 - val_accuracy: 0.7073 - val_loss: 0.5325\n",
            "Epoch 264/400\n",
            "\u001b[1m62/62\u001b[0m \u001b[32m━━━━━━━━━━━━━━━━━━━━\u001b[0m\u001b[37m\u001b[0m \u001b[1m0s\u001b[0m 668us/step - accuracy: 0.7160 - loss: 0.5447 - val_accuracy: 0.7073 - val_loss: 0.5328\n",
            "Epoch 265/400\n",
            "\u001b[1m62/62\u001b[0m \u001b[32m━━━━━━━━━━━━━━━━━━━━\u001b[0m\u001b[37m\u001b[0m \u001b[1m0s\u001b[0m 664us/step - accuracy: 0.7486 - loss: 0.5256 - val_accuracy: 0.7073 - val_loss: 0.5328\n",
            "Epoch 266/400\n",
            "\u001b[1m62/62\u001b[0m \u001b[32m━━━━━━━━━━━━━━━━━━━━\u001b[0m\u001b[37m\u001b[0m \u001b[1m0s\u001b[0m 662us/step - accuracy: 0.7280 - loss: 0.5245 - val_accuracy: 0.6911 - val_loss: 0.5332\n",
            "Epoch 267/400\n",
            "\u001b[1m62/62\u001b[0m \u001b[32m━━━━━━━━━━━━━━━━━━━━\u001b[0m\u001b[37m\u001b[0m \u001b[1m0s\u001b[0m 664us/step - accuracy: 0.6836 - loss: 0.5585 - val_accuracy: 0.6911 - val_loss: 0.5331\n",
            "Epoch 268/400\n",
            "\u001b[1m62/62\u001b[0m \u001b[32m━━━━━━━━━━━━━━━━━━━━\u001b[0m\u001b[37m\u001b[0m \u001b[1m0s\u001b[0m 661us/step - accuracy: 0.6960 - loss: 0.5515 - val_accuracy: 0.6992 - val_loss: 0.5341\n",
            "Epoch 269/400\n",
            "\u001b[1m62/62\u001b[0m \u001b[32m━━━━━━━━━━━━━━━━━━━━\u001b[0m\u001b[37m\u001b[0m \u001b[1m0s\u001b[0m 697us/step - accuracy: 0.6881 - loss: 0.5404 - val_accuracy: 0.6911 - val_loss: 0.5334\n",
            "Epoch 270/400\n",
            "\u001b[1m62/62\u001b[0m \u001b[32m━━━━━━━━━━━━━━━━━━━━\u001b[0m\u001b[37m\u001b[0m \u001b[1m0s\u001b[0m 682us/step - accuracy: 0.6800 - loss: 0.5430 - val_accuracy: 0.6911 - val_loss: 0.5332\n",
            "Epoch 271/400\n",
            "\u001b[1m62/62\u001b[0m \u001b[32m━━━━━━━━━━━━━━━━━━━━\u001b[0m\u001b[37m\u001b[0m \u001b[1m0s\u001b[0m 633us/step - accuracy: 0.7457 - loss: 0.5057 - val_accuracy: 0.7073 - val_loss: 0.5330\n",
            "Epoch 272/400\n",
            "\u001b[1m62/62\u001b[0m \u001b[32m━━━━━━━━━━━━━━━━━━━━\u001b[0m\u001b[37m\u001b[0m \u001b[1m0s\u001b[0m 609us/step - accuracy: 0.7271 - loss: 0.5492 - val_accuracy: 0.7073 - val_loss: 0.5326\n",
            "Epoch 273/400\n",
            "\u001b[1m62/62\u001b[0m \u001b[32m━━━━━━━━━━━━━━━━━━━━\u001b[0m\u001b[37m\u001b[0m \u001b[1m0s\u001b[0m 620us/step - accuracy: 0.7111 - loss: 0.5752 - val_accuracy: 0.6992 - val_loss: 0.5336\n",
            "Epoch 274/400\n",
            "\u001b[1m62/62\u001b[0m \u001b[32m━━━━━━━━━━━━━━━━━━━━\u001b[0m\u001b[37m\u001b[0m \u001b[1m0s\u001b[0m 618us/step - accuracy: 0.7674 - loss: 0.5186 - val_accuracy: 0.7073 - val_loss: 0.5333\n",
            "Epoch 275/400\n",
            "\u001b[1m62/62\u001b[0m \u001b[32m━━━━━━━━━━━━━━━━━━━━\u001b[0m\u001b[37m\u001b[0m \u001b[1m0s\u001b[0m 627us/step - accuracy: 0.7332 - loss: 0.5263 - val_accuracy: 0.7073 - val_loss: 0.5323\n",
            "Epoch 276/400\n",
            "\u001b[1m62/62\u001b[0m \u001b[32m━━━━━━━━━━━━━━━━━━━━\u001b[0m\u001b[37m\u001b[0m \u001b[1m0s\u001b[0m 748us/step - accuracy: 0.7246 - loss: 0.5448 - val_accuracy: 0.7073 - val_loss: 0.5329\n",
            "Epoch 277/400\n",
            "\u001b[1m62/62\u001b[0m \u001b[32m━━━━━━━━━━━━━━━━━━━━\u001b[0m\u001b[37m\u001b[0m \u001b[1m0s\u001b[0m 614us/step - accuracy: 0.7205 - loss: 0.5619 - val_accuracy: 0.7073 - val_loss: 0.5325\n",
            "Epoch 278/400\n",
            "\u001b[1m62/62\u001b[0m \u001b[32m━━━━━━━━━━━━━━━━━━━━\u001b[0m\u001b[37m\u001b[0m \u001b[1m0s\u001b[0m 613us/step - accuracy: 0.7117 - loss: 0.5372 - val_accuracy: 0.7073 - val_loss: 0.5321\n",
            "Epoch 279/400\n",
            "\u001b[1m62/62\u001b[0m \u001b[32m━━━━━━━━━━━━━━━━━━━━\u001b[0m\u001b[37m\u001b[0m \u001b[1m0s\u001b[0m 602us/step - accuracy: 0.7110 - loss: 0.5295 - val_accuracy: 0.7073 - val_loss: 0.5312\n",
            "Epoch 280/400\n",
            "\u001b[1m62/62\u001b[0m \u001b[32m━━━━━━━━━━━━━━━━━━━━\u001b[0m\u001b[37m\u001b[0m \u001b[1m0s\u001b[0m 605us/step - accuracy: 0.7075 - loss: 0.5430 - val_accuracy: 0.7073 - val_loss: 0.5315\n",
            "Epoch 281/400\n",
            "\u001b[1m62/62\u001b[0m \u001b[32m━━━━━━━━━━━━━━━━━━━━\u001b[0m\u001b[37m\u001b[0m \u001b[1m0s\u001b[0m 615us/step - accuracy: 0.7201 - loss: 0.5363 - val_accuracy: 0.7073 - val_loss: 0.5316\n",
            "Epoch 282/400\n",
            "\u001b[1m62/62\u001b[0m \u001b[32m━━━━━━━━━━━━━━━━━━━━\u001b[0m\u001b[37m\u001b[0m \u001b[1m0s\u001b[0m 613us/step - accuracy: 0.7191 - loss: 0.5350 - val_accuracy: 0.7154 - val_loss: 0.5323\n",
            "Epoch 283/400\n",
            "\u001b[1m62/62\u001b[0m \u001b[32m━━━━━━━━━━━━━━━━━━━━\u001b[0m\u001b[37m\u001b[0m \u001b[1m0s\u001b[0m 633us/step - accuracy: 0.7111 - loss: 0.5684 - val_accuracy: 0.7073 - val_loss: 0.5319\n",
            "Epoch 284/400\n",
            "\u001b[1m62/62\u001b[0m \u001b[32m━━━━━━━━━━━━━━━━━━━━\u001b[0m\u001b[37m\u001b[0m \u001b[1m0s\u001b[0m 653us/step - accuracy: 0.6513 - loss: 0.5864 - val_accuracy: 0.7073 - val_loss: 0.5321\n",
            "Epoch 285/400\n",
            "\u001b[1m62/62\u001b[0m \u001b[32m━━━━━━━━━━━━━━━━━━━━\u001b[0m\u001b[37m\u001b[0m \u001b[1m0s\u001b[0m 669us/step - accuracy: 0.6991 - loss: 0.5530 - val_accuracy: 0.7154 - val_loss: 0.5324\n",
            "Epoch 286/400\n",
            "\u001b[1m62/62\u001b[0m \u001b[32m━━━━━━━━━━━━━━━━━━━━\u001b[0m\u001b[37m\u001b[0m \u001b[1m0s\u001b[0m 665us/step - accuracy: 0.7177 - loss: 0.5386 - val_accuracy: 0.7154 - val_loss: 0.5327\n",
            "Epoch 287/400\n",
            "\u001b[1m62/62\u001b[0m \u001b[32m━━━━━━━━━━━━━━━━━━━━\u001b[0m\u001b[37m\u001b[0m \u001b[1m0s\u001b[0m 665us/step - accuracy: 0.6895 - loss: 0.5525 - val_accuracy: 0.7154 - val_loss: 0.5322\n",
            "Epoch 288/400\n",
            "\u001b[1m62/62\u001b[0m \u001b[32m━━━━━━━━━━━━━━━━━━━━\u001b[0m\u001b[37m\u001b[0m \u001b[1m0s\u001b[0m 661us/step - accuracy: 0.6990 - loss: 0.5581 - val_accuracy: 0.7154 - val_loss: 0.5321\n",
            "Epoch 289/400\n",
            "\u001b[1m62/62\u001b[0m \u001b[32m━━━━━━━━━━━━━━━━━━━━\u001b[0m\u001b[37m\u001b[0m \u001b[1m0s\u001b[0m 638us/step - accuracy: 0.7138 - loss: 0.5547 - val_accuracy: 0.7073 - val_loss: 0.5317\n",
            "Epoch 290/400\n",
            "\u001b[1m62/62\u001b[0m \u001b[32m━━━━━━━━━━━━━━━━━━━━\u001b[0m\u001b[37m\u001b[0m \u001b[1m0s\u001b[0m 641us/step - accuracy: 0.7303 - loss: 0.5161 - val_accuracy: 0.7154 - val_loss: 0.5317\n",
            "Epoch 291/400\n",
            "\u001b[1m62/62\u001b[0m \u001b[32m━━━━━━━━━━━━━━━━━━━━\u001b[0m\u001b[37m\u001b[0m \u001b[1m0s\u001b[0m 637us/step - accuracy: 0.7117 - loss: 0.5492 - val_accuracy: 0.7154 - val_loss: 0.5322\n",
            "Epoch 292/400\n",
            "\u001b[1m62/62\u001b[0m \u001b[32m━━━━━━━━━━━━━━━━━━━━\u001b[0m\u001b[37m\u001b[0m \u001b[1m0s\u001b[0m 792us/step - accuracy: 0.6753 - loss: 0.5912 - val_accuracy: 0.7154 - val_loss: 0.5323\n",
            "Epoch 293/400\n",
            "\u001b[1m62/62\u001b[0m \u001b[32m━━━━━━━━━━━━━━━━━━━━\u001b[0m\u001b[37m\u001b[0m \u001b[1m0s\u001b[0m 660us/step - accuracy: 0.7233 - loss: 0.5409 - val_accuracy: 0.7154 - val_loss: 0.5328\n",
            "Epoch 294/400\n",
            "\u001b[1m62/62\u001b[0m \u001b[32m━━━━━━━━━━━━━━━━━━━━\u001b[0m\u001b[37m\u001b[0m \u001b[1m0s\u001b[0m 650us/step - accuracy: 0.7131 - loss: 0.5450 - val_accuracy: 0.7154 - val_loss: 0.5319\n",
            "Epoch 295/400\n",
            "\u001b[1m62/62\u001b[0m \u001b[32m━━━━━━━━━━━━━━━━━━━━\u001b[0m\u001b[37m\u001b[0m \u001b[1m0s\u001b[0m 645us/step - accuracy: 0.6919 - loss: 0.5301 - val_accuracy: 0.7154 - val_loss: 0.5317\n",
            "Epoch 296/400\n",
            "\u001b[1m62/62\u001b[0m \u001b[32m━━━━━━━━━━━━━━━━━━━━\u001b[0m\u001b[37m\u001b[0m \u001b[1m0s\u001b[0m 643us/step - accuracy: 0.6986 - loss: 0.5944 - val_accuracy: 0.7073 - val_loss: 0.5316\n",
            "Epoch 297/400\n",
            "\u001b[1m62/62\u001b[0m \u001b[32m━━━━━━━━━━━━━━━━━━━━\u001b[0m\u001b[37m\u001b[0m \u001b[1m0s\u001b[0m 642us/step - accuracy: 0.6859 - loss: 0.5701 - val_accuracy: 0.7154 - val_loss: 0.5316\n",
            "Epoch 298/400\n",
            "\u001b[1m62/62\u001b[0m \u001b[32m━━━━━━━━━━━━━━━━━━━━\u001b[0m\u001b[37m\u001b[0m \u001b[1m0s\u001b[0m 641us/step - accuracy: 0.6986 - loss: 0.5482 - val_accuracy: 0.7154 - val_loss: 0.5318\n",
            "Epoch 299/400\n",
            "\u001b[1m62/62\u001b[0m \u001b[32m━━━━━━━━━━━━━━━━━━━━\u001b[0m\u001b[37m\u001b[0m \u001b[1m0s\u001b[0m 632us/step - accuracy: 0.7355 - loss: 0.5346 - val_accuracy: 0.7154 - val_loss: 0.5321\n",
            "Epoch 300/400\n",
            "\u001b[1m62/62\u001b[0m \u001b[32m━━━━━━━━━━━━━━━━━━━━\u001b[0m\u001b[37m\u001b[0m \u001b[1m0s\u001b[0m 651us/step - accuracy: 0.6847 - loss: 0.5548 - val_accuracy: 0.7154 - val_loss: 0.5325\n",
            "Epoch 301/400\n",
            "\u001b[1m62/62\u001b[0m \u001b[32m━━━━━━━━━━━━━━━━━━━━\u001b[0m\u001b[37m\u001b[0m \u001b[1m0s\u001b[0m 644us/step - accuracy: 0.7282 - loss: 0.5445 - val_accuracy: 0.7154 - val_loss: 0.5318\n",
            "Epoch 302/400\n",
            "\u001b[1m62/62\u001b[0m \u001b[32m━━━━━━━━━━━━━━━━━━━━\u001b[0m\u001b[37m\u001b[0m \u001b[1m0s\u001b[0m 648us/step - accuracy: 0.7107 - loss: 0.5608 - val_accuracy: 0.7073 - val_loss: 0.5314\n",
            "Epoch 303/400\n",
            "\u001b[1m62/62\u001b[0m \u001b[32m━━━━━━━━━━━━━━━━━━━━\u001b[0m\u001b[37m\u001b[0m \u001b[1m0s\u001b[0m 651us/step - accuracy: 0.6964 - loss: 0.5247 - val_accuracy: 0.7154 - val_loss: 0.5318\n",
            "Epoch 304/400\n",
            "\u001b[1m62/62\u001b[0m \u001b[32m━━━━━━━━━━━━━━━━━━━━\u001b[0m\u001b[37m\u001b[0m \u001b[1m0s\u001b[0m 660us/step - accuracy: 0.7274 - loss: 0.5297 - val_accuracy: 0.7154 - val_loss: 0.5314\n",
            "Epoch 305/400\n",
            "\u001b[1m62/62\u001b[0m \u001b[32m━━━━━━━━━━━━━━━━━━━━\u001b[0m\u001b[37m\u001b[0m \u001b[1m0s\u001b[0m 639us/step - accuracy: 0.7184 - loss: 0.5487 - val_accuracy: 0.7154 - val_loss: 0.5322\n",
            "Epoch 306/400\n",
            "\u001b[1m62/62\u001b[0m \u001b[32m━━━━━━━━━━━━━━━━━━━━\u001b[0m\u001b[37m\u001b[0m \u001b[1m0s\u001b[0m 627us/step - accuracy: 0.7241 - loss: 0.5271 - val_accuracy: 0.7154 - val_loss: 0.5317\n",
            "Epoch 307/400\n",
            "\u001b[1m62/62\u001b[0m \u001b[32m━━━━━━━━━━━━━━━━━━━━\u001b[0m\u001b[37m\u001b[0m \u001b[1m0s\u001b[0m 759us/step - accuracy: 0.6900 - loss: 0.5098 - val_accuracy: 0.7154 - val_loss: 0.5323\n",
            "Epoch 308/400\n",
            "\u001b[1m62/62\u001b[0m \u001b[32m━━━━━━━━━━━━━━━━━━━━\u001b[0m\u001b[37m\u001b[0m \u001b[1m0s\u001b[0m 639us/step - accuracy: 0.7669 - loss: 0.5135 - val_accuracy: 0.7154 - val_loss: 0.5318\n",
            "Epoch 309/400\n",
            "\u001b[1m62/62\u001b[0m \u001b[32m━━━━━━━━━━━━━━━━━━━━\u001b[0m\u001b[37m\u001b[0m \u001b[1m0s\u001b[0m 640us/step - accuracy: 0.7223 - loss: 0.5127 - val_accuracy: 0.7154 - val_loss: 0.5318\n",
            "Epoch 310/400\n",
            "\u001b[1m62/62\u001b[0m \u001b[32m━━━━━━━━━━━━━━━━━━━━\u001b[0m\u001b[37m\u001b[0m \u001b[1m0s\u001b[0m 649us/step - accuracy: 0.6882 - loss: 0.5585 - val_accuracy: 0.7154 - val_loss: 0.5313\n",
            "Epoch 311/400\n",
            "\u001b[1m62/62\u001b[0m \u001b[32m━━━━━━━━━━━━━━━━━━━━\u001b[0m\u001b[37m\u001b[0m \u001b[1m0s\u001b[0m 640us/step - accuracy: 0.7147 - loss: 0.5355 - val_accuracy: 0.7154 - val_loss: 0.5325\n",
            "Epoch 312/400\n",
            "\u001b[1m62/62\u001b[0m \u001b[32m━━━━━━━━━━━━━━━━━━━━\u001b[0m\u001b[37m\u001b[0m \u001b[1m0s\u001b[0m 643us/step - accuracy: 0.6760 - loss: 0.5291 - val_accuracy: 0.7154 - val_loss: 0.5329\n",
            "Epoch 313/400\n",
            "\u001b[1m62/62\u001b[0m \u001b[32m━━━━━━━━━━━━━━━━━━━━\u001b[0m\u001b[37m\u001b[0m \u001b[1m0s\u001b[0m 632us/step - accuracy: 0.7611 - loss: 0.4991 - val_accuracy: 0.7154 - val_loss: 0.5330\n",
            "Epoch 314/400\n",
            "\u001b[1m62/62\u001b[0m \u001b[32m━━━━━━━━━━━━━━━━━━━━\u001b[0m\u001b[37m\u001b[0m \u001b[1m0s\u001b[0m 656us/step - accuracy: 0.7054 - loss: 0.5414 - val_accuracy: 0.7154 - val_loss: 0.5321\n",
            "Epoch 315/400\n",
            "\u001b[1m62/62\u001b[0m \u001b[32m━━━━━━━━━━━━━━━━━━━━\u001b[0m\u001b[37m\u001b[0m \u001b[1m0s\u001b[0m 665us/step - accuracy: 0.7458 - loss: 0.5232 - val_accuracy: 0.7154 - val_loss: 0.5311\n",
            "Epoch 316/400\n",
            "\u001b[1m62/62\u001b[0m \u001b[32m━━━━━━━━━━━━━━━━━━━━\u001b[0m\u001b[37m\u001b[0m \u001b[1m0s\u001b[0m 649us/step - accuracy: 0.7421 - loss: 0.5253 - val_accuracy: 0.7154 - val_loss: 0.5317\n",
            "Epoch 317/400\n",
            "\u001b[1m62/62\u001b[0m \u001b[32m━━━━━━━━━━━━━━━━━━━━\u001b[0m\u001b[37m\u001b[0m \u001b[1m0s\u001b[0m 636us/step - accuracy: 0.7144 - loss: 0.5538 - val_accuracy: 0.7154 - val_loss: 0.5311\n",
            "Epoch 318/400\n",
            "\u001b[1m62/62\u001b[0m \u001b[32m━━━━━━━━━━━━━━━━━━━━\u001b[0m\u001b[37m\u001b[0m \u001b[1m0s\u001b[0m 638us/step - accuracy: 0.6808 - loss: 0.5695 - val_accuracy: 0.7154 - val_loss: 0.5332\n",
            "Epoch 319/400\n",
            "\u001b[1m62/62\u001b[0m \u001b[32m━━━━━━━━━━━━━━━━━━━━\u001b[0m\u001b[37m\u001b[0m \u001b[1m0s\u001b[0m 637us/step - accuracy: 0.7372 - loss: 0.5181 - val_accuracy: 0.7154 - val_loss: 0.5324\n",
            "Epoch 320/400\n",
            "\u001b[1m62/62\u001b[0m \u001b[32m━━━━━━━━━━━━━━━━━━━━\u001b[0m\u001b[37m\u001b[0m \u001b[1m0s\u001b[0m 640us/step - accuracy: 0.7241 - loss: 0.5405 - val_accuracy: 0.7154 - val_loss: 0.5313\n",
            "Epoch 321/400\n",
            "\u001b[1m62/62\u001b[0m \u001b[32m━━━━━━━━━━━━━━━━━━━━\u001b[0m\u001b[37m\u001b[0m \u001b[1m0s\u001b[0m 619us/step - accuracy: 0.7020 - loss: 0.5726 - val_accuracy: 0.7154 - val_loss: 0.5319\n",
            "Epoch 322/400\n",
            "\u001b[1m62/62\u001b[0m \u001b[32m━━━━━━━━━━━━━━━━━━━━\u001b[0m\u001b[37m\u001b[0m \u001b[1m0s\u001b[0m 720us/step - accuracy: 0.6979 - loss: 0.5646 - val_accuracy: 0.7154 - val_loss: 0.5320\n",
            "Epoch 323/400\n",
            "\u001b[1m62/62\u001b[0m \u001b[32m━━━━━━━━━━━━━━━━━━━━\u001b[0m\u001b[37m\u001b[0m \u001b[1m0s\u001b[0m 639us/step - accuracy: 0.7066 - loss: 0.5777 - val_accuracy: 0.7154 - val_loss: 0.5317\n",
            "Epoch 324/400\n",
            "\u001b[1m62/62\u001b[0m \u001b[32m━━━━━━━━━━━━━━━━━━━━\u001b[0m\u001b[37m\u001b[0m \u001b[1m0s\u001b[0m 644us/step - accuracy: 0.6897 - loss: 0.5417 - val_accuracy: 0.7154 - val_loss: 0.5319\n",
            "Epoch 325/400\n",
            "\u001b[1m62/62\u001b[0m \u001b[32m━━━━━━━━━━━━━━━━━━━━\u001b[0m\u001b[37m\u001b[0m \u001b[1m0s\u001b[0m 639us/step - accuracy: 0.7361 - loss: 0.5404 - val_accuracy: 0.7154 - val_loss: 0.5318\n",
            "Epoch 326/400\n",
            "\u001b[1m62/62\u001b[0m \u001b[32m━━━━━━━━━━━━━━━━━━━━\u001b[0m\u001b[37m\u001b[0m \u001b[1m0s\u001b[0m 655us/step - accuracy: 0.7073 - loss: 0.5495 - val_accuracy: 0.7154 - val_loss: 0.5330\n",
            "Epoch 327/400\n",
            "\u001b[1m62/62\u001b[0m \u001b[32m━━━━━━━━━━━━━━━━━━━━\u001b[0m\u001b[37m\u001b[0m \u001b[1m0s\u001b[0m 643us/step - accuracy: 0.7271 - loss: 0.5233 - val_accuracy: 0.7236 - val_loss: 0.5313\n",
            "Epoch 328/400\n",
            "\u001b[1m62/62\u001b[0m \u001b[32m━━━━━━━━━━━━━━━━━━━━\u001b[0m\u001b[37m\u001b[0m \u001b[1m0s\u001b[0m 656us/step - accuracy: 0.6832 - loss: 0.5483 - val_accuracy: 0.7154 - val_loss: 0.5317\n",
            "Epoch 329/400\n",
            "\u001b[1m62/62\u001b[0m \u001b[32m━━━━━━━━━━━━━━━━━━━━\u001b[0m\u001b[37m\u001b[0m \u001b[1m0s\u001b[0m 657us/step - accuracy: 0.7148 - loss: 0.5383 - val_accuracy: 0.7154 - val_loss: 0.5323\n",
            "Epoch 330/400\n",
            "\u001b[1m62/62\u001b[0m \u001b[32m━━━━━━━━━━━━━━━━━━━━\u001b[0m\u001b[37m\u001b[0m \u001b[1m0s\u001b[0m 634us/step - accuracy: 0.7414 - loss: 0.5538 - val_accuracy: 0.7154 - val_loss: 0.5325\n",
            "Epoch 331/400\n",
            "\u001b[1m62/62\u001b[0m \u001b[32m━━━━━━━━━━━━━━━━━━━━\u001b[0m\u001b[37m\u001b[0m \u001b[1m0s\u001b[0m 653us/step - accuracy: 0.7320 - loss: 0.4856 - val_accuracy: 0.7154 - val_loss: 0.5328\n",
            "Epoch 332/400\n",
            "\u001b[1m62/62\u001b[0m \u001b[32m━━━━━━━━━━━━━━━━━━━━\u001b[0m\u001b[37m\u001b[0m \u001b[1m0s\u001b[0m 651us/step - accuracy: 0.7347 - loss: 0.5267 - val_accuracy: 0.7236 - val_loss: 0.5318\n",
            "Epoch 333/400\n",
            "\u001b[1m62/62\u001b[0m \u001b[32m━━━━━━━━━━━━━━━━━━━━\u001b[0m\u001b[37m\u001b[0m \u001b[1m0s\u001b[0m 655us/step - accuracy: 0.7028 - loss: 0.5552 - val_accuracy: 0.7236 - val_loss: 0.5321\n",
            "Epoch 334/400\n",
            "\u001b[1m62/62\u001b[0m \u001b[32m━━━━━━━━━━━━━━━━━━━━\u001b[0m\u001b[37m\u001b[0m \u001b[1m0s\u001b[0m 632us/step - accuracy: 0.7202 - loss: 0.5348 - val_accuracy: 0.7317 - val_loss: 0.5314\n",
            "Epoch 335/400\n",
            "\u001b[1m62/62\u001b[0m \u001b[32m━━━━━━━━━━━━━━━━━━━━\u001b[0m\u001b[37m\u001b[0m \u001b[1m0s\u001b[0m 626us/step - accuracy: 0.7029 - loss: 0.5467 - val_accuracy: 0.7317 - val_loss: 0.5314\n",
            "Epoch 336/400\n",
            "\u001b[1m62/62\u001b[0m \u001b[32m━━━━━━━━━━━━━━━━━━━━\u001b[0m\u001b[37m\u001b[0m \u001b[1m0s\u001b[0m 760us/step - accuracy: 0.6875 - loss: 0.5856 - val_accuracy: 0.7317 - val_loss: 0.5317\n",
            "Epoch 337/400\n",
            "\u001b[1m62/62\u001b[0m \u001b[32m━━━━━━━━━━━━━━━━━━━━\u001b[0m\u001b[37m\u001b[0m \u001b[1m0s\u001b[0m 631us/step - accuracy: 0.7619 - loss: 0.5082 - val_accuracy: 0.7317 - val_loss: 0.5315\n",
            "Epoch 338/400\n",
            "\u001b[1m62/62\u001b[0m \u001b[32m━━━━━━━━━━━━━━━━━━━━\u001b[0m\u001b[37m\u001b[0m \u001b[1m0s\u001b[0m 633us/step - accuracy: 0.7683 - loss: 0.4962 - val_accuracy: 0.7236 - val_loss: 0.5320\n",
            "Epoch 339/400\n",
            "\u001b[1m62/62\u001b[0m \u001b[32m━━━━━━━━━━━━━━━━━━━━\u001b[0m\u001b[37m\u001b[0m \u001b[1m0s\u001b[0m 645us/step - accuracy: 0.7323 - loss: 0.5211 - val_accuracy: 0.7317 - val_loss: 0.5319\n",
            "Epoch 340/400\n",
            "\u001b[1m62/62\u001b[0m \u001b[32m━━━━━━━━━━━━━━━━━━━━\u001b[0m\u001b[37m\u001b[0m \u001b[1m0s\u001b[0m 637us/step - accuracy: 0.7172 - loss: 0.5306 - val_accuracy: 0.7317 - val_loss: 0.5311\n",
            "Epoch 341/400\n",
            "\u001b[1m62/62\u001b[0m \u001b[32m━━━━━━━━━━━━━━━━━━━━\u001b[0m\u001b[37m\u001b[0m \u001b[1m0s\u001b[0m 636us/step - accuracy: 0.7025 - loss: 0.5374 - val_accuracy: 0.7317 - val_loss: 0.5311\n",
            "Epoch 342/400\n",
            "\u001b[1m62/62\u001b[0m \u001b[32m━━━━━━━━━━━━━━━━━━━━\u001b[0m\u001b[37m\u001b[0m \u001b[1m0s\u001b[0m 644us/step - accuracy: 0.7245 - loss: 0.5480 - val_accuracy: 0.7317 - val_loss: 0.5322\n",
            "Epoch 343/400\n",
            "\u001b[1m62/62\u001b[0m \u001b[32m━━━━━━━━━━━━━━━━━━━━\u001b[0m\u001b[37m\u001b[0m \u001b[1m0s\u001b[0m 650us/step - accuracy: 0.7274 - loss: 0.5393 - val_accuracy: 0.7317 - val_loss: 0.5319\n",
            "Epoch 344/400\n",
            "\u001b[1m62/62\u001b[0m \u001b[32m━━━━━━━━━━━━━━━━━━━━\u001b[0m\u001b[37m\u001b[0m \u001b[1m0s\u001b[0m 642us/step - accuracy: 0.7426 - loss: 0.4882 - val_accuracy: 0.7317 - val_loss: 0.5321\n",
            "Epoch 345/400\n",
            "\u001b[1m62/62\u001b[0m \u001b[32m━━━━━━━━━━━━━━━━━━━━\u001b[0m\u001b[37m\u001b[0m \u001b[1m0s\u001b[0m 641us/step - accuracy: 0.7241 - loss: 0.5456 - val_accuracy: 0.7317 - val_loss: 0.5323\n",
            "Epoch 346/400\n",
            "\u001b[1m62/62\u001b[0m \u001b[32m━━━━━━━━━━━━━━━━━━━━\u001b[0m\u001b[37m\u001b[0m \u001b[1m0s\u001b[0m 632us/step - accuracy: 0.7017 - loss: 0.5326 - val_accuracy: 0.7317 - val_loss: 0.5317\n",
            "Epoch 347/400\n",
            "\u001b[1m62/62\u001b[0m \u001b[32m━━━━━━━━━━━━━━━━━━━━\u001b[0m\u001b[37m\u001b[0m \u001b[1m0s\u001b[0m 630us/step - accuracy: 0.7025 - loss: 0.5734 - val_accuracy: 0.7317 - val_loss: 0.5316\n",
            "Epoch 348/400\n",
            "\u001b[1m62/62\u001b[0m \u001b[32m━━━━━━━━━━━━━━━━━━━━\u001b[0m\u001b[37m\u001b[0m \u001b[1m0s\u001b[0m 700us/step - accuracy: 0.6777 - loss: 0.5523 - val_accuracy: 0.7317 - val_loss: 0.5313\n",
            "Epoch 349/400\n",
            "\u001b[1m62/62\u001b[0m \u001b[32m━━━━━━━━━━━━━━━━━━━━\u001b[0m\u001b[37m\u001b[0m \u001b[1m0s\u001b[0m 630us/step - accuracy: 0.7199 - loss: 0.5367 - val_accuracy: 0.7317 - val_loss: 0.5312\n",
            "Epoch 350/400\n",
            "\u001b[1m62/62\u001b[0m \u001b[32m━━━━━━━━━━━━━━━━━━━━\u001b[0m\u001b[37m\u001b[0m \u001b[1m0s\u001b[0m 761us/step - accuracy: 0.7217 - loss: 0.5332 - val_accuracy: 0.7317 - val_loss: 0.5321\n",
            "Epoch 351/400\n",
            "\u001b[1m62/62\u001b[0m \u001b[32m━━━━━━━━━━━━━━━━━━━━\u001b[0m\u001b[37m\u001b[0m \u001b[1m0s\u001b[0m 638us/step - accuracy: 0.7474 - loss: 0.5020 - val_accuracy: 0.7398 - val_loss: 0.5326\n",
            "Epoch 352/400\n",
            "\u001b[1m62/62\u001b[0m \u001b[32m━━━━━━━━━━━━━━━━━━━━\u001b[0m\u001b[37m\u001b[0m \u001b[1m0s\u001b[0m 640us/step - accuracy: 0.6633 - loss: 0.5653 - val_accuracy: 0.7317 - val_loss: 0.5314\n",
            "Epoch 353/400\n",
            "\u001b[1m62/62\u001b[0m \u001b[32m━━━━━━━━━━━━━━━━━━━━\u001b[0m\u001b[37m\u001b[0m \u001b[1m0s\u001b[0m 640us/step - accuracy: 0.7275 - loss: 0.5227 - val_accuracy: 0.7317 - val_loss: 0.5316\n",
            "Epoch 354/400\n",
            "\u001b[1m62/62\u001b[0m \u001b[32m━━━━━━━━━━━━━━━━━━━━\u001b[0m\u001b[37m\u001b[0m \u001b[1m0s\u001b[0m 644us/step - accuracy: 0.7238 - loss: 0.5493 - val_accuracy: 0.7317 - val_loss: 0.5316\n",
            "Epoch 355/400\n",
            "\u001b[1m62/62\u001b[0m \u001b[32m━━━━━━━━━━━━━━━━━━━━\u001b[0m\u001b[37m\u001b[0m \u001b[1m0s\u001b[0m 644us/step - accuracy: 0.6942 - loss: 0.5475 - val_accuracy: 0.7317 - val_loss: 0.5317\n",
            "Epoch 356/400\n",
            "\u001b[1m62/62\u001b[0m \u001b[32m━━━━━━━━━━━━━━━━━━━━\u001b[0m\u001b[37m\u001b[0m \u001b[1m0s\u001b[0m 640us/step - accuracy: 0.7168 - loss: 0.5102 - val_accuracy: 0.7317 - val_loss: 0.5318\n",
            "Epoch 357/400\n",
            "\u001b[1m62/62\u001b[0m \u001b[32m━━━━━━━━━━━━━━━━━━━━\u001b[0m\u001b[37m\u001b[0m \u001b[1m0s\u001b[0m 649us/step - accuracy: 0.7594 - loss: 0.4979 - val_accuracy: 0.7317 - val_loss: 0.5320\n",
            "Epoch 358/400\n",
            "\u001b[1m62/62\u001b[0m \u001b[32m━━━━━━━━━━━━━━━━━━━━\u001b[0m\u001b[37m\u001b[0m \u001b[1m0s\u001b[0m 633us/step - accuracy: 0.7099 - loss: 0.5460 - val_accuracy: 0.7317 - val_loss: 0.5311\n",
            "Epoch 359/400\n",
            "\u001b[1m62/62\u001b[0m \u001b[32m━━━━━━━━━━━━━━━━━━━━\u001b[0m\u001b[37m\u001b[0m \u001b[1m0s\u001b[0m 629us/step - accuracy: 0.7499 - loss: 0.4861 - val_accuracy: 0.7317 - val_loss: 0.5317\n",
            "Epoch 360/400\n",
            "\u001b[1m62/62\u001b[0m \u001b[32m━━━━━━━━━━━━━━━━━━━━\u001b[0m\u001b[37m\u001b[0m \u001b[1m0s\u001b[0m 642us/step - accuracy: 0.7320 - loss: 0.5401 - val_accuracy: 0.7317 - val_loss: 0.5310\n",
            "Epoch 361/400\n",
            "\u001b[1m62/62\u001b[0m \u001b[32m━━━━━━━━━━━━━━━━━━━━\u001b[0m\u001b[37m\u001b[0m \u001b[1m0s\u001b[0m 629us/step - accuracy: 0.7153 - loss: 0.5368 - val_accuracy: 0.7398 - val_loss: 0.5322\n",
            "Epoch 362/400\n",
            "\u001b[1m62/62\u001b[0m \u001b[32m━━━━━━━━━━━━━━━━━━━━\u001b[0m\u001b[37m\u001b[0m \u001b[1m0s\u001b[0m 632us/step - accuracy: 0.7139 - loss: 0.5483 - val_accuracy: 0.7317 - val_loss: 0.5308\n",
            "Epoch 363/400\n",
            "\u001b[1m62/62\u001b[0m \u001b[32m━━━━━━━━━━━━━━━━━━━━\u001b[0m\u001b[37m\u001b[0m \u001b[1m0s\u001b[0m 639us/step - accuracy: 0.7342 - loss: 0.5585 - val_accuracy: 0.7317 - val_loss: 0.5317\n",
            "Epoch 364/400\n",
            "\u001b[1m62/62\u001b[0m \u001b[32m━━━━━━━━━━━━━━━━━━━━\u001b[0m\u001b[37m\u001b[0m \u001b[1m0s\u001b[0m 640us/step - accuracy: 0.7227 - loss: 0.5256 - val_accuracy: 0.7317 - val_loss: 0.5315\n",
            "Epoch 365/400\n",
            "\u001b[1m62/62\u001b[0m \u001b[32m━━━━━━━━━━━━━━━━━━━━\u001b[0m\u001b[37m\u001b[0m \u001b[1m0s\u001b[0m 773us/step - accuracy: 0.7402 - loss: 0.5002 - val_accuracy: 0.7317 - val_loss: 0.5313\n",
            "Epoch 366/400\n",
            "\u001b[1m62/62\u001b[0m \u001b[32m━━━━━━━━━━━━━━━━━━━━\u001b[0m\u001b[37m\u001b[0m \u001b[1m0s\u001b[0m 639us/step - accuracy: 0.6702 - loss: 0.5308 - val_accuracy: 0.7317 - val_loss: 0.5308\n",
            "Epoch 367/400\n",
            "\u001b[1m62/62\u001b[0m \u001b[32m━━━━━━━━━━━━━━━━━━━━\u001b[0m\u001b[37m\u001b[0m \u001b[1m0s\u001b[0m 645us/step - accuracy: 0.7479 - loss: 0.4878 - val_accuracy: 0.7236 - val_loss: 0.5303\n",
            "Epoch 368/400\n",
            "\u001b[1m62/62\u001b[0m \u001b[32m━━━━━━━━━━━━━━━━━━━━\u001b[0m\u001b[37m\u001b[0m \u001b[1m0s\u001b[0m 634us/step - accuracy: 0.6944 - loss: 0.5567 - val_accuracy: 0.7317 - val_loss: 0.5304\n",
            "Epoch 369/400\n",
            "\u001b[1m62/62\u001b[0m \u001b[32m━━━━━━━━━━━━━━━━━━━━\u001b[0m\u001b[37m\u001b[0m \u001b[1m0s\u001b[0m 642us/step - accuracy: 0.7012 - loss: 0.5708 - val_accuracy: 0.7317 - val_loss: 0.5307\n",
            "Epoch 370/400\n",
            "\u001b[1m62/62\u001b[0m \u001b[32m━━━━━━━━━━━━━━━━━━━━\u001b[0m\u001b[37m\u001b[0m \u001b[1m0s\u001b[0m 648us/step - accuracy: 0.7097 - loss: 0.5151 - val_accuracy: 0.7317 - val_loss: 0.5308\n",
            "Epoch 371/400\n",
            "\u001b[1m62/62\u001b[0m \u001b[32m━━━━━━━━━━━━━━━━━━━━\u001b[0m\u001b[37m\u001b[0m \u001b[1m0s\u001b[0m 650us/step - accuracy: 0.7174 - loss: 0.5658 - val_accuracy: 0.7317 - val_loss: 0.5312\n",
            "Epoch 372/400\n",
            "\u001b[1m62/62\u001b[0m \u001b[32m━━━━━━━━━━━━━━━━━━━━\u001b[0m\u001b[37m\u001b[0m \u001b[1m0s\u001b[0m 644us/step - accuracy: 0.7508 - loss: 0.5035 - val_accuracy: 0.7317 - val_loss: 0.5311\n",
            "Epoch 373/400\n",
            "\u001b[1m62/62\u001b[0m \u001b[32m━━━━━━━━━━━━━━━━━━━━\u001b[0m\u001b[37m\u001b[0m \u001b[1m0s\u001b[0m 630us/step - accuracy: 0.6973 - loss: 0.5515 - val_accuracy: 0.7398 - val_loss: 0.5314\n",
            "Epoch 374/400\n",
            "\u001b[1m62/62\u001b[0m \u001b[32m━━━━━━━━━━━━━━━━━━━━\u001b[0m\u001b[37m\u001b[0m \u001b[1m0s\u001b[0m 637us/step - accuracy: 0.7142 - loss: 0.5225 - val_accuracy: 0.7398 - val_loss: 0.5322\n",
            "Epoch 375/400\n",
            "\u001b[1m62/62\u001b[0m \u001b[32m━━━━━━━━━━━━━━━━━━━━\u001b[0m\u001b[37m\u001b[0m \u001b[1m0s\u001b[0m 640us/step - accuracy: 0.7267 - loss: 0.5329 - val_accuracy: 0.7398 - val_loss: 0.5320\n",
            "Epoch 376/400\n",
            "\u001b[1m62/62\u001b[0m \u001b[32m━━━━━━━━━━━━━━━━━━━━\u001b[0m\u001b[37m\u001b[0m \u001b[1m0s\u001b[0m 630us/step - accuracy: 0.7363 - loss: 0.5308 - val_accuracy: 0.7398 - val_loss: 0.5312\n",
            "Epoch 377/400\n",
            "\u001b[1m62/62\u001b[0m \u001b[32m━━━━━━━━━━━━━━━━━━━━\u001b[0m\u001b[37m\u001b[0m \u001b[1m0s\u001b[0m 643us/step - accuracy: 0.7374 - loss: 0.5324 - val_accuracy: 0.7317 - val_loss: 0.5308\n",
            "Epoch 378/400\n",
            "\u001b[1m62/62\u001b[0m \u001b[32m━━━━━━━━━━━━━━━━━━━━\u001b[0m\u001b[37m\u001b[0m \u001b[1m0s\u001b[0m 786us/step - accuracy: 0.7452 - loss: 0.4878 - val_accuracy: 0.7317 - val_loss: 0.5309\n",
            "Epoch 379/400\n",
            "\u001b[1m62/62\u001b[0m \u001b[32m━━━━━━━━━━━━━━━━━━━━\u001b[0m\u001b[37m\u001b[0m \u001b[1m0s\u001b[0m 634us/step - accuracy: 0.7455 - loss: 0.5290 - val_accuracy: 0.7317 - val_loss: 0.5303\n",
            "Epoch 380/400\n",
            "\u001b[1m62/62\u001b[0m \u001b[32m━━━━━━━━━━━━━━━━━━━━\u001b[0m\u001b[37m\u001b[0m \u001b[1m0s\u001b[0m 636us/step - accuracy: 0.7436 - loss: 0.5021 - val_accuracy: 0.7317 - val_loss: 0.5304\n",
            "Epoch 381/400\n",
            "\u001b[1m62/62\u001b[0m \u001b[32m━━━━━━━━━━━━━━━━━━━━\u001b[0m\u001b[37m\u001b[0m \u001b[1m0s\u001b[0m 643us/step - accuracy: 0.7052 - loss: 0.5468 - val_accuracy: 0.7317 - val_loss: 0.5302\n",
            "Epoch 382/400\n",
            "\u001b[1m62/62\u001b[0m \u001b[32m━━━━━━━━━━━━━━━━━━━━\u001b[0m\u001b[37m\u001b[0m \u001b[1m0s\u001b[0m 634us/step - accuracy: 0.7158 - loss: 0.5251 - val_accuracy: 0.7317 - val_loss: 0.5306\n",
            "Epoch 383/400\n",
            "\u001b[1m62/62\u001b[0m \u001b[32m━━━━━━━━━━━━━━━━━━━━\u001b[0m\u001b[37m\u001b[0m \u001b[1m0s\u001b[0m 651us/step - accuracy: 0.7224 - loss: 0.5283 - val_accuracy: 0.7317 - val_loss: 0.5306\n",
            "Epoch 384/400\n",
            "\u001b[1m62/62\u001b[0m \u001b[32m━━━━━━━━━━━━━━━━━━━━\u001b[0m\u001b[37m\u001b[0m \u001b[1m0s\u001b[0m 649us/step - accuracy: 0.7307 - loss: 0.5258 - val_accuracy: 0.7398 - val_loss: 0.5310\n",
            "Epoch 385/400\n",
            "\u001b[1m62/62\u001b[0m \u001b[32m━━━━━━━━━━━━━━━━━━━━\u001b[0m\u001b[37m\u001b[0m \u001b[1m0s\u001b[0m 643us/step - accuracy: 0.7524 - loss: 0.5073 - val_accuracy: 0.7317 - val_loss: 0.5308\n",
            "Epoch 386/400\n",
            "\u001b[1m62/62\u001b[0m \u001b[32m━━━━━━━━━━━━━━━━━━━━\u001b[0m\u001b[37m\u001b[0m \u001b[1m0s\u001b[0m 647us/step - accuracy: 0.7450 - loss: 0.5316 - val_accuracy: 0.7317 - val_loss: 0.5305\n",
            "Epoch 387/400\n",
            "\u001b[1m62/62\u001b[0m \u001b[32m━━━━━━━━━━━━━━━━━━━━\u001b[0m\u001b[37m\u001b[0m \u001b[1m0s\u001b[0m 630us/step - accuracy: 0.6881 - loss: 0.5233 - val_accuracy: 0.7317 - val_loss: 0.5305\n",
            "Epoch 388/400\n",
            "\u001b[1m62/62\u001b[0m \u001b[32m━━━━━━━━━━━━━━━━━━━━\u001b[0m\u001b[37m\u001b[0m \u001b[1m0s\u001b[0m 640us/step - accuracy: 0.7344 - loss: 0.5151 - val_accuracy: 0.7398 - val_loss: 0.5308\n",
            "Epoch 389/400\n",
            "\u001b[1m62/62\u001b[0m \u001b[32m━━━━━━━━━━━━━━━━━━━━\u001b[0m\u001b[37m\u001b[0m \u001b[1m0s\u001b[0m 649us/step - accuracy: 0.6986 - loss: 0.5315 - val_accuracy: 0.7317 - val_loss: 0.5304\n",
            "Epoch 390/400\n",
            "\u001b[1m62/62\u001b[0m \u001b[32m━━━━━━━━━━━━━━━━━━━━\u001b[0m\u001b[37m\u001b[0m \u001b[1m0s\u001b[0m 630us/step - accuracy: 0.6982 - loss: 0.5358 - val_accuracy: 0.7317 - val_loss: 0.5302\n",
            "Epoch 391/400\n",
            "\u001b[1m62/62\u001b[0m \u001b[32m━━━━━━━━━━━━━━━━━━━━\u001b[0m\u001b[37m\u001b[0m \u001b[1m0s\u001b[0m 737us/step - accuracy: 0.7557 - loss: 0.5096 - val_accuracy: 0.7317 - val_loss: 0.5303\n",
            "Epoch 392/400\n",
            "\u001b[1m62/62\u001b[0m \u001b[32m━━━━━━━━━━━━━━━━━━━━\u001b[0m\u001b[37m\u001b[0m \u001b[1m0s\u001b[0m 631us/step - accuracy: 0.7263 - loss: 0.5552 - val_accuracy: 0.7317 - val_loss: 0.5304\n",
            "Epoch 393/400\n",
            "\u001b[1m62/62\u001b[0m \u001b[32m━━━━━━━━━━━━━━━━━━━━\u001b[0m\u001b[37m\u001b[0m \u001b[1m0s\u001b[0m 625us/step - accuracy: 0.7711 - loss: 0.5069 - val_accuracy: 0.7398 - val_loss: 0.5309\n",
            "Epoch 394/400\n",
            "\u001b[1m62/62\u001b[0m \u001b[32m━━━━━━━━━━━━━━━━━━━━\u001b[0m\u001b[37m\u001b[0m \u001b[1m0s\u001b[0m 621us/step - accuracy: 0.7333 - loss: 0.4850 - val_accuracy: 0.7398 - val_loss: 0.5313\n",
            "Epoch 395/400\n",
            "\u001b[1m62/62\u001b[0m \u001b[32m━━━━━━━━━━━━━━━━━━━━\u001b[0m\u001b[37m\u001b[0m \u001b[1m0s\u001b[0m 628us/step - accuracy: 0.7202 - loss: 0.5073 - val_accuracy: 0.7398 - val_loss: 0.5323\n",
            "Epoch 396/400\n",
            "\u001b[1m62/62\u001b[0m \u001b[32m━━━━━━━━━━━━━━━━━━━━\u001b[0m\u001b[37m\u001b[0m \u001b[1m0s\u001b[0m 626us/step - accuracy: 0.7101 - loss: 0.5405 - val_accuracy: 0.7398 - val_loss: 0.5317\n",
            "Epoch 397/400\n",
            "\u001b[1m62/62\u001b[0m \u001b[32m━━━━━━━━━━━━━━━━━━━━\u001b[0m\u001b[37m\u001b[0m \u001b[1m0s\u001b[0m 638us/step - accuracy: 0.7198 - loss: 0.5536 - val_accuracy: 0.7398 - val_loss: 0.5310\n",
            "Epoch 398/400\n",
            "\u001b[1m62/62\u001b[0m \u001b[32m━━━━━━━━━━━━━━━━━━━━\u001b[0m\u001b[37m\u001b[0m \u001b[1m0s\u001b[0m 654us/step - accuracy: 0.7466 - loss: 0.5390 - val_accuracy: 0.7317 - val_loss: 0.5305\n",
            "Epoch 399/400\n",
            "\u001b[1m62/62\u001b[0m \u001b[32m━━━━━━━━━━━━━━━━━━━━\u001b[0m\u001b[37m\u001b[0m \u001b[1m0s\u001b[0m 640us/step - accuracy: 0.6980 - loss: 0.5400 - val_accuracy: 0.7236 - val_loss: 0.5303\n",
            "Epoch 400/400\n",
            "\u001b[1m62/62\u001b[0m \u001b[32m━━━━━━━━━━━━━━━━━━━━\u001b[0m\u001b[37m\u001b[0m \u001b[1m0s\u001b[0m 627us/step - accuracy: 0.7537 - loss: 0.5059 - val_accuracy: 0.7398 - val_loss: 0.5312\n"
          ]
        }
      ],
      "source": [
        "run_hist = model_nn.fit(X_tr, y_tr, epochs=400, batch_size=8, validation_data=(X_val,y_val),shuffle=True)"
      ]
    },
    {
      "cell_type": "code",
      "execution_count": 18,
      "metadata": {
        "colab": {
          "base_uri": "https://localhost:8080/"
        },
        "id": "ql7tDc7gX3t-",
        "outputId": "356c7ecc-d91f-441e-a1cf-cd0dc72d4c62"
      },
      "outputs": [
        {
          "name": "stdout",
          "output_type": "stream",
          "text": [
            "\u001b[1m5/5\u001b[0m \u001b[32m━━━━━━━━━━━━━━━━━━━━\u001b[0m\u001b[37m\u001b[0m \u001b[1m0s\u001b[0m 1ms/step - accuracy: 0.7758 - loss: 0.4819 \n",
            "Test loss:  0.46644487977027893\n",
            "Test accuracy:  0.8051947951316833\n"
          ]
        }
      ],
      "source": [
        "evaluate = model_nn.evaluate(X_test,y_test,batch_size=32)\n",
        "\n",
        "print('Test loss: ', evaluate[0])\n",
        "print('Test accuracy: ', evaluate[1])"
      ]
    },
    {
      "cell_type": "code",
      "execution_count": 19,
      "metadata": {
        "colab": {
          "base_uri": "https://localhost:8080/"
        },
        "id": "m7wxzqbELWlu",
        "outputId": "ef613215-7b6e-4d06-df80-f2fbcdbecb86"
      },
      "outputs": [
        {
          "data": {
            "text/plain": [
              "dict_keys(['accuracy', 'loss', 'val_accuracy', 'val_loss'])"
            ]
          },
          "execution_count": 19,
          "metadata": {},
          "output_type": "execute_result"
        }
      ],
      "source": [
        "run_hist.history.keys()"
      ]
    },
    {
      "cell_type": "code",
      "execution_count": 20,
      "metadata": {
        "colab": {
          "base_uri": "https://localhost:8080/",
          "height": 563
        },
        "id": "hDwD5hjWQYr8",
        "outputId": "83d5a564-92ce-4f2a-f52f-355b16567048"
      },
      "outputs": [
        {
          "data": {
            "text/plain": [
              "Text(0.5, 1.0, 'Accuracy over iterations')"
            ]
          },
          "execution_count": 20,
          "metadata": {},
          "output_type": "execute_result"
        },
        {
          "data": {
            "image/png": "[encoded data removed]",
            "text/plain": [
              "<Figure size 1200x600 with 2 Axes>"
            ]
          },
          "metadata": {},
          "output_type": "display_data"
        }
      ],
      "source": [
        "n = len(run_hist.history[\"loss\"])\n",
        "\n",
        "fig = plt.figure(figsize=(12, 6))\n",
        "ax = fig.add_subplot(1, 2, 1)\n",
        "ax.plot(range(n), (run_hist.history[\"loss\"]),'r.', label=\"Train Loss\")\n",
        "ax.plot(range(n), (run_hist.history[\"val_loss\"]),'b.', label=\"Validation Loss\")\n",
        "ax.legend()\n",
        "ax.set_title('Loss over iterations')\n",
        "\n",
        "ax = fig.add_subplot(1, 2, 2)\n",
        "ax.plot(range(n), (run_hist.history[\"accuracy\"]),'r.', label=\"Train Acc\")\n",
        "ax.plot(range(n), (run_hist.history[\"val_accuracy\"]),'b.', label=\"Validation Acc\")\n",
        "ax.legend(loc='lower right')\n",
        "ax.set_title('Accuracy over iterations')"
      ]
    },
    {
      "cell_type": "code",
      "execution_count": null,
      "metadata": {
        "id": "_Re0vDyOVhO9"
      },
      "outputs": [],
      "source": []
    }
  ],
  "metadata": {
    "colab": {
      "provenance": []
    },
    "kernelspec": {
      "display_name": "Python 3",
      "name": "python3"
    },
    "language_info": {
      "codemirror_mode": {
        "name": "ipython",
        "version": 3
      },
      "file_extension": ".py",
      "mimetype": "text/x-python",
      "name": "python",
      "nbconvert_exporter": "python",
      "pygments_lexer": "ipython3",
      "version": "3.11.8"
    }
  },
  "nbformat": 4,
  "nbformat_minor": 0
}
